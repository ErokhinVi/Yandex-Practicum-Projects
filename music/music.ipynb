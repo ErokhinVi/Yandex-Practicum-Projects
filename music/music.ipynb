{
 "cells": [
  {
   "cell_type": "markdown",
   "metadata": {
    "deletable": false,
    "editable": false,
    "id": "E0vqbgi9ay0H"
   },
   "source": [
    "# Яндекс Музыка"
   ]
  },
  {
   "cell_type": "markdown",
   "metadata": {
    "deletable": false,
    "id": "VUC88oWjTJw2"
   },
   "source": [
    "Сравнение Москвы и Петербурга окружено мифами. Например:\n",
    " * Москва — мегаполис, подчинённый жёсткому ритму рабочей недели;\n",
    " * Петербург — культурная столица, со своими вкусами.\n",
    "\n",
    "На данных Яндекс Музыки мы сравним поведение пользователей двух столиц.\n",
    "\n",
    "**Цель исследования** — проверить три гипотезы:\n",
    "1. Активность пользователей зависит от дня недели. Причём в Москве и Петербурге это проявляется по-разному.\n",
    "2. В понедельник утром в Москве преобладают одни жанры, а в Петербурге — другие. Так же и вечером пятницы преобладают разные жанры — в зависимости от города. \n",
    "3. Москва и Петербург предпочитают разные жанры музыки. В Москве чаще слушают поп-музыку, в Петербурге — русский рэп.\n",
    "\n",
    "**Ход исследования**\n",
    "Проверим данные на ошибки и оценим их влияние на исследование. Затем, на этапе предобработки найдем возможность исправить самые критичные ошибки данных.\n",
    " \n",
    "Таким образом, исследование пройдёт в три этапа:\n",
    " 1. Обзор данных.\n",
    " 2. Предобработка данных.\n",
    " 3. Проверка гипотез.\n",
    "\n"
   ]
  },
  {
   "cell_type": "markdown",
   "metadata": {},
   "source": [
    "## Обзор данных"
   ]
  },
  {
   "cell_type": "code",
   "execution_count": null,
   "metadata": {
    "deletable": false,
    "id": "AXN7PHPN_Zcs"
   },
   "outputs": [],
   "source": [
    "import pandas as pd # импорт библиотеки pandas"
   ]
  },
  {
   "cell_type": "code",
   "execution_count": null,
   "metadata": {
    "deletable": false,
    "id": "fFVu7vqh_Zct"
   },
   "outputs": [],
   "source": [
    "df = pd.read_csv('/datasets/yandex_music_project.csv') # чтение файла с данными и сохранение в df"
   ]
  },
  {
   "cell_type": "code",
   "execution_count": null,
   "metadata": {
    "deletable": false,
    "id": "oWTVX3gW_Zct"
   },
   "outputs": [],
   "source": [
    "df.head(10)# получение первых 10 строк таблицы df"
   ]
  },
  {
   "cell_type": "code",
   "execution_count": null,
   "metadata": {
    "deletable": false,
    "id": "DSf2kIb-_Zct"
   },
   "outputs": [],
   "source": [
    "df.info()# получение общей информации о данных в таблице df"
   ]
  },
  {
   "cell_type": "markdown",
   "metadata": {
    "deletable": false,
    "editable": false,
    "id": "TaQ2Iwbr_Zct"
   },
   "source": [
    "Итак, в таблице семь столбцов. Тип данных во всех столбцах — `object`.\n",
    "\n",
    "Согласно документации к данным:\n",
    "* `userID` — идентификатор пользователя;\n",
    "* `Track` — название трека;  \n",
    "* `artist` — имя исполнителя;\n",
    "* `genre` — название жанра;\n",
    "* `City` — город пользователя;\n",
    "* `time` — время начала прослушивания;\n",
    "* `Day` — день недели.\n",
    "\n",
    "Количество значений в столбцах различается. Значит, в данных есть пропущенные значения."
   ]
  },
  {
   "cell_type": "markdown",
   "metadata": {
    "deletable": false,
    "editable": false,
    "id": "MCB6-dXG_Zct"
   },
   "source": [
    "**Выводы**\n",
    "\n",
    "В каждой строке таблицы — данные о прослушанном треке. Часть колонок описывает саму композицию: название, исполнителя и жанр. Остальные данные рассказывают о пользователе: из какого он города, когда он слушал музыку. \n",
    "\n",
    "Предварительно можно утверждать, что данных достаточно для проверки гипотез. Но встречаются пропуски в данных, а в названиях колонок — расхождения с хорошим стилем.\n",
    "\n",
    "Чтобы двигаться дальше, нужно устранить проблемы в данных."
   ]
  },
  {
   "cell_type": "markdown",
   "metadata": {
    "deletable": false,
    "id": "SjYF6Ub9_Zct"
   },
   "source": [
    "## Предобработка данных\n",
    "Исправим стиль в заголовках столбцов, исключим пропуски. Затем проверим данные на дубликаты."
   ]
  },
  {
   "cell_type": "code",
   "execution_count": null,
   "metadata": {
    "deletable": false,
    "id": "oKOTdF_Q_Zct"
   },
   "outputs": [],
   "source": [
    "df.columns# перечень названий столбцов таблицы df"
   ]
  },
  {
   "cell_type": "code",
   "execution_count": null,
   "metadata": {
    "deletable": false,
    "id": "ISlFqs5y_Zct"
   },
   "outputs": [],
   "source": [
    "df = df.rename(columns = {'  userID':'user_id','Track':'track','  City  ':'city', 'Day':'day'})\n",
    "# переименование столбцов"
   ]
  },
  {
   "cell_type": "code",
   "execution_count": null,
   "metadata": {
    "deletable": false,
    "id": "d4NOAmTW_Zct"
   },
   "outputs": [],
   "source": [
    "df.columns# проверка результатов - перечень названий столбцов"
   ]
  },
  {
   "cell_type": "code",
   "execution_count": null,
   "metadata": {
    "deletable": false,
    "id": "RskX29qr_Zct"
   },
   "outputs": [],
   "source": [
    "df.isna().sum()# подсчёт пропусков"
   ]
  },
  {
   "cell_type": "markdown",
   "metadata": {
    "deletable": false,
    "editable": false,
    "id": "qubhgnlO_Zct"
   },
   "source": [
    "Не все пропущенные значения влияют на исследование. Так в `track` и `artist` пропуски не важны для вашей работы. Достаточно заменить их явными обозначениями.\n",
    "\n",
    "Но пропуски в `genre` могут помешать сравнению музыкальных вкусов в Москве и Санкт-Петербурге. На практике было бы правильно установить причину пропусков и восстановить данные. Такой возможности нет в учебном проекте. Придётся:\n",
    "* заполнить и эти пропуски явными обозначениями;\n",
    "* оценить, насколько они повредят расчётам. "
   ]
  },
  {
   "cell_type": "code",
   "execution_count": null,
   "metadata": {
    "deletable": false,
    "id": "KplB5qWs_Zct"
   },
   "outputs": [],
   "source": [
    "columns_to_replace = ['track', 'artist', 'genre'] # перебор названий столбцов в цикле и замена пропущенных значений на 'unknown'\n",
    "    \n",
    "for replace_name in columns_to_replace:\n",
    "    df[replace_name] = df[replace_name].fillna('unknown')\n",
    "    "
   ]
  },
  {
   "cell_type": "code",
   "execution_count": null,
   "metadata": {
    "deletable": false,
    "id": "Tq4nYRX4_Zct"
   },
   "outputs": [],
   "source": [
    "df.isna().sum()# подсчёт пропусков"
   ]
  },
  {
   "cell_type": "markdown",
   "metadata": {},
   "source": [
    "### Дубликаты\n",
    "\n"
   ]
  },
  {
   "cell_type": "code",
   "execution_count": null,
   "metadata": {
    "deletable": false,
    "id": "36eES_S0_Zct"
   },
   "outputs": [],
   "source": [
    "df.duplicated().sum()# подсчёт явных дубликатов"
   ]
  },
  {
   "cell_type": "code",
   "execution_count": null,
   "metadata": {
    "deletable": false,
    "id": "exFHq6tt_Zct"
   },
   "outputs": [],
   "source": [
    "df = df.drop_duplicates().reset_index(drop = True)# удаление явных дубликатов"
   ]
  },
  {
   "cell_type": "code",
   "execution_count": null,
   "metadata": {
    "deletable": false,
    "id": "-8PuNWQ0_Zct"
   },
   "outputs": [],
   "source": [
    "df.duplicated().sum()# проверка на отсутствие дубликатов"
   ]
  },
  {
   "cell_type": "markdown",
   "metadata": {
    "deletable": false,
    "id": "QlFBsxAr_Zct"
   },
   "source": [
    "Теперь избавимся от неявных дубликатов в колонке `genre`. Например, название одного и того же жанра может быть записано немного по-разному. Такие ошибки тоже повлияют на результат исследования."
   ]
  },
  {
   "cell_type": "code",
   "execution_count": null,
   "metadata": {
    "deletable": false,
    "id": "JIUcqzZN_Zct"
   },
   "outputs": [],
   "source": [
    "df['genre'].sort_values().unique()# Просмотр уникальных названий жанров"
   ]
  },
  {
   "cell_type": "code",
   "execution_count": null,
   "metadata": {
    "deletable": false,
    "id": "ErNDkmns_Zct"
   },
   "outputs": [],
   "source": [
    "duplicates_list = ['hip','hop','hip-hop']\n",
    "\n",
    "df['genre'] = df['genre'].replace(duplicates_list,'hiphop')\n",
    "# Устранение неявных дубликатов"
   ]
  },
  {
   "cell_type": "code",
   "execution_count": null,
   "metadata": {
    "deletable": false,
    "id": "wvixALnFG15m"
   },
   "outputs": [],
   "source": [
    "df['genre'].sort_values().unique() # Проверка на неявные дубликаты"
   ]
  },
  {
   "cell_type": "markdown",
   "metadata": {
    "deletable": false,
    "id": "jz6a9-7HQUDd"
   },
   "source": [
    "**Выводы**\n",
    "\n",
    "Предобработка обнаружила три проблемы в данных:\n",
    "\n",
    "- нарушения в стиле заголовков,\n",
    "- пропущенные значения,\n",
    "- дубликаты — явные и неявные.\n",
    "\n",
    "Мы исправили заголовки, чтобы упростить работу с таблицей. Без дубликатов исследование станет более точным.\n",
    "\n",
    "Пропущенные значения мы заменили на `'unknown'`. Ещё предстоит увидеть, не повредят ли исследованию пропуски в колонке `genre`.\n",
    "\n",
    "Теперь можно перейти к проверке гипотез. "
   ]
  },
  {
   "cell_type": "markdown",
   "metadata": {
    "deletable": false,
    "editable": false,
    "id": "WttZHXH0SqKk"
   },
   "source": [
    "## Проверка гипотез"
   ]
  },
  {
   "cell_type": "markdown",
   "metadata": {
    "deletable": false,
    "editable": false,
    "id": "Im936VVi_Zcu"
   },
   "source": [
    "### Сравнение поведения пользователей двух столиц"
   ]
  },
  {
   "cell_type": "markdown",
   "metadata": {
    "deletable": false,
    "editable": false,
    "id": "nwt_MuaL_Zcu"
   },
   "source": [
    "Первая гипотеза утверждает, что пользователи по-разному слушают музыку в Москве и Санкт-Петербурге. Проверьте это предположение по данным о трёх днях недели — понедельнике, среде и пятнице. Для этого:\n",
    "\n",
    "* Разделите пользователей Москвы и Санкт-Петербурга.\n",
    "* Сравните, сколько треков послушала каждая группа пользователей в понедельник, среду и пятницу.\n"
   ]
  },
  {
   "cell_type": "code",
   "execution_count": null,
   "metadata": {
    "deletable": false,
    "id": "0_Qs96oh_Zcu"
   },
   "outputs": [],
   "source": [
    "df.groupby('city')['artist'].count()# Подсчёт прослушиваний в каждом городе"
   ]
  },
  {
   "cell_type": "code",
   "execution_count": null,
   "metadata": {
    "deletable": false,
    "id": "uZMKjiJz_Zcu"
   },
   "outputs": [],
   "source": [
    "df.groupby('day')['day'].count()# Подсчёт прослушиваний в каждый из трёх дней"
   ]
  },
  {
   "cell_type": "markdown",
   "metadata": {
    "deletable": false,
    "editable": false,
    "id": "cC2tNrlL_Zcu"
   },
   "source": [
    "В среднем пользователи из двух городов менее активны по средам. Но картина может измениться, если рассмотреть каждый город в отдельности."
   ]
  },
  {
   "cell_type": "code",
   "execution_count": null,
   "metadata": {
    "deletable": false,
    "id": "Nz3GdQB1_Zcu"
   },
   "outputs": [],
   "source": [
    "# <создание функции number_tracks()>   \n",
    "# Объявляется функция с двумя параметрами: day, city.\n",
    "def number_tracks(day, city):      \n",
    "# В переменной track_list сохраняются те строки таблицы df, для которых \n",
    "# значение в столбце 'day' равно параметру day и одновременно значение\n",
    "# в столбце 'city' равно параметру city (используйте последовательную фильтрацию\n",
    "# с помощью логической индексации или сложные логические выражения в одну строку, если вы уже знакомы с ними).\n",
    "    track_list = df[df['day'] == day]\n",
    "    track_list = track_list[track_list['city'] == city]\n",
    "# В переменной track_list_count сохраняется число значений столбца 'user_id',\n",
    "# рассчитанное методом count() для таблицы track_list.\n",
    "    track_list_count = track_list['user_id'].count()\n",
    "# Функция возвращает число - значение track_list_count.\n",
    "    return track_list_count\n",
    "\n",
    "# Функция для подсчёта прослушиваний для конкретного города и дня.\n",
    "# С помощью последовательной фильтрации с логической индексацией она \n",
    "# сначала получит из исходной таблицы строки с нужным днём,\n",
    "# затем из результата отфильтрует строки с нужным городом,\n",
    "# методом count() посчитает количество значений в колонке user_id. \n",
    "# Это количество функция вернёт в качестве результата"
   ]
  },
  {
   "cell_type": "code",
   "execution_count": null,
   "metadata": {
    "deletable": false,
    "id": "rJcRATNQ_Zcu"
   },
   "outputs": [],
   "source": [
    "number_tracks('Monday', 'Moscow') # количество прослушиваний в Москве по понедельникам"
   ]
  },
  {
   "cell_type": "code",
   "execution_count": null,
   "metadata": {
    "deletable": false,
    "id": "hq_ncZ5T_Zcu"
   },
   "outputs": [],
   "source": [
    "number_tracks('Monday', 'Saint-Petersburg') # количество прослушиваний в Санкт-Петербурге по понедельникам"
   ]
  },
  {
   "cell_type": "code",
   "execution_count": null,
   "metadata": {
    "deletable": false,
    "id": "_NTy2VPU_Zcu"
   },
   "outputs": [],
   "source": [
    "number_tracks('Wednesday', 'Moscow') # количество прослушиваний в Москве по средам"
   ]
  },
  {
   "cell_type": "code",
   "execution_count": null,
   "metadata": {
    "deletable": false,
    "id": "j2y3TAwo_Zcu"
   },
   "outputs": [],
   "source": [
    "number_tracks('Wednesday', 'Saint-Petersburg') # количество прослушиваний в Санкт-Петербурге по средам"
   ]
  },
  {
   "cell_type": "code",
   "execution_count": null,
   "metadata": {
    "deletable": false,
    "id": "vYDw5u_K_Zcu"
   },
   "outputs": [],
   "source": [
    "number_tracks('Friday', 'Moscow') # количество прослушиваний в Москве по пятницам"
   ]
  },
  {
   "cell_type": "code",
   "execution_count": null,
   "metadata": {
    "deletable": false,
    "id": "8_yzFtW3_Zcu"
   },
   "outputs": [],
   "source": [
    "number_tracks('Friday', 'Saint-Petersburg') # количество прослушиваний в Санкт-Петербурге по пятницам"
   ]
  },
  {
   "cell_type": "code",
   "execution_count": null,
   "metadata": {
    "deletable": false,
    "id": "APAcLpOr_Zcu"
   },
   "outputs": [],
   "source": [
    "days = ['Monday', 'Wednesday', 'Friday']\n",
    "cities = ['Moscow', 'Saint-Petersburg']\n",
    "\n",
    "df_columns = ['city', 'monday', 'wednesday', 'friday']\n",
    "df_result = [['Moscow',15740, 11056, 15945],['Saint-Petersburg', 5614, 7003, 5895]]\n",
    "\n",
    "final_df = pd.DataFrame(data = df_result, columns = df_columns)\n",
    "print(final_df)\n",
    " # Таблица с результатами"
   ]
  },
  {
   "cell_type": "markdown",
   "metadata": {
    "deletable": false,
    "editable": false,
    "id": "-EgPIHYu_Zcu"
   },
   "source": [
    "**Выводы**\n",
    "\n",
    "Данные показывают разницу поведения пользователей:\n",
    "\n",
    "- В Москве пик прослушиваний приходится на понедельник и пятницу, а в среду заметен спад.\n",
    "- В Петербурге, наоборот, больше слушают музыку по средам. Активность в понедельник и пятницу здесь почти в равной мере уступает среде.\n",
    "\n",
    "Значит, данные говорят в пользу первой гипотезы."
   ]
  },
  {
   "cell_type": "markdown",
   "metadata": {
    "deletable": false,
    "editable": false,
    "id": "atZAxtq4_Zcu"
   },
   "source": [
    "### Музыка в начале и в конце недели"
   ]
  },
  {
   "cell_type": "markdown",
   "metadata": {
    "deletable": false,
    "editable": false,
    "id": "eXrQqXFH_Zcu"
   },
   "source": [
    "Согласно второй гипотезе, утром в понедельник в Москве преобладают одни жанры, а в Петербурге — другие. Так же и вечером пятницы преобладают разные жанры — в зависимости от города."
   ]
  },
  {
   "cell_type": "code",
   "execution_count": null,
   "metadata": {
    "deletable": false,
    "id": "qeaFfM_P_Zcu"
   },
   "outputs": [],
   "source": [
    "moscow_general = df[df['city'] == 'Moscow']\n",
    "print(moscow_general)# получение таблицы moscow_general из тех строк таблицы df, \n",
    "# для которых значение в столбце 'city' равно 'Moscow'\n"
   ]
  },
  {
   "cell_type": "code",
   "execution_count": null,
   "metadata": {
    "deletable": false,
    "id": "ORaVRKto_Zcu"
   },
   "outputs": [],
   "source": [
    "spb_general = df[df['city'] == 'Saint-Petersburg']# получение таблицы spb_general из тех строк таблицы df,\n",
    "# для которых значение в столбце 'city' равно 'Saint-Petersburg'\n"
   ]
  },
  {
   "cell_type": "code",
   "execution_count": null,
   "metadata": {
    "deletable": false,
    "id": "laJT9BYl_Zcu"
   },
   "outputs": [],
   "source": [
    "# Объявление функции genre_weekday() с параметрами table, day, time1, time2,\n",
    "# которая возвращает информацию о самых популярных жанрах в указанный день в\n",
    "# заданное время:\n",
    "# 1) в переменную genre_df сохраняются те строки переданного датафрейма table, для\n",
    "#    которых одновременно:\n",
    "#    - значение в столбце day равно значению аргумента day\n",
    "#    - значение в столбце time больше значения аргумента time1\n",
    "#    - значение в столбце time меньше значения аргумента time2\n",
    "#    Используйте последовательную фильтрацию с помощью логической индексации.\n",
    "# 2) сгруппировать датафрейм genre_df по столбцу genre, взять один из его\n",
    "#    столбцов и посчитать методом count() количество записей для каждого из\n",
    "#    присутствующих жанров, получившийся Series записать в переменную\n",
    "#    genre_df_count\n",
    "# 3) отсортировать genre_df_count по убыванию встречаемости и сохранить\n",
    "#    в переменную genre_df_sorted\n",
    "# 4) вернуть Series из 10 первых значений genre_df_sorted, это будут топ-10\n",
    "#    популярных жанров (в указанный день, в заданное время)\n",
    "\n",
    "def genre_weekday(df, day, time1, time2):    \n",
    "    # последовательная фильтрация\n",
    "    # оставляем в genre_df только те строки df, у которых день равен day\n",
    "    genre_df = genre_df = df[df['day'] == day]\n",
    "    # оставляем в genre_df только те строки genre_df, у которых время меньше time2\n",
    "    genre_df = genre_df = genre_df[genre_df['time'] < time2]\n",
    "    # оставляем в genre_df только те строки genre_df, у которых время больше time1\n",
    "    genre_df = genre_df = genre_df[genre_df['time'] > time1]\n",
    "    # сгруппируем отфильтрованный датафрейм по столбцу с названиями жанров, возьмём столбец genre и посчитаем кол-во строк для каждого жанра методом count()\n",
    "    genre_df_grouped = genre_df.groupby('genre')['genre'].count() # ваш код здесь\n",
    "    # отсортируем результат по убыванию (чтобы в начале Series оказались самые популярные жанры)\n",
    "    genre_df_sorted = genre_df_grouped.sort_values(ascending = False) # ваш код здесь\n",
    "    # вернём Series с 10 самыми популярными жанрами в указанный отрезок времени заданного дня\n",
    "    return genre_df_sorted[:10]"
   ]
  },
  {
   "cell_type": "code",
   "execution_count": null,
   "metadata": {
    "deletable": false,
    "id": "yz7itPUQ_Zcu"
   },
   "outputs": [],
   "source": [
    "# вызов функции для утра понедельника в Москве (вместо df — таблица moscow_general)\n",
    "genre_weekday(moscow_general, 'Monday','07:00','11:00')\n",
    "# объекты, хранящие время, являются строками и сравниваются как строки\n",
    "# пример вызова: genre_weekday(moscow_general, 'Monday', '07:00', '11:00')"
   ]
  },
  {
   "cell_type": "code",
   "execution_count": null,
   "metadata": {
    "deletable": false,
    "id": "kwUcHPdy_Zcu"
   },
   "outputs": [],
   "source": [
    "genre_weekday(spb_general, 'Monday','07:00','11:00')# вызов функции для утра понедельника в Петербурге (вместо df — таблица spb_general)"
   ]
  },
  {
   "cell_type": "code",
   "execution_count": null,
   "metadata": {
    "deletable": false,
    "id": "EzXVRE1o_Zcu"
   },
   "outputs": [],
   "source": [
    "genre_weekday(moscow_general,'Friday','17:00','23:00')# вызов функции для вечера пятницы в Москве"
   ]
  },
  {
   "cell_type": "code",
   "execution_count": null,
   "metadata": {
    "deletable": false,
    "id": "JZaEKu5v_Zcu"
   },
   "outputs": [],
   "source": [
    "genre_weekday(spb_general,'Friday','17:00','23:00')# вызов функции для вечера пятницы в Петербурге"
   ]
  },
  {
   "cell_type": "markdown",
   "metadata": {
    "deletable": false,
    "editable": false,
    "id": "wrCe4MNX_Zcu"
   },
   "source": [
    "**Выводы**\n",
    "\n",
    "Если сравнить топ-10 жанров в понедельник утром, можно сделать такие выводы:\n",
    "\n",
    "1. В Москве и Петербурге слушают похожую музыку. Единственное отличие — в московский рейтинг вошёл жанр “world”, а в петербургский — джаз и классика.\n",
    "\n",
    "2. В Москве пропущенных значений оказалось так много, что значение `'unknown'` заняло десятое место среди самых популярных жанров. Значит, пропущенные значения занимают существенную долю в данных и угрожают достоверности исследования.\n",
    "\n",
    "Вечер пятницы не меняет эту картину. Некоторые жанры поднимаются немного выше, другие спускаются, но в целом топ-10 остаётся тем же самым.\n",
    "\n",
    "Таким образом, вторая гипотеза подтвердилась лишь частично:\n",
    "* Пользователи слушают похожую музыку в начале недели и в конце.\n",
    "* Разница между Москвой и Петербургом не слишком выражена. В Москве чаще слушают русскую популярную музыку, в Петербурге — джаз.\n",
    "\n",
    "Однако пропуски в данных ставят под сомнение этот результат. В Москве их так много, что рейтинг топ-10 мог бы выглядеть иначе, если бы не утерянные  данные о жанрах."
   ]
  },
  {
   "cell_type": "markdown",
   "metadata": {
    "deletable": false,
    "editable": false,
    "id": "JolODAqr_Zcu"
   },
   "source": [
    "### Жанровые предпочтения в Москве и Петербурге\n",
    "\n",
    "Гипотеза: Петербург — столица рэпа, музыку этого жанра там слушают чаще, чем в Москве.  А Москва — город контрастов, в котором, тем не менее, преобладает поп-музыка."
   ]
  },
  {
   "cell_type": "code",
   "execution_count": null,
   "metadata": {
    "deletable": false,
    "id": "r19lIPke_Zcu"
   },
   "outputs": [],
   "source": [
    "# одной строкой: группировка таблицы moscow_general по столбцу 'genre',\n",
    "moscow_genres = moscow_general.groupby('genre')['genre'].count().sort_values(ascending = False)\n",
    "# подсчёт числа значений 'genre' в этой группировке методом count(), \n",
    "# сортировка получившегося Series в порядке убывания и сохранение в moscow_genres"
   ]
  },
  {
   "cell_type": "code",
   "execution_count": null,
   "metadata": {
    "deletable": false,
    "id": "WhCSooF8_Zcv"
   },
   "outputs": [],
   "source": [
    "moscow_genres.head(10)# просмотр первых 10 строк moscow_genres"
   ]
  },
  {
   "cell_type": "code",
   "execution_count": null,
   "metadata": {
    "deletable": false,
    "id": "gluLIpE7_Zcv"
   },
   "outputs": [],
   "source": [
    "spb_genres = spb_general.groupby('genre')['genre'].count().sort_values(ascending = False)# одной строкой: группировка таблицы spb_general по столбцу 'genre', \n",
    "# подсчёт числа значений 'genre' в этой группировке методом count(), \n",
    "# сортировка получившегося Series в порядке убывания и сохранение в spb_genres"
   ]
  },
  {
   "cell_type": "code",
   "execution_count": null,
   "metadata": {
    "deletable": false,
    "id": "uaGJHjVU_Zcv"
   },
   "outputs": [],
   "source": [
    "spb_genres.head(10)# просмотр первых 10 строк spb_genres"
   ]
  },
  {
   "cell_type": "markdown",
   "metadata": {
    "deletable": false,
    "editable": false,
    "id": "RY51YJYu_Zcv"
   },
   "source": [
    "**Выводы**"
   ]
  },
  {
   "cell_type": "markdown",
   "metadata": {
    "deletable": false,
    "editable": false,
    "id": "nVhnJEm__Zcv"
   },
   "source": [
    "Гипотеза частично подтвердилась:\n",
    "* Поп-музыка — самый популярный жанр в Москве, как и предполагала гипотеза. Более того, в топ-10 жанров встречается близкий жанр — русская популярная музыка.\n",
    "* Вопреки ожиданиям, рэп одинаково популярен в Москве и Петербурге. \n"
   ]
  },
  {
   "cell_type": "markdown",
   "metadata": {
    "deletable": false,
    "editable": false,
    "id": "ykKQ0N65_Zcv"
   },
   "source": [
    "## Итоги исследования"
   ]
  },
  {
   "cell_type": "markdown",
   "metadata": {
    "deletable": false,
    "id": "tjUwbHb3_Zcv"
   },
   "source": [
    "1. День недели по-разному влияет на активность пользователей в Москве и Петербурге. \n",
    "\n",
    "Первая гипотеза полностью подтвердилась.\n",
    "\n",
    "2. Музыкальные предпочтения не сильно меняются в течение недели — будь то Москва или Петербург. Небольшие различия заметны в начале недели, по понедельникам:\n",
    "* в Москве слушают музыку жанра “world”,\n",
    "* в Петербурге — джаз и классику.\n",
    "\n",
    "Таким образом, вторая гипотеза подтвердилась лишь отчасти. Этот результат мог оказаться иным, если бы не пропуски в данных.\n",
    "\n",
    "3. Во вкусах пользователей Москвы и Петербурга больше общего чем различий. Вопреки ожиданиям, предпочтения жанров в Петербурге напоминают московские.\n",
    "\n",
    "Третья гипотеза не подтвердилась. Если различия в предпочтениях и существуют, на основной массе пользователей они незаметны.\n",
    "\n",
    "**На практике исследования содержат проверки статистических гипотез.**\n",
    "Из данных одного сервиса не всегда можно сделать вывод о всех жителях города.\n",
    "Проверки статистических гипотез покажут, насколько они достоверны, исходя из имеющихся данных. "
   ]
  }
 ],
 "metadata": {
  "ExecuteTimeLog": [
   {
    "duration": 409,
    "start_time": "2022-06-28T23:00:00.749Z"
   },
   {
    "duration": 84,
    "start_time": "2022-06-28T23:00:48.050Z"
   },
   {
    "duration": 203,
    "start_time": "2022-06-28T23:01:00.574Z"
   },
   {
    "duration": 151,
    "start_time": "2022-06-28T23:01:02.674Z"
   },
   {
    "duration": 16,
    "start_time": "2022-06-28T23:01:29.099Z"
   },
   {
    "duration": 8,
    "start_time": "2022-06-28T23:01:37.431Z"
   },
   {
    "duration": 27,
    "start_time": "2022-06-28T23:01:39.827Z"
   },
   {
    "duration": 2,
    "start_time": "2022-06-28T23:03:39.093Z"
   },
   {
    "duration": 4,
    "start_time": "2022-06-28T23:04:36.185Z"
   },
   {
    "duration": 49,
    "start_time": "2022-06-28T23:05:38.502Z"
   },
   {
    "duration": 29,
    "start_time": "2022-06-28T23:05:45.511Z"
   },
   {
    "duration": 31,
    "start_time": "2022-06-28T23:06:16.971Z"
   },
   {
    "duration": 30,
    "start_time": "2022-06-28T23:06:30.735Z"
   },
   {
    "duration": 29,
    "start_time": "2022-06-28T23:07:19.972Z"
   },
   {
    "duration": 37,
    "start_time": "2022-06-28T23:07:24.880Z"
   },
   {
    "duration": 35,
    "start_time": "2022-06-28T23:07:52.570Z"
   },
   {
    "duration": 9,
    "start_time": "2022-06-28T23:08:30.416Z"
   },
   {
    "duration": 23,
    "start_time": "2022-06-28T23:08:45.605Z"
   },
   {
    "duration": 14,
    "start_time": "2022-06-28T23:08:56.364Z"
   },
   {
    "duration": 10,
    "start_time": "2022-06-28T23:09:11.026Z"
   },
   {
    "duration": 4,
    "start_time": "2022-06-28T23:09:23.503Z"
   },
   {
    "duration": 22,
    "start_time": "2022-06-28T23:10:33.799Z"
   },
   {
    "duration": 21,
    "start_time": "2022-06-28T23:11:03.243Z"
   },
   {
    "duration": 63,
    "start_time": "2022-06-28T23:14:43.545Z"
   },
   {
    "duration": 16,
    "start_time": "2022-06-28T23:14:52.019Z"
   },
   {
    "duration": 24,
    "start_time": "2022-06-28T23:15:19.414Z"
   },
   {
    "duration": 71,
    "start_time": "2022-06-28T23:15:33.877Z"
   },
   {
    "duration": 70,
    "start_time": "2022-06-28T23:15:42.367Z"
   },
   {
    "duration": 88,
    "start_time": "2022-06-28T23:16:02.976Z"
   },
   {
    "duration": 69,
    "start_time": "2022-06-28T23:16:35.990Z"
   },
   {
    "duration": 71,
    "start_time": "2022-06-28T23:16:45.766Z"
   },
   {
    "duration": 113,
    "start_time": "2022-06-28T23:17:14.469Z"
   },
   {
    "duration": 73,
    "start_time": "2022-06-28T23:17:16.427Z"
   },
   {
    "duration": 8,
    "start_time": "2022-06-28T23:18:02.189Z"
   },
   {
    "duration": 88,
    "start_time": "2022-06-28T23:18:08.304Z"
   },
   {
    "duration": 96,
    "start_time": "2022-06-28T23:18:21.393Z"
   },
   {
    "duration": 67,
    "start_time": "2022-06-28T23:18:23.844Z"
   },
   {
    "duration": 74,
    "start_time": "2022-06-28T23:20:07.068Z"
   },
   {
    "duration": 79,
    "start_time": "2022-06-28T23:20:09.591Z"
   },
   {
    "duration": 65,
    "start_time": "2022-06-28T23:20:11.207Z"
   },
   {
    "duration": 61,
    "start_time": "2022-06-28T23:21:52.639Z"
   },
   {
    "duration": 34,
    "start_time": "2022-06-28T23:21:56.565Z"
   },
   {
    "duration": 8,
    "start_time": "2022-06-28T23:22:05.285Z"
   },
   {
    "duration": 33,
    "start_time": "2022-06-28T23:22:10.865Z"
   },
   {
    "duration": 38,
    "start_time": "2022-06-28T23:22:26.765Z"
   },
   {
    "duration": 35,
    "start_time": "2022-06-28T23:22:42.292Z"
   },
   {
    "duration": 37,
    "start_time": "2022-06-28T23:22:53.516Z"
   },
   {
    "duration": 11,
    "start_time": "2022-06-28T23:24:41.845Z"
   },
   {
    "duration": 10,
    "start_time": "2022-06-28T23:24:47.920Z"
   },
   {
    "duration": 13,
    "start_time": "2022-06-28T23:24:51.284Z"
   },
   {
    "duration": 16,
    "start_time": "2022-06-28T23:25:01.718Z"
   },
   {
    "duration": 15,
    "start_time": "2022-06-28T23:25:21.797Z"
   },
   {
    "duration": 10,
    "start_time": "2022-06-28T23:25:27.005Z"
   },
   {
    "duration": 38,
    "start_time": "2022-06-28T23:26:02.149Z"
   },
   {
    "duration": 36,
    "start_time": "2022-06-28T23:26:08.765Z"
   },
   {
    "duration": 13,
    "start_time": "2022-06-28T23:27:29.997Z"
   },
   {
    "duration": 4,
    "start_time": "2022-06-28T23:27:59.234Z"
   },
   {
    "duration": 13,
    "start_time": "2022-06-28T23:28:22.630Z"
   },
   {
    "duration": 14,
    "start_time": "2022-06-28T23:28:45.224Z"
   },
   {
    "duration": 11,
    "start_time": "2022-06-28T23:29:43.214Z"
   },
   {
    "duration": 3,
    "start_time": "2022-06-28T23:36:42.542Z"
   },
   {
    "duration": 18,
    "start_time": "2022-06-28T23:37:03.917Z"
   },
   {
    "duration": 16,
    "start_time": "2022-06-28T23:37:27.928Z"
   },
   {
    "duration": 15,
    "start_time": "2022-06-28T23:37:35.895Z"
   },
   {
    "duration": 21,
    "start_time": "2022-06-28T23:37:42.509Z"
   },
   {
    "duration": 21,
    "start_time": "2022-06-28T23:37:59.376Z"
   },
   {
    "duration": 20,
    "start_time": "2022-06-28T23:38:03.553Z"
   },
   {
    "duration": 21,
    "start_time": "2022-06-28T23:38:22.405Z"
   },
   {
    "duration": 31,
    "start_time": "2022-06-28T23:38:38.210Z"
   },
   {
    "duration": 30,
    "start_time": "2022-06-28T23:39:00.166Z"
   },
   {
    "duration": 4,
    "start_time": "2022-06-28T23:40:57.123Z"
   },
   {
    "duration": 5,
    "start_time": "2022-06-28T23:41:33.018Z"
   },
   {
    "duration": 17,
    "start_time": "2022-06-28T23:42:35.606Z"
   },
   {
    "duration": 22,
    "start_time": "2022-06-28T23:42:38.523Z"
   },
   {
    "duration": 17,
    "start_time": "2022-06-28T23:43:07.712Z"
   },
   {
    "duration": 19,
    "start_time": "2022-06-28T23:43:09.386Z"
   },
   {
    "duration": 16,
    "start_time": "2022-06-28T23:43:10.511Z"
   },
   {
    "duration": 17,
    "start_time": "2022-06-28T23:43:11.729Z"
   },
   {
    "duration": 3,
    "start_time": "2022-06-28T23:46:22.693Z"
   },
   {
    "duration": 3,
    "start_time": "2022-06-28T23:47:44.865Z"
   },
   {
    "duration": 6,
    "start_time": "2022-06-28T23:48:35.337Z"
   },
   {
    "duration": 7,
    "start_time": "2022-06-28T23:48:41.810Z"
   },
   {
    "duration": 16,
    "start_time": "2022-06-28T23:49:38.386Z"
   },
   {
    "duration": 13,
    "start_time": "2022-06-28T23:49:49.001Z"
   },
   {
    "duration": 16,
    "start_time": "2022-06-28T23:50:25.846Z"
   },
   {
    "duration": 17,
    "start_time": "2022-06-28T23:50:41.478Z"
   },
   {
    "duration": 14,
    "start_time": "2022-06-28T23:50:53.228Z"
   },
   {
    "duration": 7,
    "start_time": "2022-06-28T23:53:42.149Z"
   },
   {
    "duration": 7,
    "start_time": "2022-06-28T23:59:36.162Z"
   },
   {
    "duration": 65,
    "start_time": "2022-06-29T17:15:27.740Z"
   },
   {
    "duration": 446,
    "start_time": "2022-06-29T17:15:51.433Z"
   },
   {
    "duration": 473,
    "start_time": "2022-06-29T17:15:51.881Z"
   },
   {
    "duration": 25,
    "start_time": "2022-06-29T17:15:52.356Z"
   },
   {
    "duration": 31,
    "start_time": "2022-06-29T17:15:52.383Z"
   },
   {
    "duration": 3,
    "start_time": "2022-06-29T17:15:52.415Z"
   },
   {
    "duration": 8,
    "start_time": "2022-06-29T17:15:52.419Z"
   },
   {
    "duration": 33,
    "start_time": "2022-06-29T17:15:52.428Z"
   },
   {
    "duration": 19,
    "start_time": "2022-06-29T17:15:52.463Z"
   },
   {
    "duration": 29,
    "start_time": "2022-06-29T17:15:52.483Z"
   },
   {
    "duration": 19,
    "start_time": "2022-06-29T17:15:52.514Z"
   },
   {
    "duration": 49,
    "start_time": "2022-06-29T17:15:52.535Z"
   },
   {
    "duration": 102,
    "start_time": "2022-06-29T17:15:52.587Z"
   },
   {
    "duration": 82,
    "start_time": "2022-06-29T17:15:52.692Z"
   },
   {
    "duration": 58,
    "start_time": "2022-06-29T17:15:52.776Z"
   },
   {
    "duration": 65,
    "start_time": "2022-06-29T17:15:52.836Z"
   },
   {
    "duration": 14,
    "start_time": "2022-06-29T17:15:52.903Z"
   },
   {
    "duration": 88,
    "start_time": "2022-06-29T17:15:52.919Z"
   },
   {
    "duration": 17,
    "start_time": "2022-06-29T17:15:53.009Z"
   },
   {
    "duration": 34,
    "start_time": "2022-06-29T17:15:53.028Z"
   },
   {
    "duration": 4,
    "start_time": "2022-06-29T17:15:53.065Z"
   },
   {
    "duration": 34,
    "start_time": "2022-06-29T17:15:53.071Z"
   },
   {
    "duration": 15,
    "start_time": "2022-06-29T17:15:53.106Z"
   },
   {
    "duration": 35,
    "start_time": "2022-06-29T17:15:53.122Z"
   },
   {
    "duration": 27,
    "start_time": "2022-06-29T17:15:53.159Z"
   },
   {
    "duration": 29,
    "start_time": "2022-06-29T17:15:53.188Z"
   },
   {
    "duration": 22,
    "start_time": "2022-06-29T17:15:53.220Z"
   },
   {
    "duration": 15,
    "start_time": "2022-06-29T17:15:53.243Z"
   },
   {
    "duration": 26,
    "start_time": "2022-06-29T17:15:53.262Z"
   },
   {
    "duration": 2,
    "start_time": "2022-06-29T17:15:53.290Z"
   },
   {
    "duration": 102,
    "start_time": "2022-06-29T17:15:53.293Z"
   },
   {
    "duration": 0,
    "start_time": "2022-06-29T17:15:53.396Z"
   },
   {
    "duration": 0,
    "start_time": "2022-06-29T17:15:53.398Z"
   },
   {
    "duration": 0,
    "start_time": "2022-06-29T17:15:53.399Z"
   },
   {
    "duration": 0,
    "start_time": "2022-06-29T17:15:53.400Z"
   },
   {
    "duration": 0,
    "start_time": "2022-06-29T17:15:53.401Z"
   },
   {
    "duration": 0,
    "start_time": "2022-06-29T17:15:53.402Z"
   },
   {
    "duration": 0,
    "start_time": "2022-06-29T17:15:53.403Z"
   },
   {
    "duration": 0,
    "start_time": "2022-06-29T17:15:53.404Z"
   },
   {
    "duration": 21,
    "start_time": "2022-06-29T17:15:58.124Z"
   },
   {
    "duration": 15,
    "start_time": "2022-06-29T17:16:15.516Z"
   },
   {
    "duration": 4,
    "start_time": "2022-06-29T20:14:34.498Z"
   },
   {
    "duration": 4,
    "start_time": "2022-06-29T20:15:13.137Z"
   },
   {
    "duration": 3,
    "start_time": "2022-06-29T20:16:12.585Z"
   },
   {
    "duration": 175,
    "start_time": "2022-06-29T20:16:12.589Z"
   },
   {
    "duration": 9,
    "start_time": "2022-06-29T20:16:12.767Z"
   },
   {
    "duration": 29,
    "start_time": "2022-06-29T20:16:12.777Z"
   },
   {
    "duration": 2,
    "start_time": "2022-06-29T20:16:12.808Z"
   },
   {
    "duration": 6,
    "start_time": "2022-06-29T20:16:12.812Z"
   },
   {
    "duration": 11,
    "start_time": "2022-06-29T20:16:12.819Z"
   },
   {
    "duration": 3,
    "start_time": "2022-06-29T20:16:12.831Z"
   },
   {
    "duration": 31,
    "start_time": "2022-06-29T20:16:12.852Z"
   },
   {
    "duration": 18,
    "start_time": "2022-06-29T20:16:12.885Z"
   },
   {
    "duration": 26,
    "start_time": "2022-06-29T20:16:12.905Z"
   },
   {
    "duration": 65,
    "start_time": "2022-06-29T20:16:12.953Z"
   },
   {
    "duration": 83,
    "start_time": "2022-06-29T20:16:13.019Z"
   },
   {
    "duration": 60,
    "start_time": "2022-06-29T20:16:13.105Z"
   },
   {
    "duration": 38,
    "start_time": "2022-06-29T20:16:13.167Z"
   },
   {
    "duration": 12,
    "start_time": "2022-06-29T20:16:13.207Z"
   },
   {
    "duration": 60,
    "start_time": "2022-06-29T20:16:13.221Z"
   },
   {
    "duration": 13,
    "start_time": "2022-06-29T20:16:13.282Z"
   },
   {
    "duration": 10,
    "start_time": "2022-06-29T20:16:13.296Z"
   },
   {
    "duration": 3,
    "start_time": "2022-06-29T20:16:13.308Z"
   },
   {
    "duration": 50,
    "start_time": "2022-06-29T20:16:13.313Z"
   },
   {
    "duration": 16,
    "start_time": "2022-06-29T20:16:13.365Z"
   },
   {
    "duration": 16,
    "start_time": "2022-06-29T20:16:13.383Z"
   },
   {
    "duration": 14,
    "start_time": "2022-06-29T20:16:13.400Z"
   },
   {
    "duration": 38,
    "start_time": "2022-06-29T20:16:13.416Z"
   },
   {
    "duration": 20,
    "start_time": "2022-06-29T20:16:13.455Z"
   },
   {
    "duration": 7,
    "start_time": "2022-06-29T20:16:13.477Z"
   },
   {
    "duration": 13,
    "start_time": "2022-06-29T20:16:13.486Z"
   },
   {
    "duration": 9,
    "start_time": "2022-06-29T20:16:13.500Z"
   },
   {
    "duration": 4,
    "start_time": "2022-06-29T20:16:13.511Z"
   },
   {
    "duration": 6,
    "start_time": "2022-06-29T20:16:13.517Z"
   },
   {
    "duration": 31,
    "start_time": "2022-06-29T20:16:13.524Z"
   },
   {
    "duration": 17,
    "start_time": "2022-06-29T20:16:13.556Z"
   },
   {
    "duration": 7,
    "start_time": "2022-06-29T20:16:13.575Z"
   },
   {
    "duration": 9,
    "start_time": "2022-06-29T20:16:13.584Z"
   },
   {
    "duration": 6,
    "start_time": "2022-06-29T20:16:13.595Z"
   },
   {
    "duration": 6,
    "start_time": "2022-06-29T20:16:13.602Z"
   },
   {
    "duration": 6,
    "start_time": "2022-06-29T20:16:13.609Z"
   },
   {
    "duration": 16,
    "start_time": "2022-06-29T20:17:33.365Z"
   },
   {
    "duration": 15,
    "start_time": "2022-06-29T20:17:50.865Z"
   },
   {
    "duration": 3,
    "start_time": "2022-06-29T20:17:51.360Z"
   },
   {
    "duration": 9,
    "start_time": "2022-06-29T20:18:22.594Z"
   },
   {
    "duration": 12,
    "start_time": "2022-06-29T20:18:24.371Z"
   },
   {
    "duration": 15,
    "start_time": "2022-06-29T20:18:27.271Z"
   },
   {
    "duration": 11,
    "start_time": "2022-06-29T20:18:30.001Z"
   },
   {
    "duration": 14,
    "start_time": "2022-06-29T20:18:31.980Z"
   },
   {
    "duration": 15,
    "start_time": "2022-06-29T20:18:32.929Z"
   },
   {
    "duration": 26,
    "start_time": "2022-06-29T20:18:55.841Z"
   },
   {
    "duration": 13,
    "start_time": "2022-06-29T20:18:55.991Z"
   },
   {
    "duration": 18,
    "start_time": "2022-06-29T20:18:59.147Z"
   },
   {
    "duration": 12,
    "start_time": "2022-06-29T20:18:59.489Z"
   },
   {
    "duration": 19,
    "start_time": "2022-06-29T20:18:59.793Z"
   },
   {
    "duration": 14,
    "start_time": "2022-06-29T20:19:00.395Z"
   },
   {
    "duration": 14,
    "start_time": "2022-06-29T20:19:34.889Z"
   },
   {
    "duration": 11,
    "start_time": "2022-06-29T20:19:35.246Z"
   },
   {
    "duration": 14,
    "start_time": "2022-06-29T20:19:44.118Z"
   },
   {
    "duration": 18,
    "start_time": "2022-06-29T20:19:52.872Z"
   },
   {
    "duration": 18,
    "start_time": "2022-06-29T20:21:00.218Z"
   },
   {
    "duration": 12,
    "start_time": "2022-06-29T20:21:00.745Z"
   },
   {
    "duration": 10,
    "start_time": "2022-06-29T20:35:41.100Z"
   },
   {
    "duration": 4,
    "start_time": "2022-06-29T20:35:49.586Z"
   },
   {
    "duration": 6,
    "start_time": "2022-06-29T20:36:48.090Z"
   },
   {
    "duration": 6,
    "start_time": "2022-06-29T20:37:05.612Z"
   },
   {
    "duration": 7,
    "start_time": "2022-06-29T20:37:26.658Z"
   }
  ],
  "celltoolbar": "Edit Metadata",
  "colab": {
   "collapsed_sections": [
    "E0vqbgi9ay0H",
    "VUC88oWjTJw2"
   ],
   "name": "automatization_template_upd4.ipynb",
   "provenance": []
  },
  "kernelspec": {
   "display_name": "Python 3 (ipykernel)",
   "language": "python",
   "name": "python3"
  },
  "language_info": {
   "codemirror_mode": {
    "name": "ipython",
    "version": 3
   },
   "file_extension": ".py",
   "mimetype": "text/x-python",
   "name": "python",
   "nbconvert_exporter": "python",
   "pygments_lexer": "ipython3",
   "version": "3.9.12"
  },
  "toc": {
   "base_numbering": 1,
   "nav_menu": {
    "height": "215px",
    "width": "403px"
   },
   "number_sections": true,
   "sideBar": true,
   "skip_h1_title": true,
   "title_cell": "Table of Contents",
   "title_sidebar": "Contents",
   "toc_cell": false,
   "toc_position": {
    "height": "calc(100% - 180px)",
    "left": "10px",
    "top": "150px",
    "width": "285.825px"
   },
   "toc_section_display": true,
   "toc_window_display": false
  }
 },
 "nbformat": 4,
 "nbformat_minor": 1
}
