{
 "cells": [
  {
   "cell_type": "code",
   "execution_count": 1,
   "metadata": {
    "deletable": false
   },
   "outputs": [],
   "source": [
    "import pandas as pd\n",
    "pd.set_option('display.max_columns', None)\n"
   ]
  },
  {
   "cell_type": "markdown",
   "metadata": {
    "deletable": false,
    "editable": false
   },
   "source": [
    "### Откройте файл с данными и изучите общую информацию"
   ]
  },
  {
   "cell_type": "code",
   "execution_count": 56,
   "metadata": {
    "deletable": false
   },
   "outputs": [],
   "source": [
    "try:\n",
    "    calls = pd.read_csv('/datasets/calls.csv')\n",
    "except:\n",
    "    calls = pd.read_csv('https://code.s3.yandex.net/datasets/calls.csv')"
   ]
  },
  {
   "cell_type": "code",
   "execution_count": 3,
   "metadata": {
    "deletable": false
   },
   "outputs": [
    {
     "data": {
      "text/html": [
       "<div>\n",
       "<style scoped>\n",
       "    .dataframe tbody tr th:only-of-type {\n",
       "        vertical-align: middle;\n",
       "    }\n",
       "\n",
       "    .dataframe tbody tr th {\n",
       "        vertical-align: top;\n",
       "    }\n",
       "\n",
       "    .dataframe thead th {\n",
       "        text-align: right;\n",
       "    }\n",
       "</style>\n",
       "<table border=\"1\" class=\"dataframe\">\n",
       "  <thead>\n",
       "    <tr style=\"text-align: right;\">\n",
       "      <th></th>\n",
       "      <th>id</th>\n",
       "      <th>call_date</th>\n",
       "      <th>duration</th>\n",
       "      <th>user_id</th>\n",
       "    </tr>\n",
       "  </thead>\n",
       "  <tbody>\n",
       "    <tr>\n",
       "      <th>0</th>\n",
       "      <td>1000_0</td>\n",
       "      <td>2018-07-25</td>\n",
       "      <td>0.00</td>\n",
       "      <td>1000</td>\n",
       "    </tr>\n",
       "    <tr>\n",
       "      <th>1</th>\n",
       "      <td>1000_1</td>\n",
       "      <td>2018-08-17</td>\n",
       "      <td>0.00</td>\n",
       "      <td>1000</td>\n",
       "    </tr>\n",
       "    <tr>\n",
       "      <th>2</th>\n",
       "      <td>1000_2</td>\n",
       "      <td>2018-06-11</td>\n",
       "      <td>2.85</td>\n",
       "      <td>1000</td>\n",
       "    </tr>\n",
       "    <tr>\n",
       "      <th>3</th>\n",
       "      <td>1000_3</td>\n",
       "      <td>2018-09-21</td>\n",
       "      <td>13.80</td>\n",
       "      <td>1000</td>\n",
       "    </tr>\n",
       "    <tr>\n",
       "      <th>4</th>\n",
       "      <td>1000_4</td>\n",
       "      <td>2018-12-15</td>\n",
       "      <td>5.18</td>\n",
       "      <td>1000</td>\n",
       "    </tr>\n",
       "  </tbody>\n",
       "</table>\n",
       "</div>"
      ],
      "text/plain": [
       "       id   call_date  duration  user_id\n",
       "0  1000_0  2018-07-25      0.00     1000\n",
       "1  1000_1  2018-08-17      0.00     1000\n",
       "2  1000_2  2018-06-11      2.85     1000\n",
       "3  1000_3  2018-09-21     13.80     1000\n",
       "4  1000_4  2018-12-15      5.18     1000"
      ]
     },
     "execution_count": 3,
     "metadata": {},
     "output_type": "execute_result"
    }
   ],
   "source": [
    "calls.head()"
   ]
  },
  {
   "cell_type": "code",
   "execution_count": 4,
   "metadata": {
    "deletable": false
   },
   "outputs": [
    {
     "name": "stdout",
     "output_type": "stream",
     "text": [
      "<class 'pandas.core.frame.DataFrame'>\n",
      "RangeIndex: 202607 entries, 0 to 202606\n",
      "Data columns (total 4 columns):\n",
      " #   Column     Non-Null Count   Dtype  \n",
      "---  ------     --------------   -----  \n",
      " 0   id         202607 non-null  object \n",
      " 1   call_date  202607 non-null  object \n",
      " 2   duration   202607 non-null  float64\n",
      " 3   user_id    202607 non-null  int64  \n",
      "dtypes: float64(1), int64(1), object(2)\n",
      "memory usage: 6.2+ MB\n"
     ]
    }
   ],
   "source": [
    "calls.info()"
   ]
  },
  {
   "cell_type": "code",
   "execution_count": 5,
   "metadata": {
    "deletable": false
   },
   "outputs": [
    {
     "data": {
      "image/png": "[encoded data removed]",
      "text/plain": [
       "<Figure size 432x288 with 1 Axes>"
      ]
     },
     "metadata": {
      "needs_background": "light"
     },
     "output_type": "display_data"
    }
   ],
   "source": [
    "calls['duration'].hist();"
   ]
  },
  {
   "cell_type": "code",
   "execution_count": 6,
   "metadata": {
    "deletable": false
   },
   "outputs": [],
   "source": [
    "try:\n",
    "    sessions = pd.read_csv('/datasets/internet.csv')\n",
    "except:\n",
    "    sessions = pd.read_csv('https://code.s3.yandex.net/datasets/internet.csv')"
   ]
  },
  {
   "cell_type": "code",
   "execution_count": 7,
   "metadata": {
    "deletable": false
   },
   "outputs": [
    {
     "data": {
      "text/html": [
       "<div>\n",
       "<style scoped>\n",
       "    .dataframe tbody tr th:only-of-type {\n",
       "        vertical-align: middle;\n",
       "    }\n",
       "\n",
       "    .dataframe tbody tr th {\n",
       "        vertical-align: top;\n",
       "    }\n",
       "\n",
       "    .dataframe thead th {\n",
       "        text-align: right;\n",
       "    }\n",
       "</style>\n",
       "<table border=\"1\" class=\"dataframe\">\n",
       "  <thead>\n",
       "    <tr style=\"text-align: right;\">\n",
       "      <th></th>\n",
       "      <th>Unnamed: 0</th>\n",
       "      <th>id</th>\n",
       "      <th>mb_used</th>\n",
       "      <th>session_date</th>\n",
       "      <th>user_id</th>\n",
       "    </tr>\n",
       "  </thead>\n",
       "  <tbody>\n",
       "    <tr>\n",
       "      <th>0</th>\n",
       "      <td>0</td>\n",
       "      <td>1000_0</td>\n",
       "      <td>112.95</td>\n",
       "      <td>2018-11-25</td>\n",
       "      <td>1000</td>\n",
       "    </tr>\n",
       "    <tr>\n",
       "      <th>1</th>\n",
       "      <td>1</td>\n",
       "      <td>1000_1</td>\n",
       "      <td>1052.81</td>\n",
       "      <td>2018-09-07</td>\n",
       "      <td>1000</td>\n",
       "    </tr>\n",
       "    <tr>\n",
       "      <th>2</th>\n",
       "      <td>2</td>\n",
       "      <td>1000_2</td>\n",
       "      <td>1197.26</td>\n",
       "      <td>2018-06-25</td>\n",
       "      <td>1000</td>\n",
       "    </tr>\n",
       "    <tr>\n",
       "      <th>3</th>\n",
       "      <td>3</td>\n",
       "      <td>1000_3</td>\n",
       "      <td>550.27</td>\n",
       "      <td>2018-08-22</td>\n",
       "      <td>1000</td>\n",
       "    </tr>\n",
       "    <tr>\n",
       "      <th>4</th>\n",
       "      <td>4</td>\n",
       "      <td>1000_4</td>\n",
       "      <td>302.56</td>\n",
       "      <td>2018-09-24</td>\n",
       "      <td>1000</td>\n",
       "    </tr>\n",
       "  </tbody>\n",
       "</table>\n",
       "</div>"
      ],
      "text/plain": [
       "   Unnamed: 0      id  mb_used session_date  user_id\n",
       "0           0  1000_0   112.95   2018-11-25     1000\n",
       "1           1  1000_1  1052.81   2018-09-07     1000\n",
       "2           2  1000_2  1197.26   2018-06-25     1000\n",
       "3           3  1000_3   550.27   2018-08-22     1000\n",
       "4           4  1000_4   302.56   2018-09-24     1000"
      ]
     },
     "execution_count": 7,
     "metadata": {},
     "output_type": "execute_result"
    }
   ],
   "source": [
    "sessions.head()"
   ]
  },
  {
   "cell_type": "code",
   "execution_count": 8,
   "metadata": {
    "deletable": false
   },
   "outputs": [
    {
     "name": "stdout",
     "output_type": "stream",
     "text": [
      "<class 'pandas.core.frame.DataFrame'>\n",
      "RangeIndex: 149396 entries, 0 to 149395\n",
      "Data columns (total 5 columns):\n",
      " #   Column        Non-Null Count   Dtype  \n",
      "---  ------        --------------   -----  \n",
      " 0   Unnamed: 0    149396 non-null  int64  \n",
      " 1   id            149396 non-null  object \n",
      " 2   mb_used       149396 non-null  float64\n",
      " 3   session_date  149396 non-null  object \n",
      " 4   user_id       149396 non-null  int64  \n",
      "dtypes: float64(1), int64(2), object(2)\n",
      "memory usage: 5.7+ MB\n"
     ]
    }
   ],
   "source": [
    "sessions.info()"
   ]
  },
  {
   "cell_type": "code",
   "execution_count": 9,
   "metadata": {
    "deletable": false
   },
   "outputs": [
    {
     "data": {
      "image/png": "[encoded data removed]",
      "text/plain": [
       "<Figure size 432x288 with 1 Axes>"
      ]
     },
     "metadata": {
      "needs_background": "light"
     },
     "output_type": "display_data"
    }
   ],
   "source": [
    "sessions['mb_used'].hist();"
   ]
  },
  {
   "cell_type": "code",
   "execution_count": 10,
   "metadata": {
    "deletable": false
   },
   "outputs": [],
   "source": [
    "try:\n",
    "    messages = pd.read_csv('/datasets/messages.csv')\n",
    "except:\n",
    "    messages = pd.read_csv('https://code.s3.yandex.net/datasets/messages.csv')"
   ]
  },
  {
   "cell_type": "code",
   "execution_count": 11,
   "metadata": {
    "deletable": false
   },
   "outputs": [
    {
     "data": {
      "text/html": [
       "<div>\n",
       "<style scoped>\n",
       "    .dataframe tbody tr th:only-of-type {\n",
       "        vertical-align: middle;\n",
       "    }\n",
       "\n",
       "    .dataframe tbody tr th {\n",
       "        vertical-align: top;\n",
       "    }\n",
       "\n",
       "    .dataframe thead th {\n",
       "        text-align: right;\n",
       "    }\n",
       "</style>\n",
       "<table border=\"1\" class=\"dataframe\">\n",
       "  <thead>\n",
       "    <tr style=\"text-align: right;\">\n",
       "      <th></th>\n",
       "      <th>id</th>\n",
       "      <th>message_date</th>\n",
       "      <th>user_id</th>\n",
       "    </tr>\n",
       "  </thead>\n",
       "  <tbody>\n",
       "    <tr>\n",
       "      <th>0</th>\n",
       "      <td>1000_0</td>\n",
       "      <td>2018-06-27</td>\n",
       "      <td>1000</td>\n",
       "    </tr>\n",
       "    <tr>\n",
       "      <th>1</th>\n",
       "      <td>1000_1</td>\n",
       "      <td>2018-10-08</td>\n",
       "      <td>1000</td>\n",
       "    </tr>\n",
       "    <tr>\n",
       "      <th>2</th>\n",
       "      <td>1000_2</td>\n",
       "      <td>2018-08-04</td>\n",
       "      <td>1000</td>\n",
       "    </tr>\n",
       "    <tr>\n",
       "      <th>3</th>\n",
       "      <td>1000_3</td>\n",
       "      <td>2018-06-16</td>\n",
       "      <td>1000</td>\n",
       "    </tr>\n",
       "    <tr>\n",
       "      <th>4</th>\n",
       "      <td>1000_4</td>\n",
       "      <td>2018-12-05</td>\n",
       "      <td>1000</td>\n",
       "    </tr>\n",
       "  </tbody>\n",
       "</table>\n",
       "</div>"
      ],
      "text/plain": [
       "       id message_date  user_id\n",
       "0  1000_0   2018-06-27     1000\n",
       "1  1000_1   2018-10-08     1000\n",
       "2  1000_2   2018-08-04     1000\n",
       "3  1000_3   2018-06-16     1000\n",
       "4  1000_4   2018-12-05     1000"
      ]
     },
     "execution_count": 11,
     "metadata": {},
     "output_type": "execute_result"
    }
   ],
   "source": [
    "messages.head()"
   ]
  },
  {
   "cell_type": "code",
   "execution_count": 12,
   "metadata": {
    "deletable": false
   },
   "outputs": [
    {
     "name": "stdout",
     "output_type": "stream",
     "text": [
      "<class 'pandas.core.frame.DataFrame'>\n",
      "RangeIndex: 123036 entries, 0 to 123035\n",
      "Data columns (total 3 columns):\n",
      " #   Column        Non-Null Count   Dtype \n",
      "---  ------        --------------   ----- \n",
      " 0   id            123036 non-null  object\n",
      " 1   message_date  123036 non-null  object\n",
      " 2   user_id       123036 non-null  int64 \n",
      "dtypes: int64(1), object(2)\n",
      "memory usage: 2.8+ MB\n"
     ]
    }
   ],
   "source": [
    "messages.info()"
   ]
  },
  {
   "cell_type": "code",
   "execution_count": 13,
   "metadata": {
    "deletable": false
   },
   "outputs": [],
   "source": [
    "try:\n",
    "    tariffs = pd.read_csv('/datasets/tariffs.csv')\n",
    "except:\n",
    "    tariffs = pd.read_csv('https://code.s3.yandex.net/datasets/tariffs.csv')"
   ]
  },
  {
   "cell_type": "code",
   "execution_count": 14,
   "metadata": {
    "deletable": false
   },
   "outputs": [
    {
     "data": {
      "text/html": [
       "<div>\n",
       "<style scoped>\n",
       "    .dataframe tbody tr th:only-of-type {\n",
       "        vertical-align: middle;\n",
       "    }\n",
       "\n",
       "    .dataframe tbody tr th {\n",
       "        vertical-align: top;\n",
       "    }\n",
       "\n",
       "    .dataframe thead th {\n",
       "        text-align: right;\n",
       "    }\n",
       "</style>\n",
       "<table border=\"1\" class=\"dataframe\">\n",
       "  <thead>\n",
       "    <tr style=\"text-align: right;\">\n",
       "      <th></th>\n",
       "      <th>messages_included</th>\n",
       "      <th>mb_per_month_included</th>\n",
       "      <th>minutes_included</th>\n",
       "      <th>rub_monthly_fee</th>\n",
       "      <th>rub_per_gb</th>\n",
       "      <th>rub_per_message</th>\n",
       "      <th>rub_per_minute</th>\n",
       "      <th>tariff_name</th>\n",
       "    </tr>\n",
       "  </thead>\n",
       "  <tbody>\n",
       "    <tr>\n",
       "      <th>0</th>\n",
       "      <td>50</td>\n",
       "      <td>15360</td>\n",
       "      <td>500</td>\n",
       "      <td>550</td>\n",
       "      <td>200</td>\n",
       "      <td>3</td>\n",
       "      <td>3</td>\n",
       "      <td>smart</td>\n",
       "    </tr>\n",
       "    <tr>\n",
       "      <th>1</th>\n",
       "      <td>1000</td>\n",
       "      <td>30720</td>\n",
       "      <td>3000</td>\n",
       "      <td>1950</td>\n",
       "      <td>150</td>\n",
       "      <td>1</td>\n",
       "      <td>1</td>\n",
       "      <td>ultra</td>\n",
       "    </tr>\n",
       "  </tbody>\n",
       "</table>\n",
       "</div>"
      ],
      "text/plain": [
       "   messages_included  mb_per_month_included  minutes_included  \\\n",
       "0                 50                  15360               500   \n",
       "1               1000                  30720              3000   \n",
       "\n",
       "   rub_monthly_fee  rub_per_gb  rub_per_message  rub_per_minute tariff_name  \n",
       "0              550         200                3               3       smart  \n",
       "1             1950         150                1               1       ultra  "
      ]
     },
     "execution_count": 14,
     "metadata": {},
     "output_type": "execute_result"
    }
   ],
   "source": [
    "tariffs"
   ]
  },
  {
   "cell_type": "code",
   "execution_count": 15,
   "metadata": {
    "deletable": false
   },
   "outputs": [
    {
     "name": "stdout",
     "output_type": "stream",
     "text": [
      "<class 'pandas.core.frame.DataFrame'>\n",
      "RangeIndex: 2 entries, 0 to 1\n",
      "Data columns (total 8 columns):\n",
      " #   Column                 Non-Null Count  Dtype \n",
      "---  ------                 --------------  ----- \n",
      " 0   messages_included      2 non-null      int64 \n",
      " 1   mb_per_month_included  2 non-null      int64 \n",
      " 2   minutes_included       2 non-null      int64 \n",
      " 3   rub_monthly_fee        2 non-null      int64 \n",
      " 4   rub_per_gb             2 non-null      int64 \n",
      " 5   rub_per_message        2 non-null      int64 \n",
      " 6   rub_per_minute         2 non-null      int64 \n",
      " 7   tariff_name            2 non-null      object\n",
      "dtypes: int64(7), object(1)\n",
      "memory usage: 256.0+ bytes\n"
     ]
    }
   ],
   "source": [
    "tariffs.info()"
   ]
  },
  {
   "cell_type": "code",
   "execution_count": 16,
   "metadata": {
    "deletable": false
   },
   "outputs": [],
   "source": [
    "try:\n",
    "    users = pd.read_csv('/datasets/users.csv')\n",
    "except:\n",
    "    users = pd.read_csv('https://code.s3.yandex.net/datasets/users.csv')"
   ]
  },
  {
   "cell_type": "code",
   "execution_count": 17,
   "metadata": {
    "deletable": false
   },
   "outputs": [
    {
     "data": {
      "text/html": [
       "<div>\n",
       "<style scoped>\n",
       "    .dataframe tbody tr th:only-of-type {\n",
       "        vertical-align: middle;\n",
       "    }\n",
       "\n",
       "    .dataframe tbody tr th {\n",
       "        vertical-align: top;\n",
       "    }\n",
       "\n",
       "    .dataframe thead th {\n",
       "        text-align: right;\n",
       "    }\n",
       "</style>\n",
       "<table border=\"1\" class=\"dataframe\">\n",
       "  <thead>\n",
       "    <tr style=\"text-align: right;\">\n",
       "      <th></th>\n",
       "      <th>user_id</th>\n",
       "      <th>age</th>\n",
       "      <th>churn_date</th>\n",
       "      <th>city</th>\n",
       "      <th>first_name</th>\n",
       "      <th>last_name</th>\n",
       "      <th>reg_date</th>\n",
       "      <th>tariff</th>\n",
       "    </tr>\n",
       "  </thead>\n",
       "  <tbody>\n",
       "    <tr>\n",
       "      <th>0</th>\n",
       "      <td>1000</td>\n",
       "      <td>52</td>\n",
       "      <td>NaN</td>\n",
       "      <td>Краснодар</td>\n",
       "      <td>Рафаил</td>\n",
       "      <td>Верещагин</td>\n",
       "      <td>2018-05-25</td>\n",
       "      <td>ultra</td>\n",
       "    </tr>\n",
       "    <tr>\n",
       "      <th>1</th>\n",
       "      <td>1001</td>\n",
       "      <td>41</td>\n",
       "      <td>NaN</td>\n",
       "      <td>Москва</td>\n",
       "      <td>Иван</td>\n",
       "      <td>Ежов</td>\n",
       "      <td>2018-11-01</td>\n",
       "      <td>smart</td>\n",
       "    </tr>\n",
       "    <tr>\n",
       "      <th>2</th>\n",
       "      <td>1002</td>\n",
       "      <td>59</td>\n",
       "      <td>NaN</td>\n",
       "      <td>Стерлитамак</td>\n",
       "      <td>Евгений</td>\n",
       "      <td>Абрамович</td>\n",
       "      <td>2018-06-17</td>\n",
       "      <td>smart</td>\n",
       "    </tr>\n",
       "    <tr>\n",
       "      <th>3</th>\n",
       "      <td>1003</td>\n",
       "      <td>23</td>\n",
       "      <td>NaN</td>\n",
       "      <td>Москва</td>\n",
       "      <td>Белла</td>\n",
       "      <td>Белякова</td>\n",
       "      <td>2018-08-17</td>\n",
       "      <td>ultra</td>\n",
       "    </tr>\n",
       "    <tr>\n",
       "      <th>4</th>\n",
       "      <td>1004</td>\n",
       "      <td>68</td>\n",
       "      <td>NaN</td>\n",
       "      <td>Новокузнецк</td>\n",
       "      <td>Татьяна</td>\n",
       "      <td>Авдеенко</td>\n",
       "      <td>2018-05-14</td>\n",
       "      <td>ultra</td>\n",
       "    </tr>\n",
       "  </tbody>\n",
       "</table>\n",
       "</div>"
      ],
      "text/plain": [
       "   user_id  age churn_date         city first_name  last_name    reg_date  \\\n",
       "0     1000   52        NaN    Краснодар     Рафаил  Верещагин  2018-05-25   \n",
       "1     1001   41        NaN       Москва       Иван       Ежов  2018-11-01   \n",
       "2     1002   59        NaN  Стерлитамак    Евгений  Абрамович  2018-06-17   \n",
       "3     1003   23        NaN       Москва      Белла   Белякова  2018-08-17   \n",
       "4     1004   68        NaN  Новокузнецк    Татьяна   Авдеенко  2018-05-14   \n",
       "\n",
       "  tariff  \n",
       "0  ultra  \n",
       "1  smart  \n",
       "2  smart  \n",
       "3  ultra  \n",
       "4  ultra  "
      ]
     },
     "execution_count": 17,
     "metadata": {},
     "output_type": "execute_result"
    }
   ],
   "source": [
    "users.head()"
   ]
  },
  {
   "cell_type": "code",
   "execution_count": 18,
   "metadata": {
    "deletable": false
   },
   "outputs": [
    {
     "name": "stdout",
     "output_type": "stream",
     "text": [
      "<class 'pandas.core.frame.DataFrame'>\n",
      "RangeIndex: 500 entries, 0 to 499\n",
      "Data columns (total 8 columns):\n",
      " #   Column      Non-Null Count  Dtype \n",
      "---  ------      --------------  ----- \n",
      " 0   user_id     500 non-null    int64 \n",
      " 1   age         500 non-null    int64 \n",
      " 2   churn_date  38 non-null     object\n",
      " 3   city        500 non-null    object\n",
      " 4   first_name  500 non-null    object\n",
      " 5   last_name   500 non-null    object\n",
      " 6   reg_date    500 non-null    object\n",
      " 7   tariff      500 non-null    object\n",
      "dtypes: int64(2), object(6)\n",
      "memory usage: 31.4+ KB\n"
     ]
    }
   ],
   "source": [
    "users.info()"
   ]
  },
  {
   "cell_type": "markdown",
   "metadata": {
    "deletable": false,
    "editable": false
   },
   "source": [
    "### Подготовьте данные"
   ]
  },
  {
   "cell_type": "code",
   "execution_count": 19,
   "metadata": {
    "deletable": false
   },
   "outputs": [],
   "source": [
    "# обработка столбца reg_date\n",
    "users['reg_date'] = pd.to_datetime(users['reg_date'])\n",
    "# обработка столбца churn_date\n",
    "users['churn_date'] = pd.to_datetime(users['churn_date'])\n",
    "# обработка столбца call_date\n",
    "calls['call_date'] = pd.to_datetime(calls['call_date'])\n",
    "# обработка столбца message_date\n",
    "messages['message_date'] = pd.to_datetime(messages['message_date'])\n",
    "# обработка столбца session_date\n",
    "sessions['session_date'] = pd.to_datetime(sessions['session_date'])"
   ]
  },
  {
   "cell_type": "code",
   "execution_count": 20,
   "metadata": {
    "deletable": false
   },
   "outputs": [],
   "source": [
    "import numpy as np\n",
    "\n",
    "# округление значений столбца duration с помощью np.ceil() и приведение типа к int\n",
    "\n",
    "calls['duration'] = np.ceil(calls['duration']).astype(int)"
   ]
  },
  {
   "cell_type": "code",
   "execution_count": 21,
   "metadata": {
    "deletable": false
   },
   "outputs": [],
   "source": [
    "sessions = sessions.drop(columns='Unnamed: 0')"
   ]
  },
  {
   "cell_type": "code",
   "execution_count": 22,
   "metadata": {
    "deletable": false
   },
   "outputs": [],
   "source": [
    "\n",
    "calls['month'] = calls['call_date'].dt.month"
   ]
  },
  {
   "cell_type": "code",
   "execution_count": 23,
   "metadata": {
    "deletable": false
   },
   "outputs": [],
   "source": [
    "messages['month'] = messages['message_date'].dt.month"
   ]
  },
  {
   "cell_type": "code",
   "execution_count": 24,
   "metadata": {
    "deletable": false
   },
   "outputs": [],
   "source": [
    "sessions['month'] = sessions['session_date'].dt.month"
   ]
  },
  {
   "cell_type": "code",
   "execution_count": 25,
   "metadata": {
    "deletable": false
   },
   "outputs": [
    {
     "data": {
      "text/html": [
       "<div>\n",
       "<style scoped>\n",
       "    .dataframe tbody tr th:only-of-type {\n",
       "        vertical-align: middle;\n",
       "    }\n",
       "\n",
       "    .dataframe tbody tr th {\n",
       "        vertical-align: top;\n",
       "    }\n",
       "\n",
       "    .dataframe thead th {\n",
       "        text-align: right;\n",
       "    }\n",
       "</style>\n",
       "<table border=\"1\" class=\"dataframe\">\n",
       "  <thead>\n",
       "    <tr style=\"text-align: right;\">\n",
       "      <th></th>\n",
       "      <th></th>\n",
       "      <th>calls</th>\n",
       "    </tr>\n",
       "    <tr>\n",
       "      <th>user_id</th>\n",
       "      <th>month</th>\n",
       "      <th></th>\n",
       "    </tr>\n",
       "  </thead>\n",
       "  <tbody>\n",
       "    <tr>\n",
       "      <th rowspan=\"8\" valign=\"top\">1000</th>\n",
       "      <th>5</th>\n",
       "      <td>22</td>\n",
       "    </tr>\n",
       "    <tr>\n",
       "      <th>6</th>\n",
       "      <td>43</td>\n",
       "    </tr>\n",
       "    <tr>\n",
       "      <th>7</th>\n",
       "      <td>47</td>\n",
       "    </tr>\n",
       "    <tr>\n",
       "      <th>8</th>\n",
       "      <td>52</td>\n",
       "    </tr>\n",
       "    <tr>\n",
       "      <th>9</th>\n",
       "      <td>58</td>\n",
       "    </tr>\n",
       "    <tr>\n",
       "      <th>10</th>\n",
       "      <td>57</td>\n",
       "    </tr>\n",
       "    <tr>\n",
       "      <th>11</th>\n",
       "      <td>43</td>\n",
       "    </tr>\n",
       "    <tr>\n",
       "      <th>12</th>\n",
       "      <td>46</td>\n",
       "    </tr>\n",
       "    <tr>\n",
       "      <th rowspan=\"2\" valign=\"top\">1001</th>\n",
       "      <th>11</th>\n",
       "      <td>59</td>\n",
       "    </tr>\n",
       "    <tr>\n",
       "      <th>12</th>\n",
       "      <td>63</td>\n",
       "    </tr>\n",
       "    <tr>\n",
       "      <th rowspan=\"7\" valign=\"top\">1002</th>\n",
       "      <th>6</th>\n",
       "      <td>15</td>\n",
       "    </tr>\n",
       "    <tr>\n",
       "      <th>7</th>\n",
       "      <td>26</td>\n",
       "    </tr>\n",
       "    <tr>\n",
       "      <th>8</th>\n",
       "      <td>42</td>\n",
       "    </tr>\n",
       "    <tr>\n",
       "      <th>9</th>\n",
       "      <td>36</td>\n",
       "    </tr>\n",
       "    <tr>\n",
       "      <th>10</th>\n",
       "      <td>33</td>\n",
       "    </tr>\n",
       "    <tr>\n",
       "      <th>11</th>\n",
       "      <td>32</td>\n",
       "    </tr>\n",
       "    <tr>\n",
       "      <th>12</th>\n",
       "      <td>33</td>\n",
       "    </tr>\n",
       "    <tr>\n",
       "      <th rowspan=\"5\" valign=\"top\">1003</th>\n",
       "      <th>8</th>\n",
       "      <td>55</td>\n",
       "    </tr>\n",
       "    <tr>\n",
       "      <th>9</th>\n",
       "      <td>134</td>\n",
       "    </tr>\n",
       "    <tr>\n",
       "      <th>10</th>\n",
       "      <td>108</td>\n",
       "    </tr>\n",
       "    <tr>\n",
       "      <th>11</th>\n",
       "      <td>115</td>\n",
       "    </tr>\n",
       "    <tr>\n",
       "      <th>12</th>\n",
       "      <td>108</td>\n",
       "    </tr>\n",
       "    <tr>\n",
       "      <th rowspan=\"8\" valign=\"top\">1004</th>\n",
       "      <th>5</th>\n",
       "      <td>9</td>\n",
       "    </tr>\n",
       "    <tr>\n",
       "      <th>6</th>\n",
       "      <td>31</td>\n",
       "    </tr>\n",
       "    <tr>\n",
       "      <th>7</th>\n",
       "      <td>22</td>\n",
       "    </tr>\n",
       "    <tr>\n",
       "      <th>8</th>\n",
       "      <td>19</td>\n",
       "    </tr>\n",
       "    <tr>\n",
       "      <th>9</th>\n",
       "      <td>26</td>\n",
       "    </tr>\n",
       "    <tr>\n",
       "      <th>10</th>\n",
       "      <td>29</td>\n",
       "    </tr>\n",
       "    <tr>\n",
       "      <th>11</th>\n",
       "      <td>19</td>\n",
       "    </tr>\n",
       "    <tr>\n",
       "      <th>12</th>\n",
       "      <td>21</td>\n",
       "    </tr>\n",
       "  </tbody>\n",
       "</table>\n",
       "</div>"
      ],
      "text/plain": [
       "               calls\n",
       "user_id month       \n",
       "1000    5         22\n",
       "        6         43\n",
       "        7         47\n",
       "        8         52\n",
       "        9         58\n",
       "        10        57\n",
       "        11        43\n",
       "        12        46\n",
       "1001    11        59\n",
       "        12        63\n",
       "1002    6         15\n",
       "        7         26\n",
       "        8         42\n",
       "        9         36\n",
       "        10        33\n",
       "        11        32\n",
       "        12        33\n",
       "1003    8         55\n",
       "        9        134\n",
       "        10       108\n",
       "        11       115\n",
       "        12       108\n",
       "1004    5          9\n",
       "        6         31\n",
       "        7         22\n",
       "        8         19\n",
       "        9         26\n",
       "        10        29\n",
       "        11        19\n",
       "        12        21"
      ]
     },
     "execution_count": 25,
     "metadata": {},
     "output_type": "execute_result"
    }
   ],
   "source": [
    "\n",
    "calls_per_month= calls.groupby(['user_id','month']).agg(calls=('duration','count'))\n",
    "\n",
    "\n",
    "calls_per_month.head(30)# подсчёт количества звонков для каждого пользователя по месяцам\\"
   ]
  },
  {
   "cell_type": "code",
   "execution_count": 26,
   "metadata": {
    "deletable": false
   },
   "outputs": [],
   "source": [
    "# вывод 30 первых строк на экран"
   ]
  },
  {
   "cell_type": "code",
   "execution_count": 27,
   "metadata": {
    "deletable": false
   },
   "outputs": [
    {
     "data": {
      "text/html": [
       "<div>\n",
       "<style scoped>\n",
       "    .dataframe tbody tr th:only-of-type {\n",
       "        vertical-align: middle;\n",
       "    }\n",
       "\n",
       "    .dataframe tbody tr th {\n",
       "        vertical-align: top;\n",
       "    }\n",
       "\n",
       "    .dataframe thead th {\n",
       "        text-align: right;\n",
       "    }\n",
       "</style>\n",
       "<table border=\"1\" class=\"dataframe\">\n",
       "  <thead>\n",
       "    <tr style=\"text-align: right;\">\n",
       "      <th></th>\n",
       "      <th></th>\n",
       "      <th>minutes</th>\n",
       "    </tr>\n",
       "    <tr>\n",
       "      <th>user_id</th>\n",
       "      <th>month</th>\n",
       "      <th></th>\n",
       "    </tr>\n",
       "  </thead>\n",
       "  <tbody>\n",
       "    <tr>\n",
       "      <th rowspan=\"8\" valign=\"top\">1000</th>\n",
       "      <th>5</th>\n",
       "      <td>159</td>\n",
       "    </tr>\n",
       "    <tr>\n",
       "      <th>6</th>\n",
       "      <td>172</td>\n",
       "    </tr>\n",
       "    <tr>\n",
       "      <th>7</th>\n",
       "      <td>340</td>\n",
       "    </tr>\n",
       "    <tr>\n",
       "      <th>8</th>\n",
       "      <td>408</td>\n",
       "    </tr>\n",
       "    <tr>\n",
       "      <th>9</th>\n",
       "      <td>466</td>\n",
       "    </tr>\n",
       "    <tr>\n",
       "      <th>10</th>\n",
       "      <td>350</td>\n",
       "    </tr>\n",
       "    <tr>\n",
       "      <th>11</th>\n",
       "      <td>338</td>\n",
       "    </tr>\n",
       "    <tr>\n",
       "      <th>12</th>\n",
       "      <td>333</td>\n",
       "    </tr>\n",
       "    <tr>\n",
       "      <th rowspan=\"2\" valign=\"top\">1001</th>\n",
       "      <th>11</th>\n",
       "      <td>430</td>\n",
       "    </tr>\n",
       "    <tr>\n",
       "      <th>12</th>\n",
       "      <td>414</td>\n",
       "    </tr>\n",
       "    <tr>\n",
       "      <th rowspan=\"7\" valign=\"top\">1002</th>\n",
       "      <th>6</th>\n",
       "      <td>117</td>\n",
       "    </tr>\n",
       "    <tr>\n",
       "      <th>7</th>\n",
       "      <td>214</td>\n",
       "    </tr>\n",
       "    <tr>\n",
       "      <th>8</th>\n",
       "      <td>289</td>\n",
       "    </tr>\n",
       "    <tr>\n",
       "      <th>9</th>\n",
       "      <td>206</td>\n",
       "    </tr>\n",
       "    <tr>\n",
       "      <th>10</th>\n",
       "      <td>212</td>\n",
       "    </tr>\n",
       "    <tr>\n",
       "      <th>11</th>\n",
       "      <td>243</td>\n",
       "    </tr>\n",
       "    <tr>\n",
       "      <th>12</th>\n",
       "      <td>236</td>\n",
       "    </tr>\n",
       "    <tr>\n",
       "      <th rowspan=\"5\" valign=\"top\">1003</th>\n",
       "      <th>8</th>\n",
       "      <td>380</td>\n",
       "    </tr>\n",
       "    <tr>\n",
       "      <th>9</th>\n",
       "      <td>961</td>\n",
       "    </tr>\n",
       "    <tr>\n",
       "      <th>10</th>\n",
       "      <td>855</td>\n",
       "    </tr>\n",
       "    <tr>\n",
       "      <th>11</th>\n",
       "      <td>824</td>\n",
       "    </tr>\n",
       "    <tr>\n",
       "      <th>12</th>\n",
       "      <td>802</td>\n",
       "    </tr>\n",
       "    <tr>\n",
       "      <th rowspan=\"8\" valign=\"top\">1004</th>\n",
       "      <th>5</th>\n",
       "      <td>35</td>\n",
       "    </tr>\n",
       "    <tr>\n",
       "      <th>6</th>\n",
       "      <td>171</td>\n",
       "    </tr>\n",
       "    <tr>\n",
       "      <th>7</th>\n",
       "      <td>135</td>\n",
       "    </tr>\n",
       "    <tr>\n",
       "      <th>8</th>\n",
       "      <td>137</td>\n",
       "    </tr>\n",
       "    <tr>\n",
       "      <th>9</th>\n",
       "      <td>117</td>\n",
       "    </tr>\n",
       "    <tr>\n",
       "      <th>10</th>\n",
       "      <td>145</td>\n",
       "    </tr>\n",
       "    <tr>\n",
       "      <th>11</th>\n",
       "      <td>117</td>\n",
       "    </tr>\n",
       "    <tr>\n",
       "      <th>12</th>\n",
       "      <td>130</td>\n",
       "    </tr>\n",
       "  </tbody>\n",
       "</table>\n",
       "</div>"
      ],
      "text/plain": [
       "               minutes\n",
       "user_id month         \n",
       "1000    5          159\n",
       "        6          172\n",
       "        7          340\n",
       "        8          408\n",
       "        9          466\n",
       "        10         350\n",
       "        11         338\n",
       "        12         333\n",
       "1001    11         430\n",
       "        12         414\n",
       "1002    6          117\n",
       "        7          214\n",
       "        8          289\n",
       "        9          206\n",
       "        10         212\n",
       "        11         243\n",
       "        12         236\n",
       "1003    8          380\n",
       "        9          961\n",
       "        10         855\n",
       "        11         824\n",
       "        12         802\n",
       "1004    5           35\n",
       "        6          171\n",
       "        7          135\n",
       "        8          137\n",
       "        9          117\n",
       "        10         145\n",
       "        11         117\n",
       "        12         130"
      ]
     },
     "execution_count": 27,
     "metadata": {},
     "output_type": "execute_result"
    }
   ],
   "source": [
    "minutes_per_month= calls.groupby(['user_id','month']).agg(minutes=('duration','sum'))\n",
    "\n",
    "\n",
    "minutes_per_month.head(30)# подсчёт израсходованных минут для каждого пользователя по месяцам"
   ]
  },
  {
   "cell_type": "code",
   "execution_count": 28,
   "metadata": {
    "deletable": false
   },
   "outputs": [],
   "source": [
    "# вывод первых 30 строк на экран"
   ]
  },
  {
   "cell_type": "code",
   "execution_count": 29,
   "metadata": {
    "deletable": false
   },
   "outputs": [
    {
     "data": {
      "text/html": [
       "<div>\n",
       "<style scoped>\n",
       "    .dataframe tbody tr th:only-of-type {\n",
       "        vertical-align: middle;\n",
       "    }\n",
       "\n",
       "    .dataframe tbody tr th {\n",
       "        vertical-align: top;\n",
       "    }\n",
       "\n",
       "    .dataframe thead th {\n",
       "        text-align: right;\n",
       "    }\n",
       "</style>\n",
       "<table border=\"1\" class=\"dataframe\">\n",
       "  <thead>\n",
       "    <tr style=\"text-align: right;\">\n",
       "      <th></th>\n",
       "      <th></th>\n",
       "      <th>messages</th>\n",
       "    </tr>\n",
       "    <tr>\n",
       "      <th>user_id</th>\n",
       "      <th>month</th>\n",
       "      <th></th>\n",
       "    </tr>\n",
       "  </thead>\n",
       "  <tbody>\n",
       "    <tr>\n",
       "      <th rowspan=\"8\" valign=\"top\">1000</th>\n",
       "      <th>5</th>\n",
       "      <td>22</td>\n",
       "    </tr>\n",
       "    <tr>\n",
       "      <th>6</th>\n",
       "      <td>60</td>\n",
       "    </tr>\n",
       "    <tr>\n",
       "      <th>7</th>\n",
       "      <td>75</td>\n",
       "    </tr>\n",
       "    <tr>\n",
       "      <th>8</th>\n",
       "      <td>81</td>\n",
       "    </tr>\n",
       "    <tr>\n",
       "      <th>9</th>\n",
       "      <td>57</td>\n",
       "    </tr>\n",
       "    <tr>\n",
       "      <th>10</th>\n",
       "      <td>73</td>\n",
       "    </tr>\n",
       "    <tr>\n",
       "      <th>11</th>\n",
       "      <td>58</td>\n",
       "    </tr>\n",
       "    <tr>\n",
       "      <th>12</th>\n",
       "      <td>70</td>\n",
       "    </tr>\n",
       "    <tr>\n",
       "      <th rowspan=\"7\" valign=\"top\">1002</th>\n",
       "      <th>6</th>\n",
       "      <td>4</td>\n",
       "    </tr>\n",
       "    <tr>\n",
       "      <th>7</th>\n",
       "      <td>11</td>\n",
       "    </tr>\n",
       "    <tr>\n",
       "      <th>8</th>\n",
       "      <td>13</td>\n",
       "    </tr>\n",
       "    <tr>\n",
       "      <th>9</th>\n",
       "      <td>4</td>\n",
       "    </tr>\n",
       "    <tr>\n",
       "      <th>10</th>\n",
       "      <td>10</td>\n",
       "    </tr>\n",
       "    <tr>\n",
       "      <th>11</th>\n",
       "      <td>16</td>\n",
       "    </tr>\n",
       "    <tr>\n",
       "      <th>12</th>\n",
       "      <td>12</td>\n",
       "    </tr>\n",
       "    <tr>\n",
       "      <th rowspan=\"5\" valign=\"top\">1003</th>\n",
       "      <th>8</th>\n",
       "      <td>37</td>\n",
       "    </tr>\n",
       "    <tr>\n",
       "      <th>9</th>\n",
       "      <td>91</td>\n",
       "    </tr>\n",
       "    <tr>\n",
       "      <th>10</th>\n",
       "      <td>83</td>\n",
       "    </tr>\n",
       "    <tr>\n",
       "      <th>11</th>\n",
       "      <td>94</td>\n",
       "    </tr>\n",
       "    <tr>\n",
       "      <th>12</th>\n",
       "      <td>75</td>\n",
       "    </tr>\n",
       "    <tr>\n",
       "      <th rowspan=\"8\" valign=\"top\">1004</th>\n",
       "      <th>5</th>\n",
       "      <td>95</td>\n",
       "    </tr>\n",
       "    <tr>\n",
       "      <th>6</th>\n",
       "      <td>134</td>\n",
       "    </tr>\n",
       "    <tr>\n",
       "      <th>7</th>\n",
       "      <td>181</td>\n",
       "    </tr>\n",
       "    <tr>\n",
       "      <th>8</th>\n",
       "      <td>151</td>\n",
       "    </tr>\n",
       "    <tr>\n",
       "      <th>9</th>\n",
       "      <td>146</td>\n",
       "    </tr>\n",
       "    <tr>\n",
       "      <th>10</th>\n",
       "      <td>165</td>\n",
       "    </tr>\n",
       "    <tr>\n",
       "      <th>11</th>\n",
       "      <td>158</td>\n",
       "    </tr>\n",
       "    <tr>\n",
       "      <th>12</th>\n",
       "      <td>162</td>\n",
       "    </tr>\n",
       "    <tr>\n",
       "      <th rowspan=\"2\" valign=\"top\">1005</th>\n",
       "      <th>1</th>\n",
       "      <td>7</td>\n",
       "    </tr>\n",
       "    <tr>\n",
       "      <th>2</th>\n",
       "      <td>38</td>\n",
       "    </tr>\n",
       "  </tbody>\n",
       "</table>\n",
       "</div>"
      ],
      "text/plain": [
       "               messages\n",
       "user_id month          \n",
       "1000    5            22\n",
       "        6            60\n",
       "        7            75\n",
       "        8            81\n",
       "        9            57\n",
       "        10           73\n",
       "        11           58\n",
       "        12           70\n",
       "1002    6             4\n",
       "        7            11\n",
       "        8            13\n",
       "        9             4\n",
       "        10           10\n",
       "        11           16\n",
       "        12           12\n",
       "1003    8            37\n",
       "        9            91\n",
       "        10           83\n",
       "        11           94\n",
       "        12           75\n",
       "1004    5            95\n",
       "        6           134\n",
       "        7           181\n",
       "        8           151\n",
       "        9           146\n",
       "        10          165\n",
       "        11          158\n",
       "        12          162\n",
       "1005    1             7\n",
       "        2            38"
      ]
     },
     "execution_count": 29,
     "metadata": {},
     "output_type": "execute_result"
    }
   ],
   "source": [
    "messages_per_month= messages.groupby(['user_id','month']).agg(messages=('message_date','count'))\n",
    "\n",
    "\n",
    "messages_per_month.head(30)# подсчёт количества отправленных сообщений для каждого пользователя по месяцам"
   ]
  },
  {
   "cell_type": "code",
   "execution_count": 30,
   "metadata": {
    "deletable": false
   },
   "outputs": [],
   "source": [
    "# вывод первых 30 строк на экран"
   ]
  },
  {
   "cell_type": "code",
   "execution_count": 31,
   "metadata": {
    "deletable": false,
    "scrolled": true
   },
   "outputs": [
    {
     "data": {
      "text/html": [
       "<div>\n",
       "<style scoped>\n",
       "    .dataframe tbody tr th:only-of-type {\n",
       "        vertical-align: middle;\n",
       "    }\n",
       "\n",
       "    .dataframe tbody tr th {\n",
       "        vertical-align: top;\n",
       "    }\n",
       "\n",
       "    .dataframe thead th {\n",
       "        text-align: right;\n",
       "    }\n",
       "</style>\n",
       "<table border=\"1\" class=\"dataframe\">\n",
       "  <thead>\n",
       "    <tr style=\"text-align: right;\">\n",
       "      <th></th>\n",
       "      <th></th>\n",
       "      <th>mb_used</th>\n",
       "    </tr>\n",
       "    <tr>\n",
       "      <th>user_id</th>\n",
       "      <th>month</th>\n",
       "      <th></th>\n",
       "    </tr>\n",
       "  </thead>\n",
       "  <tbody>\n",
       "    <tr>\n",
       "      <th rowspan=\"8\" valign=\"top\">1000</th>\n",
       "      <th>5</th>\n",
       "      <td>2253.49</td>\n",
       "    </tr>\n",
       "    <tr>\n",
       "      <th>6</th>\n",
       "      <td>23233.77</td>\n",
       "    </tr>\n",
       "    <tr>\n",
       "      <th>7</th>\n",
       "      <td>14003.64</td>\n",
       "    </tr>\n",
       "    <tr>\n",
       "      <th>8</th>\n",
       "      <td>14055.93</td>\n",
       "    </tr>\n",
       "    <tr>\n",
       "      <th>9</th>\n",
       "      <td>14568.91</td>\n",
       "    </tr>\n",
       "    <tr>\n",
       "      <th>10</th>\n",
       "      <td>14702.49</td>\n",
       "    </tr>\n",
       "    <tr>\n",
       "      <th>11</th>\n",
       "      <td>14756.47</td>\n",
       "    </tr>\n",
       "    <tr>\n",
       "      <th>12</th>\n",
       "      <td>9817.61</td>\n",
       "    </tr>\n",
       "    <tr>\n",
       "      <th rowspan=\"2\" valign=\"top\">1001</th>\n",
       "      <th>11</th>\n",
       "      <td>18429.34</td>\n",
       "    </tr>\n",
       "    <tr>\n",
       "      <th>12</th>\n",
       "      <td>14036.66</td>\n",
       "    </tr>\n",
       "    <tr>\n",
       "      <th rowspan=\"7\" valign=\"top\">1002</th>\n",
       "      <th>6</th>\n",
       "      <td>10856.82</td>\n",
       "    </tr>\n",
       "    <tr>\n",
       "      <th>7</th>\n",
       "      <td>17580.10</td>\n",
       "    </tr>\n",
       "    <tr>\n",
       "      <th>8</th>\n",
       "      <td>20319.26</td>\n",
       "    </tr>\n",
       "    <tr>\n",
       "      <th>9</th>\n",
       "      <td>16691.08</td>\n",
       "    </tr>\n",
       "    <tr>\n",
       "      <th>10</th>\n",
       "      <td>13888.25</td>\n",
       "    </tr>\n",
       "    <tr>\n",
       "      <th>11</th>\n",
       "      <td>18587.28</td>\n",
       "    </tr>\n",
       "    <tr>\n",
       "      <th>12</th>\n",
       "      <td>18113.73</td>\n",
       "    </tr>\n",
       "    <tr>\n",
       "      <th rowspan=\"5\" valign=\"top\">1003</th>\n",
       "      <th>8</th>\n",
       "      <td>8565.21</td>\n",
       "    </tr>\n",
       "    <tr>\n",
       "      <th>9</th>\n",
       "      <td>12468.87</td>\n",
       "    </tr>\n",
       "    <tr>\n",
       "      <th>10</th>\n",
       "      <td>14768.14</td>\n",
       "    </tr>\n",
       "    <tr>\n",
       "      <th>11</th>\n",
       "      <td>11356.89</td>\n",
       "    </tr>\n",
       "    <tr>\n",
       "      <th>12</th>\n",
       "      <td>10121.53</td>\n",
       "    </tr>\n",
       "    <tr>\n",
       "      <th rowspan=\"8\" valign=\"top\">1004</th>\n",
       "      <th>5</th>\n",
       "      <td>13403.98</td>\n",
       "    </tr>\n",
       "    <tr>\n",
       "      <th>6</th>\n",
       "      <td>17600.02</td>\n",
       "    </tr>\n",
       "    <tr>\n",
       "      <th>7</th>\n",
       "      <td>22229.58</td>\n",
       "    </tr>\n",
       "    <tr>\n",
       "      <th>8</th>\n",
       "      <td>28584.37</td>\n",
       "    </tr>\n",
       "    <tr>\n",
       "      <th>9</th>\n",
       "      <td>15109.03</td>\n",
       "    </tr>\n",
       "    <tr>\n",
       "      <th>10</th>\n",
       "      <td>18475.44</td>\n",
       "    </tr>\n",
       "    <tr>\n",
       "      <th>11</th>\n",
       "      <td>15616.02</td>\n",
       "    </tr>\n",
       "    <tr>\n",
       "      <th>12</th>\n",
       "      <td>18021.04</td>\n",
       "    </tr>\n",
       "  </tbody>\n",
       "</table>\n",
       "</div>"
      ],
      "text/plain": [
       "                mb_used\n",
       "user_id month          \n",
       "1000    5       2253.49\n",
       "        6      23233.77\n",
       "        7      14003.64\n",
       "        8      14055.93\n",
       "        9      14568.91\n",
       "        10     14702.49\n",
       "        11     14756.47\n",
       "        12      9817.61\n",
       "1001    11     18429.34\n",
       "        12     14036.66\n",
       "1002    6      10856.82\n",
       "        7      17580.10\n",
       "        8      20319.26\n",
       "        9      16691.08\n",
       "        10     13888.25\n",
       "        11     18587.28\n",
       "        12     18113.73\n",
       "1003    8       8565.21\n",
       "        9      12468.87\n",
       "        10     14768.14\n",
       "        11     11356.89\n",
       "        12     10121.53\n",
       "1004    5      13403.98\n",
       "        6      17600.02\n",
       "        7      22229.58\n",
       "        8      28584.37\n",
       "        9      15109.03\n",
       "        10     18475.44\n",
       "        11     15616.02\n",
       "        12     18021.04"
      ]
     },
     "execution_count": 31,
     "metadata": {},
     "output_type": "execute_result"
    }
   ],
   "source": [
    "\n",
    "sessions_per_month= sessions.groupby(['user_id','month']).agg({'mb_used':'sum'})\n",
    "\n",
    "\n",
    "sessions_per_month.head(30)# подсчёт потраченных мегабайт для каждого пользователя по месяцам"
   ]
  },
  {
   "cell_type": "code",
   "execution_count": 32,
   "metadata": {
    "deletable": false
   },
   "outputs": [],
   "source": [
    "# вывод первых 30 строк на экран"
   ]
  },
  {
   "cell_type": "markdown",
   "metadata": {
    "deletable": false,
    "editable": false
   },
   "source": [
    "### Анализ данных и подсчёт выручки"
   ]
  },
  {
   "cell_type": "markdown",
   "metadata": {
    "deletable": false,
    "editable": false
   },
   "source": [
    "Объединяем все посчитанные выше значения в один датафрейм `user_behavior`.\n",
    "Для каждой пары \"пользователь - месяц\" будут доступны информация о тарифе, количестве звонков, сообщений и потраченных мегабайтах."
   ]
  },
  {
   "cell_type": "code",
   "execution_count": 33,
   "metadata": {
    "deletable": false
   },
   "outputs": [
    {
     "data": {
      "text/plain": [
       "7.6"
      ]
     },
     "execution_count": 33,
     "metadata": {},
     "output_type": "execute_result"
    }
   ],
   "source": [
    "users['churn_date'].count() / users['churn_date'].shape[0] * 100"
   ]
  },
  {
   "cell_type": "markdown",
   "metadata": {
    "deletable": false,
    "editable": false
   },
   "source": [
    "Расторгли договор 7.6% клиентов из датасета"
   ]
  },
  {
   "cell_type": "code",
   "execution_count": 34,
   "metadata": {
    "deletable": false
   },
   "outputs": [
    {
     "data": {
      "text/html": [
       "<div>\n",
       "<style scoped>\n",
       "    .dataframe tbody tr th:only-of-type {\n",
       "        vertical-align: middle;\n",
       "    }\n",
       "\n",
       "    .dataframe tbody tr th {\n",
       "        vertical-align: top;\n",
       "    }\n",
       "\n",
       "    .dataframe thead th {\n",
       "        text-align: right;\n",
       "    }\n",
       "</style>\n",
       "<table border=\"1\" class=\"dataframe\">\n",
       "  <thead>\n",
       "    <tr style=\"text-align: right;\">\n",
       "      <th></th>\n",
       "      <th>user_id</th>\n",
       "      <th>month</th>\n",
       "      <th>calls</th>\n",
       "      <th>messages</th>\n",
       "      <th>mb_used</th>\n",
       "      <th>minutes</th>\n",
       "      <th>age</th>\n",
       "      <th>churn_date</th>\n",
       "      <th>city</th>\n",
       "      <th>first_name</th>\n",
       "      <th>last_name</th>\n",
       "      <th>reg_date</th>\n",
       "      <th>tariff</th>\n",
       "    </tr>\n",
       "  </thead>\n",
       "  <tbody>\n",
       "    <tr>\n",
       "      <th>0</th>\n",
       "      <td>1000</td>\n",
       "      <td>5</td>\n",
       "      <td>22.0</td>\n",
       "      <td>22.0</td>\n",
       "      <td>2253.49</td>\n",
       "      <td>159.0</td>\n",
       "      <td>52</td>\n",
       "      <td>NaT</td>\n",
       "      <td>Краснодар</td>\n",
       "      <td>Рафаил</td>\n",
       "      <td>Верещагин</td>\n",
       "      <td>2018-05-25</td>\n",
       "      <td>ultra</td>\n",
       "    </tr>\n",
       "    <tr>\n",
       "      <th>1</th>\n",
       "      <td>1000</td>\n",
       "      <td>6</td>\n",
       "      <td>43.0</td>\n",
       "      <td>60.0</td>\n",
       "      <td>23233.77</td>\n",
       "      <td>172.0</td>\n",
       "      <td>52</td>\n",
       "      <td>NaT</td>\n",
       "      <td>Краснодар</td>\n",
       "      <td>Рафаил</td>\n",
       "      <td>Верещагин</td>\n",
       "      <td>2018-05-25</td>\n",
       "      <td>ultra</td>\n",
       "    </tr>\n",
       "    <tr>\n",
       "      <th>2</th>\n",
       "      <td>1000</td>\n",
       "      <td>7</td>\n",
       "      <td>47.0</td>\n",
       "      <td>75.0</td>\n",
       "      <td>14003.64</td>\n",
       "      <td>340.0</td>\n",
       "      <td>52</td>\n",
       "      <td>NaT</td>\n",
       "      <td>Краснодар</td>\n",
       "      <td>Рафаил</td>\n",
       "      <td>Верещагин</td>\n",
       "      <td>2018-05-25</td>\n",
       "      <td>ultra</td>\n",
       "    </tr>\n",
       "    <tr>\n",
       "      <th>3</th>\n",
       "      <td>1000</td>\n",
       "      <td>8</td>\n",
       "      <td>52.0</td>\n",
       "      <td>81.0</td>\n",
       "      <td>14055.93</td>\n",
       "      <td>408.0</td>\n",
       "      <td>52</td>\n",
       "      <td>NaT</td>\n",
       "      <td>Краснодар</td>\n",
       "      <td>Рафаил</td>\n",
       "      <td>Верещагин</td>\n",
       "      <td>2018-05-25</td>\n",
       "      <td>ultra</td>\n",
       "    </tr>\n",
       "    <tr>\n",
       "      <th>4</th>\n",
       "      <td>1000</td>\n",
       "      <td>9</td>\n",
       "      <td>58.0</td>\n",
       "      <td>57.0</td>\n",
       "      <td>14568.91</td>\n",
       "      <td>466.0</td>\n",
       "      <td>52</td>\n",
       "      <td>NaT</td>\n",
       "      <td>Краснодар</td>\n",
       "      <td>Рафаил</td>\n",
       "      <td>Верещагин</td>\n",
       "      <td>2018-05-25</td>\n",
       "      <td>ultra</td>\n",
       "    </tr>\n",
       "  </tbody>\n",
       "</table>\n",
       "</div>"
      ],
      "text/plain": [
       "   user_id  month  calls  messages   mb_used  minutes  age churn_date  \\\n",
       "0     1000      5   22.0      22.0   2253.49    159.0   52        NaT   \n",
       "1     1000      6   43.0      60.0  23233.77    172.0   52        NaT   \n",
       "2     1000      7   47.0      75.0  14003.64    340.0   52        NaT   \n",
       "3     1000      8   52.0      81.0  14055.93    408.0   52        NaT   \n",
       "4     1000      9   58.0      57.0  14568.91    466.0   52        NaT   \n",
       "\n",
       "        city first_name  last_name   reg_date tariff  \n",
       "0  Краснодар     Рафаил  Верещагин 2018-05-25  ultra  \n",
       "1  Краснодар     Рафаил  Верещагин 2018-05-25  ultra  \n",
       "2  Краснодар     Рафаил  Верещагин 2018-05-25  ultra  \n",
       "3  Краснодар     Рафаил  Верещагин 2018-05-25  ultra  \n",
       "4  Краснодар     Рафаил  Верещагин 2018-05-25  ultra  "
      ]
     },
     "execution_count": 34,
     "metadata": {},
     "output_type": "execute_result"
    }
   ],
   "source": [
    "user_behavior = calls_per_month\\\n",
    "    .merge(messages_per_month, left_index=True, right_index=True, how='outer')\\\n",
    "    .merge(sessions_per_month, left_index=True, right_index=True, how='outer')\\\n",
    "    .merge(minutes_per_month, left_index=True, right_index=True, how='outer')\\\n",
    "    .reset_index()\\\n",
    "    .merge(users, how='left', left_on='user_id', right_on='user_id')\\\n",
    "\n",
    "user_behavior.head()"
   ]
  },
  {
   "cell_type": "markdown",
   "metadata": {
    "deletable": false,
    "editable": false
   },
   "source": [
    "Проверим пропуски в таблице `user_behavior` после объединения:"
   ]
  },
  {
   "cell_type": "code",
   "execution_count": 35,
   "metadata": {
    "deletable": false
   },
   "outputs": [
    {
     "data": {
      "text/plain": [
       "user_id          0\n",
       "month            0\n",
       "calls           40\n",
       "messages       497\n",
       "mb_used         11\n",
       "minutes         40\n",
       "age              0\n",
       "churn_date    3027\n",
       "city             0\n",
       "first_name       0\n",
       "last_name        0\n",
       "reg_date         0\n",
       "tariff           0\n",
       "dtype: int64"
      ]
     },
     "execution_count": 35,
     "metadata": {},
     "output_type": "execute_result"
    }
   ],
   "source": [
    "user_behavior.isna().sum()"
   ]
  },
  {
   "cell_type": "markdown",
   "metadata": {
    "deletable": false,
    "editable": false
   },
   "source": [
    "Заполним образовавшиеся пропуски в данных:"
   ]
  },
  {
   "cell_type": "code",
   "execution_count": 36,
   "metadata": {
    "deletable": false
   },
   "outputs": [],
   "source": [
    "user_behavior['calls'] = user_behavior['calls'].fillna(0)\n",
    "user_behavior['minutes'] = user_behavior['minutes'].fillna(0)\n",
    "user_behavior['messages'] = user_behavior['messages'].fillna(0)\n",
    "user_behavior['mb_used'] = user_behavior['mb_used'].fillna(0)"
   ]
  },
  {
   "cell_type": "markdown",
   "metadata": {
    "deletable": false,
    "editable": false
   },
   "source": [
    "Присоединяем информацию о тарифах"
   ]
  },
  {
   "cell_type": "code",
   "execution_count": 37,
   "metadata": {
    "deletable": false
   },
   "outputs": [],
   "source": [
    "# переименование столбца tariff_name на более простое tariff\n",
    "\n",
    "tariffs = tariffs.rename(\n",
    "    columns={\n",
    "        'tariff_name': 'tariff'\n",
    "    }\n",
    ")"
   ]
  },
  {
   "cell_type": "code",
   "execution_count": 38,
   "metadata": {
    "deletable": false
   },
   "outputs": [],
   "source": [
    "user_behavior = user_behavior.merge(tariffs, on='tariff')"
   ]
  },
  {
   "cell_type": "markdown",
   "metadata": {
    "deletable": false,
    "editable": false
   },
   "source": [
    "Считаем количество минут разговора, сообщений и мегабайт, превышающих включенные в тариф\n"
   ]
  },
  {
   "cell_type": "code",
   "execution_count": 39,
   "metadata": {
    "deletable": false
   },
   "outputs": [],
   "source": [
    "user_behavior['paid_minutes'] = user_behavior['minutes'] - user_behavior['minutes_included']\n",
    "user_behavior['paid_messages'] = user_behavior['messages'] - user_behavior['messages_included']\n",
    "user_behavior['paid_mb'] = user_behavior['mb_used'] - user_behavior['mb_per_month_included']\n",
    "\n",
    "for col in ['paid_messages', 'paid_minutes', 'paid_mb']:\n",
    "    user_behavior.loc[user_behavior[col] < 0, col] = 0"
   ]
  },
  {
   "cell_type": "markdown",
   "metadata": {
    "deletable": false,
    "editable": false
   },
   "source": [
    "Переводим превышающие тариф мегабайты в гигабайты и сохраняем в столбец `paid_gb`"
   ]
  },
  {
   "cell_type": "code",
   "execution_count": 40,
   "metadata": {
    "deletable": false
   },
   "outputs": [],
   "source": [
    "user_behavior['paid_gb'] = np.ceil(user_behavior['paid_mb'] / 1024).astype(int)"
   ]
  },
  {
   "cell_type": "markdown",
   "metadata": {
    "deletable": false,
    "editable": false
   },
   "source": [
    "Считаем выручку за минуты разговора, сообщения и интернет"
   ]
  },
  {
   "cell_type": "code",
   "execution_count": 41,
   "metadata": {
    "deletable": false
   },
   "outputs": [],
   "source": [
    "user_behavior['cost_minutes'] = user_behavior['paid_minutes'] * user_behavior['rub_per_minute']\n",
    "user_behavior['cost_messages'] = user_behavior['paid_messages'] * user_behavior['rub_per_message']\n",
    "user_behavior['cost_gb'] = user_behavior['paid_gb'] * user_behavior['rub_per_gb']"
   ]
  },
  {
   "cell_type": "markdown",
   "metadata": {
    "deletable": false,
    "editable": false
   },
   "source": [
    "Считаем помесячную выручку с каждого пользователя, она будет храниться в столбец `total_cost`"
   ]
  },
  {
   "cell_type": "code",
   "execution_count": 42,
   "metadata": {
    "deletable": false
   },
   "outputs": [],
   "source": [
    "user_behavior['total_cost'] = \\\n",
    "      user_behavior['rub_monthly_fee']\\\n",
    "    + user_behavior['cost_minutes']\\\n",
    "    + user_behavior['cost_messages']\\\n",
    "    + user_behavior['cost_gb']\n"
   ]
  },
  {
   "cell_type": "markdown",
   "metadata": {
    "deletable": false,
    "editable": false
   },
   "source": [
    "Датафрейм `stats_df` для каждой пары \"месяц-тариф\" будет хранить основные характеристики"
   ]
  },
  {
   "cell_type": "code",
   "execution_count": 43,
   "metadata": {
    "deletable": false
   },
   "outputs": [
    {
     "data": {
      "text/html": [
       "<div>\n",
       "<style scoped>\n",
       "    .dataframe tbody tr th:only-of-type {\n",
       "        vertical-align: middle;\n",
       "    }\n",
       "\n",
       "    .dataframe tbody tr th {\n",
       "        vertical-align: top;\n",
       "    }\n",
       "\n",
       "    .dataframe thead th {\n",
       "        text-align: right;\n",
       "    }\n",
       "</style>\n",
       "<table border=\"1\" class=\"dataframe\">\n",
       "  <thead>\n",
       "    <tr style=\"text-align: right;\">\n",
       "      <th></th>\n",
       "      <th>month</th>\n",
       "      <th>tariff</th>\n",
       "      <th>calls_mean</th>\n",
       "      <th>sessions_mean</th>\n",
       "      <th>messages_mean</th>\n",
       "      <th>minutes_mean</th>\n",
       "      <th>calls_std</th>\n",
       "      <th>sessions_std</th>\n",
       "      <th>messages_std</th>\n",
       "      <th>minutes_std</th>\n",
       "      <th>calls_median</th>\n",
       "      <th>sessions_median</th>\n",
       "      <th>messages_median</th>\n",
       "      <th>minutes_median</th>\n",
       "    </tr>\n",
       "  </thead>\n",
       "  <tbody>\n",
       "    <tr>\n",
       "      <th>0</th>\n",
       "      <td>1</td>\n",
       "      <td>smart</td>\n",
       "      <td>27.68</td>\n",
       "      <td>8513.72</td>\n",
       "      <td>18.24</td>\n",
       "      <td>203.85</td>\n",
       "      <td>20.81</td>\n",
       "      <td>6444.68</td>\n",
       "      <td>16.20</td>\n",
       "      <td>154.23</td>\n",
       "      <td>20.5</td>\n",
       "      <td>7096.18</td>\n",
       "      <td>15.0</td>\n",
       "      <td>162.5</td>\n",
       "    </tr>\n",
       "    <tr>\n",
       "      <th>1</th>\n",
       "      <td>1</td>\n",
       "      <td>ultra</td>\n",
       "      <td>59.44</td>\n",
       "      <td>13140.68</td>\n",
       "      <td>33.78</td>\n",
       "      <td>428.11</td>\n",
       "      <td>41.64</td>\n",
       "      <td>6865.35</td>\n",
       "      <td>30.67</td>\n",
       "      <td>269.76</td>\n",
       "      <td>51.0</td>\n",
       "      <td>14791.37</td>\n",
       "      <td>32.0</td>\n",
       "      <td>382.0</td>\n",
       "    </tr>\n",
       "    <tr>\n",
       "      <th>2</th>\n",
       "      <td>2</td>\n",
       "      <td>smart</td>\n",
       "      <td>40.19</td>\n",
       "      <td>11597.05</td>\n",
       "      <td>24.09</td>\n",
       "      <td>298.69</td>\n",
       "      <td>25.39</td>\n",
       "      <td>6247.35</td>\n",
       "      <td>21.75</td>\n",
       "      <td>190.82</td>\n",
       "      <td>38.5</td>\n",
       "      <td>12553.71</td>\n",
       "      <td>20.0</td>\n",
       "      <td>258.0</td>\n",
       "    </tr>\n",
       "    <tr>\n",
       "      <th>3</th>\n",
       "      <td>2</td>\n",
       "      <td>ultra</td>\n",
       "      <td>41.54</td>\n",
       "      <td>11775.94</td>\n",
       "      <td>21.96</td>\n",
       "      <td>297.12</td>\n",
       "      <td>40.97</td>\n",
       "      <td>10644.64</td>\n",
       "      <td>26.77</td>\n",
       "      <td>296.51</td>\n",
       "      <td>25.0</td>\n",
       "      <td>7327.12</td>\n",
       "      <td>5.5</td>\n",
       "      <td>168.0</td>\n",
       "    </tr>\n",
       "    <tr>\n",
       "      <th>4</th>\n",
       "      <td>3</td>\n",
       "      <td>smart</td>\n",
       "      <td>54.32</td>\n",
       "      <td>15104.16</td>\n",
       "      <td>31.86</td>\n",
       "      <td>390.05</td>\n",
       "      <td>25.54</td>\n",
       "      <td>5828.24</td>\n",
       "      <td>26.80</td>\n",
       "      <td>191.89</td>\n",
       "      <td>59.0</td>\n",
       "      <td>15670.25</td>\n",
       "      <td>23.0</td>\n",
       "      <td>409.0</td>\n",
       "    </tr>\n",
       "    <tr>\n",
       "      <th>5</th>\n",
       "      <td>3</td>\n",
       "      <td>ultra</td>\n",
       "      <td>67.68</td>\n",
       "      <td>17535.55</td>\n",
       "      <td>32.30</td>\n",
       "      <td>489.65</td>\n",
       "      <td>44.84</td>\n",
       "      <td>10951.79</td>\n",
       "      <td>41.62</td>\n",
       "      <td>333.74</td>\n",
       "      <td>57.0</td>\n",
       "      <td>17495.18</td>\n",
       "      <td>20.0</td>\n",
       "      <td>403.0</td>\n",
       "    </tr>\n",
       "    <tr>\n",
       "      <th>6</th>\n",
       "      <td>4</td>\n",
       "      <td>smart</td>\n",
       "      <td>51.31</td>\n",
       "      <td>13462.18</td>\n",
       "      <td>30.74</td>\n",
       "      <td>367.13</td>\n",
       "      <td>25.70</td>\n",
       "      <td>5698.25</td>\n",
       "      <td>24.54</td>\n",
       "      <td>186.49</td>\n",
       "      <td>52.0</td>\n",
       "      <td>14087.65</td>\n",
       "      <td>28.0</td>\n",
       "      <td>368.5</td>\n",
       "    </tr>\n",
       "    <tr>\n",
       "      <th>7</th>\n",
       "      <td>4</td>\n",
       "      <td>ultra</td>\n",
       "      <td>64.09</td>\n",
       "      <td>16828.13</td>\n",
       "      <td>31.56</td>\n",
       "      <td>458.02</td>\n",
       "      <td>36.27</td>\n",
       "      <td>9718.65</td>\n",
       "      <td>37.51</td>\n",
       "      <td>267.68</td>\n",
       "      <td>61.0</td>\n",
       "      <td>16645.78</td>\n",
       "      <td>17.0</td>\n",
       "      <td>453.0</td>\n",
       "    </tr>\n",
       "    <tr>\n",
       "      <th>8</th>\n",
       "      <td>5</td>\n",
       "      <td>smart</td>\n",
       "      <td>55.24</td>\n",
       "      <td>15805.18</td>\n",
       "      <td>33.77</td>\n",
       "      <td>387.36</td>\n",
       "      <td>25.38</td>\n",
       "      <td>5978.23</td>\n",
       "      <td>27.04</td>\n",
       "      <td>186.60</td>\n",
       "      <td>59.0</td>\n",
       "      <td>16323.94</td>\n",
       "      <td>30.0</td>\n",
       "      <td>433.0</td>\n",
       "    </tr>\n",
       "    <tr>\n",
       "      <th>9</th>\n",
       "      <td>5</td>\n",
       "      <td>ultra</td>\n",
       "      <td>72.51</td>\n",
       "      <td>19363.15</td>\n",
       "      <td>37.85</td>\n",
       "      <td>510.33</td>\n",
       "      <td>41.08</td>\n",
       "      <td>10046.11</td>\n",
       "      <td>40.31</td>\n",
       "      <td>289.60</td>\n",
       "      <td>75.0</td>\n",
       "      <td>18696.43</td>\n",
       "      <td>25.0</td>\n",
       "      <td>519.0</td>\n",
       "    </tr>\n",
       "  </tbody>\n",
       "</table>\n",
       "</div>"
      ],
      "text/plain": [
       "   month tariff  calls_mean  sessions_mean  messages_mean  minutes_mean  \\\n",
       "0      1  smart       27.68        8513.72          18.24        203.85   \n",
       "1      1  ultra       59.44       13140.68          33.78        428.11   \n",
       "2      2  smart       40.19       11597.05          24.09        298.69   \n",
       "3      2  ultra       41.54       11775.94          21.96        297.12   \n",
       "4      3  smart       54.32       15104.16          31.86        390.05   \n",
       "5      3  ultra       67.68       17535.55          32.30        489.65   \n",
       "6      4  smart       51.31       13462.18          30.74        367.13   \n",
       "7      4  ultra       64.09       16828.13          31.56        458.02   \n",
       "8      5  smart       55.24       15805.18          33.77        387.36   \n",
       "9      5  ultra       72.51       19363.15          37.85        510.33   \n",
       "\n",
       "   calls_std  sessions_std  messages_std  minutes_std  calls_median  \\\n",
       "0      20.81       6444.68         16.20       154.23          20.5   \n",
       "1      41.64       6865.35         30.67       269.76          51.0   \n",
       "2      25.39       6247.35         21.75       190.82          38.5   \n",
       "3      40.97      10644.64         26.77       296.51          25.0   \n",
       "4      25.54       5828.24         26.80       191.89          59.0   \n",
       "5      44.84      10951.79         41.62       333.74          57.0   \n",
       "6      25.70       5698.25         24.54       186.49          52.0   \n",
       "7      36.27       9718.65         37.51       267.68          61.0   \n",
       "8      25.38       5978.23         27.04       186.60          59.0   \n",
       "9      41.08      10046.11         40.31       289.60          75.0   \n",
       "\n",
       "   sessions_median  messages_median  minutes_median  \n",
       "0          7096.18             15.0           162.5  \n",
       "1         14791.37             32.0           382.0  \n",
       "2         12553.71             20.0           258.0  \n",
       "3          7327.12              5.5           168.0  \n",
       "4         15670.25             23.0           409.0  \n",
       "5         17495.18             20.0           403.0  \n",
       "6         14087.65             28.0           368.5  \n",
       "7         16645.78             17.0           453.0  \n",
       "8         16323.94             30.0           433.0  \n",
       "9         18696.43             25.0           519.0  "
      ]
     },
     "execution_count": 43,
     "metadata": {},
     "output_type": "execute_result"
    }
   ],
   "source": [
    "# сохранение статистических метрик для каждой пары месяц-тариф\n",
    "# в одной таблице stats_df (среднее значение, стандартное отклонение, медиана)\n",
    "\n",
    "stats_df = user_behavior.pivot_table(\n",
    "            index=['month', 'tariff'],\\\n",
    "            values=['calls', 'minutes', 'messages', 'mb_used'],\\\n",
    "            aggfunc=['mean', 'std', 'median']\\\n",
    ").round(2).reset_index()\n",
    "\n",
    "stats_df.columns=['month', 'tariff', 'calls_mean', 'sessions_mean', 'messages_mean', 'minutes_mean',\n",
    "                                     'calls_std',  'sessions_std', 'messages_std', 'minutes_std', \n",
    "                                     'calls_median', 'sessions_median', 'messages_median',  'minutes_median']\n",
    "\n",
    "stats_df.head(10)"
   ]
  },
  {
   "cell_type": "markdown",
   "metadata": {
    "deletable": false,
    "editable": false
   },
   "source": [
    "Распределение среднего количества звонков по видам тарифов и месяцам"
   ]
  },
  {
   "cell_type": "code",
   "execution_count": 44,
   "metadata": {
    "deletable": false
   },
   "outputs": [
    {
     "data": {
      "image/png": "[encoded data removed]",
      "text/plain": [
       "<Figure size 432x288 with 1 Axes>"
      ]
     },
     "metadata": {
      "needs_background": "light"
     },
     "output_type": "display_data"
    }
   ],
   "source": [
    "import seaborn as sns\n",
    "\n",
    "ax = sns.barplot(x='month',\n",
    "            y='calls_mean',\n",
    "            hue=\"tariff\",\n",
    "            data=stats_df,\n",
    "            palette=['lightblue', 'blue'])\n",
    "\n",
    "ax.set_title('Распределение количества звонков по видам тарифов и месяцам')\n",
    "ax.set(xlabel='Номер месяца', ylabel='Среднее количество звонков');"
   ]
  },
  {
   "cell_type": "code",
   "execution_count": 45,
   "metadata": {
    "deletable": false
   },
   "outputs": [
    {
     "data": {
      "image/png": "[encoded data removed]",
      "text/plain": [
       "<Figure size 432x288 with 1 Axes>"
      ]
     },
     "metadata": {
      "needs_background": "light"
     },
     "output_type": "display_data"
    }
   ],
   "source": [
    "import matplotlib.pyplot as plt\n",
    "\n",
    "user_behavior.groupby('tariff')['calls'].plot(kind='hist', bins=35, alpha=0.5)\n",
    "plt.legend(['Smart', 'Ultra'])\n",
    "plt.xlabel('Количество звонков')\n",
    "plt.ylabel('Количество клиентов')\n",
    "plt.show()"
   ]
  },
  {
   "cell_type": "markdown",
   "metadata": {
    "deletable": false,
    "editable": false
   },
   "source": [
    "Распределение средней продолжительности звонков по видам тарифов и месяцам"
   ]
  },
  {
   "cell_type": "code",
   "execution_count": 46,
   "metadata": {
    "deletable": false
   },
   "outputs": [
    {
     "data": {
      "image/png": "[encoded data removed]",
      "text/plain": [
       "<Figure size 432x288 with 1 Axes>"
      ]
     },
     "metadata": {
      "needs_background": "light"
     },
     "output_type": "display_data"
    }
   ],
   "source": [
    "ax = sns.barplot(x='month',\n",
    "            y='minutes_mean',\n",
    "            hue=\"tariff\",\n",
    "            data=stats_df,\n",
    "            palette=['lightblue', 'blue'])\n",
    "\n",
    "ax.set_title('Распределение продолжительности звонков по видам тарифов и месяцам')\n",
    "ax.set(xlabel='Номер месяца', ylabel='Средняя продолжительность звонков');"
   ]
  },
  {
   "cell_type": "code",
   "execution_count": 47,
   "metadata": {
    "deletable": false
   },
   "outputs": [
    {
     "data": {
      "image/png": "[encoded data removed]",
      "text/plain": [
       "<Figure size 432x288 with 1 Axes>"
      ]
     },
     "metadata": {
      "needs_background": "light"
     },
     "output_type": "display_data"
    }
   ],
   "source": [
    "user_behavior[user_behavior['tariff'] =='smart']['minutes'].hist(bins=35, alpha=0.5, color='green')\n",
    "user_behavior[user_behavior['tariff'] =='ultra']['minutes'].hist(bins=35, alpha=0.5, color='blue');"
   ]
  },
  {
   "cell_type": "markdown",
   "metadata": {
    "deletable": false,
    "editable": false
   },
   "source": [
    "Средняя длительность разговоров у абонентов тарифа Ultra больше, чем у абонентов тарифа Smart. В течение года пользователи обоих тарифов увеличивают среднюю продолжительность своих разговоров. Рост средней длительности разговоров у абонентов тарифа Smart равномерный в течение года. Пользователи тарифа Ultra не проявляют подобной линейной стабильности. Стоит отметить, что феврале у абонентов обоих тарифных планов наблюдались самые низкие показатели."
   ]
  },
  {
   "cell_type": "markdown",
   "metadata": {
    "deletable": false,
    "editable": false
   },
   "source": [
    "Распределение среднего количества сообщений по видам тарифов и месяцам"
   ]
  },
  {
   "cell_type": "code",
   "execution_count": 48,
   "metadata": {
    "deletable": false
   },
   "outputs": [
    {
     "data": {
      "image/png": "[encoded data removed]",
      "text/plain": [
       "<Figure size 432x288 with 1 Axes>"
      ]
     },
     "metadata": {
      "needs_background": "light"
     },
     "output_type": "display_data"
    }
   ],
   "source": [
    "ax = sns.barplot(x='month',\n",
    "            y='messages_mean',\n",
    "            hue=\"tariff\",\n",
    "            data=stats_df,\n",
    "            palette=['lightblue', 'blue']\n",
    ")\n",
    "\n",
    "ax.set_title('Распределение количества сообщений по видам тарифов и месяцам')\n",
    "ax.set(xlabel='Номер месяца', ylabel='Среднее количество звонков');"
   ]
  },
  {
   "cell_type": "code",
   "execution_count": 49,
   "metadata": {
    "deletable": false
   },
   "outputs": [
    {
     "data": {
      "image/png": "[encoded data removed]",
      "text/plain": [
       "<Figure size 432x288 with 1 Axes>"
      ]
     },
     "metadata": {
      "needs_background": "light"
     },
     "output_type": "display_data"
    }
   ],
   "source": [
    "user_behavior[user_behavior['tariff'] =='smart']['messages'].hist(bins=35, alpha=0.5, color='green')\n",
    "user_behavior[user_behavior['tariff'] =='ultra']['messages'].hist(bins=35, alpha=0.5, color='blue');"
   ]
  },
  {
   "cell_type": "markdown",
   "metadata": {
    "deletable": false,
    "editable": false
   },
   "source": [
    "В среднем количество сообщений пользователи тарифа Ultra отправляют больше - почти на 20 сообщений больше, чем пользователи тарифа Smart. Количество сообщений в течение года на обоих тарифак растет. Динамика по отправке сообщений схожа с тенденциями по длительности разговоров: в феврале отмечено наименьшее количество сообщений за год и пользователи тарифа Ultra также проявляют нелинейную полодительную динамику."
   ]
  },
  {
   "cell_type": "code",
   "execution_count": 50,
   "metadata": {
    "deletable": false
   },
   "outputs": [
    {
     "data": {
      "image/png": "[encoded data removed]",
      "text/plain": [
       "<Figure size 432x288 with 1 Axes>"
      ]
     },
     "metadata": {
      "needs_background": "light"
     },
     "output_type": "display_data"
    }
   ],
   "source": [
    "ax = sns.barplot(x='month',\n",
    "            y='sessions_mean',\n",
    "            hue=\"tariff\",\n",
    "            data=stats_df,\n",
    "            palette=['lightblue', 'blue']\n",
    ")\n",
    "\n",
    "ax.set_title('Распределение количества потраченного трафика (Мб) по видам тарифов и месяцам')\n",
    "ax.set(xlabel='Номер месяца', ylabel='Среднее количество мегабайт');"
   ]
  },
  {
   "cell_type": "markdown",
   "metadata": {
    "deletable": false,
    "editable": false
   },
   "source": [
    "Сравнение потраченных мегабайт среди пользователей тарифов Smart и Ultra"
   ]
  },
  {
   "cell_type": "code",
   "execution_count": 51,
   "metadata": {
    "deletable": false
   },
   "outputs": [
    {
     "data": {
      "image/png": "[encoded data removed]",
      "text/plain": [
       "<Figure size 432x288 with 1 Axes>"
      ]
     },
     "metadata": {
      "needs_background": "light"
     },
     "output_type": "display_data"
    }
   ],
   "source": [
    "user_behavior[user_behavior['tariff'] =='smart']['mb_used'].hist(bins=35, alpha=0.5, color='green')\n",
    "user_behavior[user_behavior['tariff'] =='ultra']['mb_used'].hist(bins=35, alpha=0.5, color='blue');"
   ]
  },
  {
   "cell_type": "markdown",
   "metadata": {
    "deletable": false,
    "editable": false
   },
   "source": [
    "Меньше всего пользователи использовали интернет в январе, феврале и апреле. Чаще всего абоненты тарифа Smart тратят 15-17 Гб, а абоненты тарифного плана Ultra - 19-21 ГБ."
   ]
  },
  {
   "cell_type": "markdown",
   "metadata": {
    "deletable": false,
    "editable": false
   },
   "source": [
    "### Проверка гипотез"
   ]
  },
  {
   "cell_type": "markdown",
   "metadata": {
    "tags": [
     "start_task"
    ]
   },
   "source": [
    "```\n",
    "H_0: Выручка (total_cost) пользователей \"Ультра\" = выручка (total_cost) пользователей \"Смарт\"`\n",
    "H_a: Выручка (total_cost) пользователей \"Ультра\" ≠ выручка (total_cost) пользователей \"Смарт\"`\n",
    "alpha = 0.05\n",
    "```"
   ]
  },
  {
   "cell_type": "code",
   "execution_count": 52,
   "metadata": {
    "deletable": false
   },
   "outputs": [],
   "source": [
    "from scipy import stats as st"
   ]
  },
  {
   "cell_type": "code",
   "execution_count": 53,
   "metadata": {
    "deletable": false
   },
   "outputs": [
    {
     "name": "stdout",
     "output_type": "stream",
     "text": [
      "4.2606313931076085e-250\n",
      "Отвергаем нулевую гипотезу\n"
     ]
    }
   ],
   "source": [
    "results = st.ttest_ind(user_behavior[user_behavior['tariff'] =='smart']['total_cost'],\n",
    "                       user_behavior[user_behavior['tariff'] =='ultra']['total_cost'], equal_var = False)\n",
    "\n",
    "alpha = 0.05\n",
    "print(results.pvalue)\n",
    "\n",
    "if results.pvalue < alpha:\n",
    "    print('Отвергаем нулевую гипотезу')\n",
    "else:\n",
    "    print('Не получилось отвергнуть нулевую гипотезу')"
   ]
  },
  {
   "cell_type": "code",
   "execution_count": 54,
   "metadata": {},
   "outputs": [],
   "source": [
    "#user_behavior[user_behavior['tariff'] =='smart']['total_cost']"
   ]
  },
  {
   "cell_type": "markdown",
   "metadata": {
    "deletable": false,
    "tags": [
     "start_task"
    ]
   },
   "source": [
    "```\n",
    "H_0: Выручка (total_cost) пользователей из Москвы = выручка (total_cost) пользователей не из Москвы`\n",
    "H_1: Выручка (total_cost) пользователей из Москвы ≠ выручка (total_cost) пользователей не из Москвы`\n",
    "alpha = 0.05\n",
    "```"
   ]
  },
  {
   "cell_type": "code",
   "execution_count": 55,
   "metadata": {
    "deletable": false
   },
   "outputs": [
    {
     "name": "stdout",
     "output_type": "stream",
     "text": [
      "0.5257376663729298\n",
      "Не получилось отвергнуть нулевую гипотезу\n"
     ]
    }
   ],
   "source": [
    "results = st.ttest_ind(user_behavior[user_behavior['city'] =='Москва']['total_cost'],\n",
    "                       user_behavior[user_behavior['city'] !='Москва']['total_cost'], equal_var = False)\n",
    "\n",
    "alpha = 0.05\n",
    "print(results.pvalue)\n",
    "\n",
    "if results.pvalue < alpha:\n",
    "    print('Отвергаем нулевую гипотезу')\n",
    "else:\n",
    "    print('Не получилось отвергнуть нулевую гипотезу')"
   ]
  }
 ],
 "metadata": {
  "ExecuteTimeLog": [
   {
    "duration": 52,
    "start_time": "2022-08-09T19:58:59.965Z"
   },
   {
    "duration": 42,
    "start_time": "2022-08-09T19:59:04.866Z"
   },
   {
    "duration": 427,
    "start_time": "2022-08-09T19:59:07.513Z"
   },
   {
    "duration": 290,
    "start_time": "2022-08-09T19:59:09.111Z"
   },
   {
    "duration": 2,
    "start_time": "2022-08-09T19:59:19.537Z"
   },
   {
    "duration": 2,
    "start_time": "2022-08-09T19:59:23.884Z"
   },
   {
    "duration": 264,
    "start_time": "2022-08-09T19:59:23.887Z"
   },
   {
    "duration": 2,
    "start_time": "2022-08-09T19:59:24.153Z"
   },
   {
    "duration": 8,
    "start_time": "2022-08-09T19:59:24.156Z"
   },
   {
    "duration": 6,
    "start_time": "2022-08-09T19:59:24.166Z"
   },
   {
    "duration": 14,
    "start_time": "2022-08-09T19:59:24.173Z"
   },
   {
    "duration": 19,
    "start_time": "2022-08-09T19:59:24.188Z"
   },
   {
    "duration": 13,
    "start_time": "2022-08-09T19:59:24.208Z"
   },
   {
    "duration": 11,
    "start_time": "2022-08-09T19:59:24.223Z"
   },
   {
    "duration": 15,
    "start_time": "2022-08-09T19:59:24.235Z"
   },
   {
    "duration": 11,
    "start_time": "2022-08-09T19:59:24.252Z"
   },
   {
    "duration": 15,
    "start_time": "2022-08-09T19:59:24.264Z"
   },
   {
    "duration": 42,
    "start_time": "2022-08-09T19:59:24.280Z"
   },
   {
    "duration": 0,
    "start_time": "2022-08-09T19:59:24.324Z"
   },
   {
    "duration": 0,
    "start_time": "2022-08-09T19:59:24.325Z"
   },
   {
    "duration": 0,
    "start_time": "2022-08-09T19:59:24.326Z"
   },
   {
    "duration": 0,
    "start_time": "2022-08-09T19:59:24.327Z"
   },
   {
    "duration": 0,
    "start_time": "2022-08-09T19:59:24.328Z"
   },
   {
    "duration": 0,
    "start_time": "2022-08-09T19:59:24.329Z"
   },
   {
    "duration": 0,
    "start_time": "2022-08-09T19:59:24.330Z"
   },
   {
    "duration": 0,
    "start_time": "2022-08-09T19:59:24.331Z"
   },
   {
    "duration": 0,
    "start_time": "2022-08-09T19:59:24.332Z"
   },
   {
    "duration": 0,
    "start_time": "2022-08-09T19:59:24.333Z"
   },
   {
    "duration": 0,
    "start_time": "2022-08-09T19:59:24.334Z"
   },
   {
    "duration": 0,
    "start_time": "2022-08-09T19:59:24.335Z"
   },
   {
    "duration": 0,
    "start_time": "2022-08-09T19:59:24.337Z"
   },
   {
    "duration": 0,
    "start_time": "2022-08-09T19:59:24.338Z"
   },
   {
    "duration": 0,
    "start_time": "2022-08-09T19:59:24.339Z"
   },
   {
    "duration": 0,
    "start_time": "2022-08-09T19:59:24.340Z"
   },
   {
    "duration": 0,
    "start_time": "2022-08-09T19:59:24.341Z"
   },
   {
    "duration": 0,
    "start_time": "2022-08-09T19:59:24.342Z"
   },
   {
    "duration": 0,
    "start_time": "2022-08-09T19:59:24.343Z"
   },
   {
    "duration": 0,
    "start_time": "2022-08-09T19:59:24.344Z"
   },
   {
    "duration": 0,
    "start_time": "2022-08-09T19:59:24.345Z"
   },
   {
    "duration": 15,
    "start_time": "2022-08-09T19:59:32.198Z"
   },
   {
    "duration": 34,
    "start_time": "2022-08-09T20:00:22.005Z"
   },
   {
    "duration": 45,
    "start_time": "2022-08-09T20:01:16.904Z"
   },
   {
    "duration": 593,
    "start_time": "2022-08-09T20:01:58.439Z"
   },
   {
    "duration": 183,
    "start_time": "2022-08-09T20:02:21.377Z"
   },
   {
    "duration": 27,
    "start_time": "2022-08-09T20:02:55.035Z"
   },
   {
    "duration": 162,
    "start_time": "2022-08-09T20:03:05.369Z"
   },
   {
    "duration": 169,
    "start_time": "2022-08-09T20:03:18.846Z"
   },
   {
    "duration": 225,
    "start_time": "2022-08-09T20:03:52.173Z"
   },
   {
    "duration": 167,
    "start_time": "2022-08-09T20:03:57.509Z"
   },
   {
    "duration": 47,
    "start_time": "2022-08-09T20:05:18.307Z"
   },
   {
    "duration": 7,
    "start_time": "2022-08-09T20:05:25.737Z"
   },
   {
    "duration": 144,
    "start_time": "2022-08-09T20:05:29.154Z"
   },
   {
    "duration": 159,
    "start_time": "2022-08-09T20:06:08.527Z"
   },
   {
    "duration": 151,
    "start_time": "2022-08-09T20:06:25.854Z"
   },
   {
    "duration": 150,
    "start_time": "2022-08-09T20:06:48.383Z"
   },
   {
    "duration": 132,
    "start_time": "2022-08-09T20:07:42.335Z"
   },
   {
    "duration": 138,
    "start_time": "2022-08-09T20:07:45.507Z"
   },
   {
    "duration": 499,
    "start_time": "2022-08-09T20:08:24.951Z"
   },
   {
    "duration": 10,
    "start_time": "2022-08-09T20:08:46.088Z"
   },
   {
    "duration": 21,
    "start_time": "2022-08-09T20:08:54.622Z"
   },
   {
    "duration": 163,
    "start_time": "2022-08-09T20:09:12.214Z"
   },
   {
    "duration": 157,
    "start_time": "2022-08-09T20:09:13.640Z"
   },
   {
    "duration": 314,
    "start_time": "2022-08-09T20:09:29.645Z"
   },
   {
    "duration": 8,
    "start_time": "2022-08-09T20:09:41.427Z"
   },
   {
    "duration": 20,
    "start_time": "2022-08-09T20:09:48.241Z"
   },
   {
    "duration": 70,
    "start_time": "2022-08-09T20:10:04.498Z"
   },
   {
    "duration": 8,
    "start_time": "2022-08-09T20:10:06.262Z"
   },
   {
    "duration": 10,
    "start_time": "2022-08-09T20:10:14.616Z"
   },
   {
    "duration": 76,
    "start_time": "2022-08-09T20:10:24.402Z"
   },
   {
    "duration": 14,
    "start_time": "2022-08-09T20:10:27.249Z"
   },
   {
    "duration": 11,
    "start_time": "2022-08-09T20:10:33.629Z"
   },
   {
    "duration": 10,
    "start_time": "2022-08-09T20:13:14.415Z"
   },
   {
    "duration": 9,
    "start_time": "2022-08-09T20:13:27.186Z"
   },
   {
    "duration": 5,
    "start_time": "2022-08-09T20:13:34.567Z"
   },
   {
    "duration": 7,
    "start_time": "2022-08-09T20:14:34.815Z"
   },
   {
    "duration": 8,
    "start_time": "2022-08-09T20:14:59.862Z"
   },
   {
    "duration": 6,
    "start_time": "2022-08-09T20:15:06.251Z"
   },
   {
    "duration": 5,
    "start_time": "2022-08-09T20:15:10.734Z"
   },
   {
    "duration": 10,
    "start_time": "2022-08-09T20:15:13.540Z"
   },
   {
    "duration": 860,
    "start_time": "2022-08-09T20:15:38.789Z"
   },
   {
    "duration": 69,
    "start_time": "2022-08-09T20:16:05.071Z"
   },
   {
    "duration": 12,
    "start_time": "2022-08-09T20:25:30.678Z"
   },
   {
    "duration": 9,
    "start_time": "2022-08-09T20:25:34.592Z"
   },
   {
    "duration": 8,
    "start_time": "2022-08-09T20:25:52.480Z"
   },
   {
    "duration": 7,
    "start_time": "2022-08-09T20:25:57.074Z"
   },
   {
    "duration": 10,
    "start_time": "2022-08-09T20:26:00.571Z"
   },
   {
    "duration": 9,
    "start_time": "2022-08-09T20:26:02.953Z"
   },
   {
    "duration": 5,
    "start_time": "2022-08-09T20:26:07.395Z"
   },
   {
    "duration": 14,
    "start_time": "2022-08-09T20:26:42.696Z"
   },
   {
    "duration": 16,
    "start_time": "2022-08-09T20:27:25.563Z"
   },
   {
    "duration": 11,
    "start_time": "2022-08-09T20:27:30.795Z"
   },
   {
    "duration": 8,
    "start_time": "2022-08-09T20:28:06.210Z"
   },
   {
    "duration": 23,
    "start_time": "2022-08-09T20:28:52.752Z"
   },
   {
    "duration": 26,
    "start_time": "2022-08-09T20:28:56.441Z"
   },
   {
    "duration": 774,
    "start_time": "2022-08-09T20:29:35.578Z"
   },
   {
    "duration": 14,
    "start_time": "2022-08-09T20:29:43.333Z"
   },
   {
    "duration": 16,
    "start_time": "2022-08-09T20:30:15.508Z"
   },
   {
    "duration": 13,
    "start_time": "2022-08-09T20:30:59.153Z"
   },
   {
    "duration": 7,
    "start_time": "2022-08-09T20:32:25.388Z"
   },
   {
    "duration": 31,
    "start_time": "2022-08-09T20:33:28.273Z"
   },
   {
    "duration": 20,
    "start_time": "2022-08-09T20:33:47.269Z"
   },
   {
    "duration": 50,
    "start_time": "2022-08-09T20:33:54.597Z"
   },
   {
    "duration": 20,
    "start_time": "2022-08-09T20:33:56.283Z"
   },
   {
    "duration": 17,
    "start_time": "2022-08-09T20:34:45.090Z"
   },
   {
    "duration": 18,
    "start_time": "2022-08-09T20:36:48.311Z"
   },
   {
    "duration": 12,
    "start_time": "2022-08-09T20:37:55.150Z"
   },
   {
    "duration": 18,
    "start_time": "2022-08-09T20:37:58.270Z"
   },
   {
    "duration": 17,
    "start_time": "2022-08-09T20:38:32.086Z"
   },
   {
    "duration": 11,
    "start_time": "2022-08-09T20:38:46.083Z"
   },
   {
    "duration": 17,
    "start_time": "2022-08-09T20:38:56.628Z"
   },
   {
    "duration": 18,
    "start_time": "2022-08-09T20:39:27.759Z"
   },
   {
    "duration": 50,
    "start_time": "2022-08-09T20:39:34.762Z"
   },
   {
    "duration": 58,
    "start_time": "2022-08-09T20:39:36.064Z"
   },
   {
    "duration": 17,
    "start_time": "2022-08-09T20:39:42.267Z"
   },
   {
    "duration": 18,
    "start_time": "2022-08-09T20:39:47.334Z"
   },
   {
    "duration": 18,
    "start_time": "2022-08-09T20:40:18.586Z"
   },
   {
    "duration": 14,
    "start_time": "2022-08-09T20:40:37.349Z"
   },
   {
    "duration": 486,
    "start_time": "2022-08-09T20:40:44.982Z"
   },
   {
    "duration": 12,
    "start_time": "2022-08-09T20:40:55.350Z"
   },
   {
    "duration": 19,
    "start_time": "2022-08-09T20:40:57.675Z"
   },
   {
    "duration": 11,
    "start_time": "2022-08-09T20:43:44.065Z"
   },
   {
    "duration": 12,
    "start_time": "2022-08-09T20:43:53.372Z"
   },
   {
    "duration": 29,
    "start_time": "2022-08-09T20:44:06.997Z"
   },
   {
    "duration": 310,
    "start_time": "2022-08-09T20:44:25.487Z"
   },
   {
    "duration": 40,
    "start_time": "2022-08-09T20:44:28.787Z"
   },
   {
    "duration": 56,
    "start_time": "2022-08-09T20:45:08.847Z"
   },
   {
    "duration": 11,
    "start_time": "2022-08-09T20:45:19.657Z"
   },
   {
    "duration": 17,
    "start_time": "2022-08-09T20:45:58.572Z"
   },
   {
    "duration": 19,
    "start_time": "2022-08-09T20:46:25.982Z"
   },
   {
    "duration": 12,
    "start_time": "2022-08-09T20:46:29.682Z"
   },
   {
    "duration": 9,
    "start_time": "2022-08-09T20:46:37.838Z"
   },
   {
    "duration": 11,
    "start_time": "2022-08-09T20:46:41.234Z"
   },
   {
    "duration": 12,
    "start_time": "2022-08-09T20:46:58.055Z"
   },
   {
    "duration": 19,
    "start_time": "2022-08-09T20:47:02.487Z"
   },
   {
    "duration": 18,
    "start_time": "2022-08-09T20:47:13.822Z"
   },
   {
    "duration": 14,
    "start_time": "2022-08-09T20:47:21.113Z"
   },
   {
    "duration": 11,
    "start_time": "2022-08-09T20:48:00.053Z"
   },
   {
    "duration": 13,
    "start_time": "2022-08-09T20:48:36.075Z"
   },
   {
    "duration": 50,
    "start_time": "2022-08-09T20:49:30.281Z"
   },
   {
    "duration": 11,
    "start_time": "2022-08-09T20:49:40.004Z"
   },
   {
    "duration": 61,
    "start_time": "2022-08-09T20:49:48.480Z"
   },
   {
    "duration": 9,
    "start_time": "2022-08-09T20:49:54.372Z"
   },
   {
    "duration": 68,
    "start_time": "2022-08-09T20:50:03.690Z"
   },
   {
    "duration": 13,
    "start_time": "2022-08-09T20:50:09.480Z"
   },
   {
    "duration": 13,
    "start_time": "2022-08-09T20:50:25.607Z"
   },
   {
    "duration": 18,
    "start_time": "2022-08-09T20:50:31.294Z"
   },
   {
    "duration": 8,
    "start_time": "2022-08-09T20:51:08.279Z"
   },
   {
    "duration": 13,
    "start_time": "2022-08-09T20:51:11.824Z"
   },
   {
    "duration": 12,
    "start_time": "2022-08-09T20:52:01.693Z"
   },
   {
    "duration": 13,
    "start_time": "2022-08-09T20:52:14.820Z"
   },
   {
    "duration": 10,
    "start_time": "2022-08-09T20:52:38.343Z"
   },
   {
    "duration": 12,
    "start_time": "2022-08-09T20:52:47.963Z"
   },
   {
    "duration": 17,
    "start_time": "2022-08-09T20:52:50.399Z"
   },
   {
    "duration": 10,
    "start_time": "2022-08-09T20:55:55.176Z"
   },
   {
    "duration": 8,
    "start_time": "2022-08-09T20:56:02.699Z"
   },
   {
    "duration": 48,
    "start_time": "2022-08-09T20:56:06.857Z"
   },
   {
    "duration": 16,
    "start_time": "2022-08-09T20:56:13.967Z"
   },
   {
    "duration": 19,
    "start_time": "2022-08-09T20:57:03.578Z"
   },
   {
    "duration": 18,
    "start_time": "2022-08-09T20:57:45.710Z"
   },
   {
    "duration": 19,
    "start_time": "2022-08-09T20:57:48.083Z"
   },
   {
    "duration": 2,
    "start_time": "2022-08-09T20:57:51.747Z"
   },
   {
    "duration": 18,
    "start_time": "2022-08-09T20:57:54.099Z"
   },
   {
    "duration": 421,
    "start_time": "2022-08-09T20:57:59.015Z"
   },
   {
    "duration": 159,
    "start_time": "2022-08-09T20:57:59.438Z"
   },
   {
    "duration": 15,
    "start_time": "2022-08-09T20:57:59.598Z"
   },
   {
    "duration": 35,
    "start_time": "2022-08-09T20:57:59.615Z"
   },
   {
    "duration": 370,
    "start_time": "2022-08-09T20:57:59.652Z"
   },
   {
    "duration": 128,
    "start_time": "2022-08-09T20:58:00.024Z"
   },
   {
    "duration": 9,
    "start_time": "2022-08-09T20:58:00.154Z"
   },
   {
    "duration": 30,
    "start_time": "2022-08-09T20:58:00.164Z"
   },
   {
    "duration": 145,
    "start_time": "2022-08-09T20:58:00.196Z"
   },
   {
    "duration": 99,
    "start_time": "2022-08-09T20:58:00.343Z"
   },
   {
    "duration": 7,
    "start_time": "2022-08-09T20:58:00.444Z"
   },
   {
    "duration": 22,
    "start_time": "2022-08-09T20:58:00.453Z"
   },
   {
    "duration": 28,
    "start_time": "2022-08-09T20:58:00.477Z"
   },
   {
    "duration": 8,
    "start_time": "2022-08-09T20:58:00.506Z"
   },
   {
    "duration": 24,
    "start_time": "2022-08-09T20:58:00.515Z"
   },
   {
    "duration": 42,
    "start_time": "2022-08-09T20:58:00.540Z"
   },
   {
    "duration": 9,
    "start_time": "2022-08-09T20:58:00.584Z"
   },
   {
    "duration": 16,
    "start_time": "2022-08-09T20:58:00.594Z"
   },
   {
    "duration": 80,
    "start_time": "2022-08-09T20:58:00.612Z"
   },
   {
    "duration": 18,
    "start_time": "2022-08-09T20:58:00.693Z"
   },
   {
    "duration": 25,
    "start_time": "2022-08-09T20:58:00.713Z"
   },
   {
    "duration": 37,
    "start_time": "2022-08-09T20:58:00.739Z"
   },
   {
    "duration": 14,
    "start_time": "2022-08-09T20:58:00.778Z"
   },
   {
    "duration": 26,
    "start_time": "2022-08-09T20:58:00.794Z"
   },
   {
    "duration": 82,
    "start_time": "2022-08-09T20:58:00.821Z"
   },
   {
    "duration": 0,
    "start_time": "2022-08-09T20:58:00.905Z"
   },
   {
    "duration": 0,
    "start_time": "2022-08-09T20:58:00.906Z"
   },
   {
    "duration": 0,
    "start_time": "2022-08-09T20:58:00.907Z"
   },
   {
    "duration": 0,
    "start_time": "2022-08-09T20:58:00.909Z"
   },
   {
    "duration": 0,
    "start_time": "2022-08-09T20:58:00.910Z"
   },
   {
    "duration": 0,
    "start_time": "2022-08-09T20:58:00.911Z"
   },
   {
    "duration": 0,
    "start_time": "2022-08-09T20:58:00.911Z"
   },
   {
    "duration": 0,
    "start_time": "2022-08-09T20:58:00.913Z"
   },
   {
    "duration": 0,
    "start_time": "2022-08-09T20:58:00.913Z"
   },
   {
    "duration": 0,
    "start_time": "2022-08-09T20:58:00.914Z"
   },
   {
    "duration": 0,
    "start_time": "2022-08-09T20:58:00.916Z"
   },
   {
    "duration": 0,
    "start_time": "2022-08-09T20:58:00.916Z"
   },
   {
    "duration": 0,
    "start_time": "2022-08-09T20:58:00.917Z"
   },
   {
    "duration": 0,
    "start_time": "2022-08-09T20:58:00.918Z"
   },
   {
    "duration": 0,
    "start_time": "2022-08-09T20:58:00.920Z"
   },
   {
    "duration": 0,
    "start_time": "2022-08-09T20:58:00.921Z"
   },
   {
    "duration": 0,
    "start_time": "2022-08-09T20:58:00.923Z"
   },
   {
    "duration": 0,
    "start_time": "2022-08-09T20:58:00.924Z"
   },
   {
    "duration": 0,
    "start_time": "2022-08-09T20:58:00.925Z"
   },
   {
    "duration": 0,
    "start_time": "2022-08-09T20:58:00.927Z"
   },
   {
    "duration": 0,
    "start_time": "2022-08-09T20:58:00.928Z"
   },
   {
    "duration": 0,
    "start_time": "2022-08-09T20:58:00.929Z"
   },
   {
    "duration": 0,
    "start_time": "2022-08-09T20:58:00.931Z"
   },
   {
    "duration": 0,
    "start_time": "2022-08-09T20:58:00.932Z"
   },
   {
    "duration": 0,
    "start_time": "2022-08-09T20:58:00.934Z"
   },
   {
    "duration": 0,
    "start_time": "2022-08-09T20:58:00.935Z"
   },
   {
    "duration": 0,
    "start_time": "2022-08-09T20:58:00.937Z"
   },
   {
    "duration": 0,
    "start_time": "2022-08-09T20:58:00.938Z"
   },
   {
    "duration": 0,
    "start_time": "2022-08-09T20:58:00.939Z"
   },
   {
    "duration": 11,
    "start_time": "2022-08-09T20:58:14.346Z"
   },
   {
    "duration": 10,
    "start_time": "2022-08-09T20:58:22.146Z"
   },
   {
    "duration": 11,
    "start_time": "2022-08-09T20:58:23.619Z"
   },
   {
    "duration": 407,
    "start_time": "2022-08-09T20:58:29.980Z"
   },
   {
    "duration": 159,
    "start_time": "2022-08-09T20:58:30.389Z"
   },
   {
    "duration": 14,
    "start_time": "2022-08-09T20:58:30.549Z"
   },
   {
    "duration": 42,
    "start_time": "2022-08-09T20:58:30.566Z"
   },
   {
    "duration": 344,
    "start_time": "2022-08-09T20:58:30.609Z"
   },
   {
    "duration": 133,
    "start_time": "2022-08-09T20:58:30.955Z"
   },
   {
    "duration": 8,
    "start_time": "2022-08-09T20:58:31.090Z"
   },
   {
    "duration": 55,
    "start_time": "2022-08-09T20:58:31.100Z"
   },
   {
    "duration": 132,
    "start_time": "2022-08-09T20:58:31.156Z"
   },
   {
    "duration": 98,
    "start_time": "2022-08-09T20:58:31.291Z"
   },
   {
    "duration": 7,
    "start_time": "2022-08-09T20:58:31.390Z"
   },
   {
    "duration": 38,
    "start_time": "2022-08-09T20:58:31.399Z"
   },
   {
    "duration": 35,
    "start_time": "2022-08-09T20:58:31.438Z"
   },
   {
    "duration": 7,
    "start_time": "2022-08-09T20:58:31.475Z"
   },
   {
    "duration": 13,
    "start_time": "2022-08-09T20:58:31.484Z"
   },
   {
    "duration": 38,
    "start_time": "2022-08-09T20:58:31.499Z"
   },
   {
    "duration": 9,
    "start_time": "2022-08-09T20:58:31.539Z"
   },
   {
    "duration": 16,
    "start_time": "2022-08-09T20:58:31.549Z"
   },
   {
    "duration": 74,
    "start_time": "2022-08-09T20:58:31.566Z"
   },
   {
    "duration": 6,
    "start_time": "2022-08-09T20:58:31.641Z"
   },
   {
    "duration": 9,
    "start_time": "2022-08-09T20:58:31.648Z"
   },
   {
    "duration": 28,
    "start_time": "2022-08-09T20:58:31.658Z"
   },
   {
    "duration": 32,
    "start_time": "2022-08-09T20:58:31.688Z"
   },
   {
    "duration": 16,
    "start_time": "2022-08-09T20:58:31.721Z"
   },
   {
    "duration": 76,
    "start_time": "2022-08-09T20:58:31.739Z"
   },
   {
    "duration": 1,
    "start_time": "2022-08-09T20:58:31.817Z"
   },
   {
    "duration": 0,
    "start_time": "2022-08-09T20:58:31.819Z"
   },
   {
    "duration": 1,
    "start_time": "2022-08-09T20:58:31.820Z"
   },
   {
    "duration": 0,
    "start_time": "2022-08-09T20:58:31.822Z"
   },
   {
    "duration": 0,
    "start_time": "2022-08-09T20:58:31.824Z"
   },
   {
    "duration": 0,
    "start_time": "2022-08-09T20:58:31.825Z"
   },
   {
    "duration": 0,
    "start_time": "2022-08-09T20:58:31.827Z"
   },
   {
    "duration": 0,
    "start_time": "2022-08-09T20:58:31.828Z"
   },
   {
    "duration": 0,
    "start_time": "2022-08-09T20:58:31.830Z"
   },
   {
    "duration": 0,
    "start_time": "2022-08-09T20:58:31.831Z"
   },
   {
    "duration": 0,
    "start_time": "2022-08-09T20:58:31.833Z"
   },
   {
    "duration": 0,
    "start_time": "2022-08-09T20:58:31.834Z"
   },
   {
    "duration": 0,
    "start_time": "2022-08-09T20:58:31.836Z"
   },
   {
    "duration": 0,
    "start_time": "2022-08-09T20:58:31.837Z"
   },
   {
    "duration": 0,
    "start_time": "2022-08-09T20:58:31.838Z"
   },
   {
    "duration": 0,
    "start_time": "2022-08-09T20:58:31.840Z"
   },
   {
    "duration": 0,
    "start_time": "2022-08-09T20:58:31.841Z"
   },
   {
    "duration": 0,
    "start_time": "2022-08-09T20:58:31.843Z"
   },
   {
    "duration": 0,
    "start_time": "2022-08-09T20:58:31.844Z"
   },
   {
    "duration": 0,
    "start_time": "2022-08-09T20:58:31.845Z"
   },
   {
    "duration": 0,
    "start_time": "2022-08-09T20:58:31.847Z"
   },
   {
    "duration": 0,
    "start_time": "2022-08-09T20:58:31.848Z"
   },
   {
    "duration": 0,
    "start_time": "2022-08-09T20:58:31.850Z"
   },
   {
    "duration": 1,
    "start_time": "2022-08-09T20:58:31.851Z"
   },
   {
    "duration": 0,
    "start_time": "2022-08-09T20:58:31.909Z"
   },
   {
    "duration": 0,
    "start_time": "2022-08-09T20:58:31.911Z"
   },
   {
    "duration": 0,
    "start_time": "2022-08-09T20:58:31.912Z"
   },
   {
    "duration": 0,
    "start_time": "2022-08-09T20:58:31.914Z"
   },
   {
    "duration": 0,
    "start_time": "2022-08-09T20:58:31.915Z"
   },
   {
    "duration": 25,
    "start_time": "2022-08-09T20:58:47.055Z"
   },
   {
    "duration": 25,
    "start_time": "2022-08-09T20:59:04.413Z"
   },
   {
    "duration": 25,
    "start_time": "2022-08-09T20:59:08.192Z"
   },
   {
    "duration": 30,
    "start_time": "2022-08-09T20:59:22.626Z"
   },
   {
    "duration": 57,
    "start_time": "2022-08-09T20:59:41.899Z"
   },
   {
    "duration": 12,
    "start_time": "2022-08-09T20:59:52.825Z"
   },
   {
    "duration": 29,
    "start_time": "2022-08-09T21:01:24.830Z"
   },
   {
    "duration": 29,
    "start_time": "2022-08-09T21:01:35.178Z"
   },
   {
    "duration": 28,
    "start_time": "2022-08-09T21:03:26.415Z"
   },
   {
    "duration": 9,
    "start_time": "2022-08-09T21:03:48.731Z"
   },
   {
    "duration": 58,
    "start_time": "2022-08-09T21:03:57.857Z"
   },
   {
    "duration": 27,
    "start_time": "2022-08-09T21:04:02.825Z"
   },
   {
    "duration": 68,
    "start_time": "2022-08-09T21:04:11.847Z"
   },
   {
    "duration": 28,
    "start_time": "2022-08-09T21:04:20.638Z"
   },
   {
    "duration": 27,
    "start_time": "2022-08-09T21:04:33.155Z"
   },
   {
    "duration": 33,
    "start_time": "2022-08-09T21:05:54.857Z"
   },
   {
    "duration": 35,
    "start_time": "2022-08-09T21:06:02.034Z"
   },
   {
    "duration": 33,
    "start_time": "2022-08-09T21:06:07.751Z"
   },
   {
    "duration": 32,
    "start_time": "2022-08-09T21:06:14.159Z"
   },
   {
    "duration": 28,
    "start_time": "2022-08-09T21:08:29.194Z"
   },
   {
    "duration": 408,
    "start_time": "2022-08-09T21:08:43.379Z"
   },
   {
    "duration": 152,
    "start_time": "2022-08-09T21:08:43.789Z"
   },
   {
    "duration": 14,
    "start_time": "2022-08-09T21:08:43.943Z"
   },
   {
    "duration": 23,
    "start_time": "2022-08-09T21:08:43.958Z"
   },
   {
    "duration": 356,
    "start_time": "2022-08-09T21:08:43.983Z"
   },
   {
    "duration": 128,
    "start_time": "2022-08-09T21:08:44.341Z"
   },
   {
    "duration": 9,
    "start_time": "2022-08-09T21:08:44.470Z"
   },
   {
    "duration": 35,
    "start_time": "2022-08-09T21:08:44.480Z"
   },
   {
    "duration": 137,
    "start_time": "2022-08-09T21:08:44.517Z"
   },
   {
    "duration": 92,
    "start_time": "2022-08-09T21:08:44.656Z"
   },
   {
    "duration": 7,
    "start_time": "2022-08-09T21:08:44.749Z"
   },
   {
    "duration": 19,
    "start_time": "2022-08-09T21:08:44.758Z"
   },
   {
    "duration": 14,
    "start_time": "2022-08-09T21:08:44.779Z"
   },
   {
    "duration": 6,
    "start_time": "2022-08-09T21:08:44.796Z"
   },
   {
    "duration": 10,
    "start_time": "2022-08-09T21:08:44.808Z"
   },
   {
    "duration": 45,
    "start_time": "2022-08-09T21:08:44.819Z"
   },
   {
    "duration": 10,
    "start_time": "2022-08-09T21:08:44.865Z"
   },
   {
    "duration": 12,
    "start_time": "2022-08-09T21:08:44.876Z"
   },
   {
    "duration": 72,
    "start_time": "2022-08-09T21:08:44.890Z"
   },
   {
    "duration": 6,
    "start_time": "2022-08-09T21:08:44.963Z"
   },
   {
    "duration": 8,
    "start_time": "2022-08-09T21:08:44.971Z"
   },
   {
    "duration": 33,
    "start_time": "2022-08-09T21:08:44.980Z"
   },
   {
    "duration": 14,
    "start_time": "2022-08-09T21:08:45.015Z"
   },
   {
    "duration": 17,
    "start_time": "2022-08-09T21:08:45.031Z"
   },
   {
    "duration": 25,
    "start_time": "2022-08-09T21:08:45.050Z"
   },
   {
    "duration": 2,
    "start_time": "2022-08-09T21:08:45.077Z"
   },
   {
    "duration": 9,
    "start_time": "2022-08-09T21:08:45.080Z"
   },
   {
    "duration": 2,
    "start_time": "2022-08-09T21:08:45.109Z"
   },
   {
    "duration": 6,
    "start_time": "2022-08-09T21:08:45.113Z"
   },
   {
    "duration": 6,
    "start_time": "2022-08-09T21:08:45.121Z"
   },
   {
    "duration": 8,
    "start_time": "2022-08-09T21:08:45.129Z"
   },
   {
    "duration": 7,
    "start_time": "2022-08-09T21:08:45.139Z"
   },
   {
    "duration": 8,
    "start_time": "2022-08-09T21:08:45.148Z"
   },
   {
    "duration": 74,
    "start_time": "2022-08-09T21:08:45.158Z"
   },
   {
    "duration": 0,
    "start_time": "2022-08-09T21:08:45.234Z"
   },
   {
    "duration": 0,
    "start_time": "2022-08-09T21:08:45.235Z"
   },
   {
    "duration": 0,
    "start_time": "2022-08-09T21:08:45.236Z"
   },
   {
    "duration": 0,
    "start_time": "2022-08-09T21:08:45.237Z"
   },
   {
    "duration": 0,
    "start_time": "2022-08-09T21:08:45.238Z"
   },
   {
    "duration": 0,
    "start_time": "2022-08-09T21:08:45.239Z"
   },
   {
    "duration": 0,
    "start_time": "2022-08-09T21:08:45.240Z"
   },
   {
    "duration": 0,
    "start_time": "2022-08-09T21:08:45.241Z"
   },
   {
    "duration": 0,
    "start_time": "2022-08-09T21:08:45.242Z"
   },
   {
    "duration": 0,
    "start_time": "2022-08-09T21:08:45.243Z"
   },
   {
    "duration": 0,
    "start_time": "2022-08-09T21:08:45.244Z"
   },
   {
    "duration": 0,
    "start_time": "2022-08-09T21:08:45.245Z"
   },
   {
    "duration": 0,
    "start_time": "2022-08-09T21:08:45.245Z"
   },
   {
    "duration": 0,
    "start_time": "2022-08-09T21:08:45.246Z"
   },
   {
    "duration": 0,
    "start_time": "2022-08-09T21:08:45.247Z"
   },
   {
    "duration": 0,
    "start_time": "2022-08-09T21:08:45.248Z"
   },
   {
    "duration": 0,
    "start_time": "2022-08-09T21:08:45.249Z"
   },
   {
    "duration": 0,
    "start_time": "2022-08-09T21:08:45.250Z"
   },
   {
    "duration": 0,
    "start_time": "2022-08-09T21:08:45.251Z"
   },
   {
    "duration": 0,
    "start_time": "2022-08-09T21:08:45.252Z"
   },
   {
    "duration": 41,
    "start_time": "2022-08-10T04:22:49.530Z"
   },
   {
    "duration": 339,
    "start_time": "2022-08-10T04:23:01.202Z"
   },
   {
    "duration": 849,
    "start_time": "2022-08-10T04:23:01.543Z"
   },
   {
    "duration": 13,
    "start_time": "2022-08-10T04:23:02.394Z"
   },
   {
    "duration": 23,
    "start_time": "2022-08-10T04:23:02.410Z"
   },
   {
    "duration": 495,
    "start_time": "2022-08-10T04:23:02.435Z"
   },
   {
    "duration": 463,
    "start_time": "2022-08-10T04:23:02.932Z"
   },
   {
    "duration": 8,
    "start_time": "2022-08-10T04:23:03.396Z"
   },
   {
    "duration": 21,
    "start_time": "2022-08-10T04:23:03.405Z"
   },
   {
    "duration": 120,
    "start_time": "2022-08-10T04:23:03.427Z"
   },
   {
    "duration": 133,
    "start_time": "2022-08-10T04:23:03.550Z"
   },
   {
    "duration": 6,
    "start_time": "2022-08-10T04:23:03.685Z"
   },
   {
    "duration": 18,
    "start_time": "2022-08-10T04:23:03.692Z"
   },
   {
    "duration": 44,
    "start_time": "2022-08-10T04:23:03.711Z"
   },
   {
    "duration": 6,
    "start_time": "2022-08-10T04:23:03.757Z"
   },
   {
    "duration": 10,
    "start_time": "2022-08-10T04:23:03.764Z"
   },
   {
    "duration": 68,
    "start_time": "2022-08-10T04:23:03.775Z"
   },
   {
    "duration": 9,
    "start_time": "2022-08-10T04:23:03.844Z"
   },
   {
    "duration": 10,
    "start_time": "2022-08-10T04:23:03.854Z"
   },
   {
    "duration": 68,
    "start_time": "2022-08-10T04:23:03.865Z"
   },
   {
    "duration": 5,
    "start_time": "2022-08-10T04:23:03.935Z"
   },
   {
    "duration": 7,
    "start_time": "2022-08-10T04:23:03.954Z"
   },
   {
    "duration": 23,
    "start_time": "2022-08-10T04:23:03.963Z"
   },
   {
    "duration": 12,
    "start_time": "2022-08-10T04:23:03.988Z"
   },
   {
    "duration": 16,
    "start_time": "2022-08-10T04:23:04.002Z"
   },
   {
    "duration": 41,
    "start_time": "2022-08-10T04:23:04.019Z"
   },
   {
    "duration": 2,
    "start_time": "2022-08-10T04:23:04.061Z"
   },
   {
    "duration": 6,
    "start_time": "2022-08-10T04:23:04.064Z"
   },
   {
    "duration": 2,
    "start_time": "2022-08-10T04:23:04.073Z"
   },
   {
    "duration": 5,
    "start_time": "2022-08-10T04:23:04.076Z"
   },
   {
    "duration": 4,
    "start_time": "2022-08-10T04:23:04.082Z"
   },
   {
    "duration": 5,
    "start_time": "2022-08-10T04:23:04.087Z"
   },
   {
    "duration": 4,
    "start_time": "2022-08-10T04:23:04.094Z"
   },
   {
    "duration": 6,
    "start_time": "2022-08-10T04:23:04.099Z"
   },
   {
    "duration": 80,
    "start_time": "2022-08-10T04:23:04.106Z"
   },
   {
    "duration": 0,
    "start_time": "2022-08-10T04:23:04.187Z"
   },
   {
    "duration": 0,
    "start_time": "2022-08-10T04:23:04.189Z"
   },
   {
    "duration": 0,
    "start_time": "2022-08-10T04:23:04.189Z"
   },
   {
    "duration": 0,
    "start_time": "2022-08-10T04:23:04.190Z"
   },
   {
    "duration": 0,
    "start_time": "2022-08-10T04:23:04.192Z"
   },
   {
    "duration": 0,
    "start_time": "2022-08-10T04:23:04.193Z"
   },
   {
    "duration": 0,
    "start_time": "2022-08-10T04:23:04.194Z"
   },
   {
    "duration": 0,
    "start_time": "2022-08-10T04:23:04.195Z"
   },
   {
    "duration": 0,
    "start_time": "2022-08-10T04:23:04.196Z"
   },
   {
    "duration": 0,
    "start_time": "2022-08-10T04:23:04.197Z"
   },
   {
    "duration": 0,
    "start_time": "2022-08-10T04:23:04.198Z"
   },
   {
    "duration": 0,
    "start_time": "2022-08-10T04:23:04.199Z"
   },
   {
    "duration": 0,
    "start_time": "2022-08-10T04:23:04.201Z"
   },
   {
    "duration": 0,
    "start_time": "2022-08-10T04:23:04.202Z"
   },
   {
    "duration": 0,
    "start_time": "2022-08-10T04:23:04.203Z"
   },
   {
    "duration": 0,
    "start_time": "2022-08-10T04:23:04.204Z"
   },
   {
    "duration": 0,
    "start_time": "2022-08-10T04:23:04.205Z"
   },
   {
    "duration": 0,
    "start_time": "2022-08-10T04:23:04.206Z"
   },
   {
    "duration": 0,
    "start_time": "2022-08-10T04:23:04.207Z"
   },
   {
    "duration": 0,
    "start_time": "2022-08-10T04:23:04.208Z"
   },
   {
    "duration": 28,
    "start_time": "2022-08-10T04:27:40.489Z"
   },
   {
    "duration": 27,
    "start_time": "2022-08-10T04:27:41.993Z"
   },
   {
    "duration": 27,
    "start_time": "2022-08-10T04:28:24.918Z"
   },
   {
    "duration": 52,
    "start_time": "2022-08-10T17:21:17.747Z"
   },
   {
    "duration": 383,
    "start_time": "2022-08-10T17:21:28.432Z"
   },
   {
    "duration": 225,
    "start_time": "2022-08-10T17:21:28.817Z"
   },
   {
    "duration": 15,
    "start_time": "2022-08-10T17:21:29.044Z"
   },
   {
    "duration": 24,
    "start_time": "2022-08-10T17:21:29.061Z"
   },
   {
    "duration": 546,
    "start_time": "2022-08-10T17:21:29.086Z"
   },
   {
    "duration": 295,
    "start_time": "2022-08-10T17:21:29.634Z"
   },
   {
    "duration": 10,
    "start_time": "2022-08-10T17:21:29.930Z"
   },
   {
    "duration": 26,
    "start_time": "2022-08-10T17:21:29.942Z"
   },
   {
    "duration": 139,
    "start_time": "2022-08-10T17:21:29.970Z"
   },
   {
    "duration": 328,
    "start_time": "2022-08-10T17:21:30.112Z"
   },
   {
    "duration": 8,
    "start_time": "2022-08-10T17:21:30.443Z"
   },
   {
    "duration": 38,
    "start_time": "2022-08-10T17:21:30.453Z"
   },
   {
    "duration": 82,
    "start_time": "2022-08-10T17:21:30.492Z"
   },
   {
    "duration": 7,
    "start_time": "2022-08-10T17:21:30.576Z"
   },
   {
    "duration": 24,
    "start_time": "2022-08-10T17:21:30.585Z"
   },
   {
    "duration": 83,
    "start_time": "2022-08-10T17:21:30.610Z"
   },
   {
    "duration": 10,
    "start_time": "2022-08-10T17:21:30.694Z"
   },
   {
    "duration": 24,
    "start_time": "2022-08-10T17:21:30.705Z"
   },
   {
    "duration": 110,
    "start_time": "2022-08-10T17:21:30.730Z"
   },
   {
    "duration": 5,
    "start_time": "2022-08-10T17:21:30.842Z"
   },
   {
    "duration": 29,
    "start_time": "2022-08-10T17:21:30.849Z"
   },
   {
    "duration": 54,
    "start_time": "2022-08-10T17:21:30.880Z"
   },
   {
    "duration": 25,
    "start_time": "2022-08-10T17:21:30.935Z"
   },
   {
    "duration": 26,
    "start_time": "2022-08-10T17:21:30.962Z"
   },
   {
    "duration": 35,
    "start_time": "2022-08-10T17:21:30.989Z"
   },
   {
    "duration": 2,
    "start_time": "2022-08-10T17:21:31.026Z"
   },
   {
    "duration": 37,
    "start_time": "2022-08-10T17:21:31.030Z"
   },
   {
    "duration": 16,
    "start_time": "2022-08-10T17:21:31.071Z"
   },
   {
    "duration": 43,
    "start_time": "2022-08-10T17:21:31.089Z"
   },
   {
    "duration": 28,
    "start_time": "2022-08-10T17:21:31.134Z"
   },
   {
    "duration": 21,
    "start_time": "2022-08-10T17:21:31.164Z"
   },
   {
    "duration": 16,
    "start_time": "2022-08-10T17:21:31.187Z"
   },
   {
    "duration": 20,
    "start_time": "2022-08-10T17:21:31.205Z"
   },
   {
    "duration": 88,
    "start_time": "2022-08-10T17:21:31.226Z"
   },
   {
    "duration": 0,
    "start_time": "2022-08-10T17:21:31.315Z"
   },
   {
    "duration": 0,
    "start_time": "2022-08-10T17:21:31.317Z"
   },
   {
    "duration": 0,
    "start_time": "2022-08-10T17:21:31.318Z"
   },
   {
    "duration": 0,
    "start_time": "2022-08-10T17:21:31.319Z"
   },
   {
    "duration": 0,
    "start_time": "2022-08-10T17:21:31.320Z"
   },
   {
    "duration": 0,
    "start_time": "2022-08-10T17:21:31.322Z"
   },
   {
    "duration": 0,
    "start_time": "2022-08-10T17:21:31.323Z"
   },
   {
    "duration": 0,
    "start_time": "2022-08-10T17:21:31.324Z"
   },
   {
    "duration": 0,
    "start_time": "2022-08-10T17:21:31.326Z"
   },
   {
    "duration": 0,
    "start_time": "2022-08-10T17:21:31.327Z"
   },
   {
    "duration": 0,
    "start_time": "2022-08-10T17:21:31.327Z"
   },
   {
    "duration": 0,
    "start_time": "2022-08-10T17:21:31.329Z"
   },
   {
    "duration": 0,
    "start_time": "2022-08-10T17:21:31.330Z"
   },
   {
    "duration": 0,
    "start_time": "2022-08-10T17:21:31.331Z"
   },
   {
    "duration": 0,
    "start_time": "2022-08-10T17:21:31.332Z"
   },
   {
    "duration": 0,
    "start_time": "2022-08-10T17:21:31.333Z"
   },
   {
    "duration": 0,
    "start_time": "2022-08-10T17:21:31.334Z"
   },
   {
    "duration": 0,
    "start_time": "2022-08-10T17:21:31.335Z"
   },
   {
    "duration": 0,
    "start_time": "2022-08-10T17:21:31.336Z"
   },
   {
    "duration": 0,
    "start_time": "2022-08-10T17:21:31.337Z"
   },
   {
    "duration": 14,
    "start_time": "2022-08-10T17:22:57.143Z"
   },
   {
    "duration": 22,
    "start_time": "2022-08-10T17:23:28.997Z"
   },
   {
    "duration": 358,
    "start_time": "2022-08-10T17:25:23.050Z"
   },
   {
    "duration": 15,
    "start_time": "2022-08-10T17:25:43.943Z"
   },
   {
    "duration": 319,
    "start_time": "2022-08-10T17:25:57.719Z"
   },
   {
    "duration": 14,
    "start_time": "2022-08-10T17:26:09.430Z"
   },
   {
    "duration": 15,
    "start_time": "2022-08-10T17:26:20.638Z"
   },
   {
    "duration": 18,
    "start_time": "2022-08-10T17:26:23.780Z"
   },
   {
    "duration": 19,
    "start_time": "2022-08-10T17:26:25.639Z"
   },
   {
    "duration": 84,
    "start_time": "2022-08-10T17:26:46.184Z"
   },
   {
    "duration": 9,
    "start_time": "2022-08-10T17:28:31.938Z"
   },
   {
    "duration": 6,
    "start_time": "2022-08-10T17:28:43.254Z"
   },
   {
    "duration": 3,
    "start_time": "2022-08-10T17:28:52.195Z"
   },
   {
    "duration": 9,
    "start_time": "2022-08-10T17:29:01.453Z"
   },
   {
    "duration": 12,
    "start_time": "2022-08-10T17:29:39.891Z"
   },
   {
    "duration": 4,
    "start_time": "2022-08-10T17:30:25.240Z"
   },
   {
    "duration": 6,
    "start_time": "2022-08-10T17:30:40.896Z"
   },
   {
    "duration": 5,
    "start_time": "2022-08-10T17:31:02.394Z"
   },
   {
    "duration": 47,
    "start_time": "2022-08-10T17:31:29.839Z"
   },
   {
    "duration": 765,
    "start_time": "2022-08-10T17:31:43.145Z"
   },
   {
    "duration": 234,
    "start_time": "2022-08-10T17:32:33.802Z"
   },
   {
    "duration": 337,
    "start_time": "2022-08-10T17:33:26.210Z"
   },
   {
    "duration": 198,
    "start_time": "2022-08-10T17:33:35.655Z"
   },
   {
    "duration": 238,
    "start_time": "2022-08-10T17:34:49.812Z"
   },
   {
    "duration": 190,
    "start_time": "2022-08-10T17:34:57.339Z"
   },
   {
    "duration": 296,
    "start_time": "2022-08-10T17:35:29.523Z"
   },
   {
    "duration": 188,
    "start_time": "2022-08-10T17:35:42.601Z"
   },
   {
    "duration": 35,
    "start_time": "2022-08-10T17:40:22.530Z"
   },
   {
    "duration": 4,
    "start_time": "2022-08-10T17:40:40.944Z"
   },
   {
    "duration": 139,
    "start_time": "2022-08-10T17:40:58.139Z"
   },
   {
    "duration": 30,
    "start_time": "2022-08-10T17:41:08.323Z"
   },
   {
    "duration": 4,
    "start_time": "2022-08-10T17:41:33.393Z"
   },
   {
    "duration": 35,
    "start_time": "2022-08-10T17:41:57.051Z"
   },
   {
    "duration": 2,
    "start_time": "2022-08-10T17:42:05.039Z"
   },
   {
    "duration": 33,
    "start_time": "2022-08-10T17:42:12.332Z"
   },
   {
    "duration": 2,
    "start_time": "2022-08-10T17:42:32.364Z"
   },
   {
    "duration": 2532,
    "start_time": "2022-08-10T17:42:36.490Z"
   },
   {
    "duration": 3,
    "start_time": "2022-08-10T17:42:53.241Z"
   },
   {
    "duration": 2504,
    "start_time": "2022-08-10T17:42:58.728Z"
   },
   {
    "duration": 66,
    "start_time": "2022-08-10T17:45:00.327Z"
   },
   {
    "duration": 8,
    "start_time": "2022-08-10T17:45:17.453Z"
   },
   {
    "duration": 2,
    "start_time": "2022-08-10T17:45:21.342Z"
   },
   {
    "duration": 6,
    "start_time": "2022-08-10T17:45:21.490Z"
   },
   {
    "duration": 8,
    "start_time": "2022-08-10T17:45:39.312Z"
   },
   {
    "duration": 7,
    "start_time": "2022-08-10T17:47:19.552Z"
   },
   {
    "duration": 8,
    "start_time": "2022-08-10T17:47:23.787Z"
   },
   {
    "duration": 3,
    "start_time": "2022-08-10T17:47:23.935Z"
   },
   {
    "duration": 8,
    "start_time": "2022-08-10T17:48:53.792Z"
   },
   {
    "duration": 7,
    "start_time": "2022-08-10T17:55:06.986Z"
   }
  ],
  "celltoolbar": "Edit Metadata",
  "kernelspec": {
   "display_name": "Python 3 (ipykernel)",
   "language": "python",
   "name": "python3"
  },
  "language_info": {
   "codemirror_mode": {
    "name": "ipython",
    "version": 3
   },
   "file_extension": ".py",
   "mimetype": "text/x-python",
   "name": "python",
   "nbconvert_exporter": "python",
   "pygments_lexer": "ipython3",
   "version": "3.9.12"
  },
  "toc": {
   "base_numbering": 1,
   "nav_menu": {},
   "number_sections": true,
   "sideBar": true,
   "skip_h1_title": true,
   "title_cell": "Table of Contents",
   "title_sidebar": "Contents",
   "toc_cell": false,
   "toc_position": {},
   "toc_section_display": true,
   "toc_window_display": false
  }
 },
 "nbformat": 4,
 "nbformat_minor": 2
}
