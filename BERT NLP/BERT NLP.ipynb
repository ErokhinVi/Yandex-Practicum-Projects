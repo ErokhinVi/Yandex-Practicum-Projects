{
 "cells": [
  {
   "cell_type": "markdown",
   "id": "14122c78",
   "metadata": {},
   "source": [
    "# Проект для «Викишоп» c BERT"
   ]
  },
  {
   "cell_type": "markdown",
   "id": "14d3c4c9",
   "metadata": {},
   "source": [
    "Интернет-магазин «Викишоп» запускает новый сервис. Теперь пользователи могут редактировать и дополнять описания товаров, как в вики-сообществах. То есть клиенты предлагают свои правки и комментируют изменения других. Магазину нужен инструмент, который будет искать токсичные комментарии и отправлять их на модерацию. \n",
    "\n",
    "Обучим модель классифицировать комментарии на позитивные и негативные. \n"
   ]
  },
  {
   "cell_type": "code",
   "execution_count": 1,
   "id": "5a034dfd",
   "metadata": {},
   "outputs": [],
   "source": [
    "import numpy as np\n",
    "import pandas as pd\n",
    "import torch\n",
    "import transformers as ppb\n",
    "from tqdm import tqdm\n",
    "from sklearn.linear_model import LogisticRegression\n",
    "from sklearn.model_selection import cross_val_score\n",
    "from sklearn.model_selection import train_test_split\n",
    "from sklearn.model_selection import GridSearchCV\n",
    "from sklearn.tree import DecisionTreeClassifier\n",
    "from sklearn.metrics import f1_score\n",
    "from sklearn.ensemble import RandomForestClassifier\n",
    "from catboost import CatBoostClassifier\n",
    "from sklearn.dummy import DummyClassifier\n",
    "import detoxify\n",
    "from imblearn.over_sampling import SMOTE\n",
    "from sklearn.metrics import accuracy_score\n",
    "from imblearn.pipeline import Pipeline, make_pipeline\n",
    "from sklearn.model_selection import KFold\n",
    "\n",
    "import warnings\n",
    "warnings.filterwarnings(\"ignore\")"
   ]
  },
  {
   "cell_type": "markdown",
   "id": "002bf9bf",
   "metadata": {},
   "source": [
    "## Подготовка"
   ]
  },
  {
   "cell_type": "code",
   "execution_count": 2,
   "id": "c1647a3a",
   "metadata": {},
   "outputs": [],
   "source": [
    "df = pd.read_csv('D:/YP_DS/toxic_comments.csv')"
   ]
  },
  {
   "cell_type": "code",
   "execution_count": 3,
   "id": "b7b94a36",
   "metadata": {},
   "outputs": [
    {
     "name": "stdout",
     "output_type": "stream",
     "text": [
      "<class 'pandas.core.frame.DataFrame'>\n",
      "RangeIndex: 159292 entries, 0 to 159291\n",
      "Data columns (total 3 columns):\n",
      " #   Column      Non-Null Count   Dtype \n",
      "---  ------      --------------   ----- \n",
      " 0   Unnamed: 0  159292 non-null  int64 \n",
      " 1   text        159292 non-null  object\n",
      " 2   toxic       159292 non-null  int64 \n",
      "dtypes: int64(2), object(1)\n",
      "memory usage: 3.6+ MB\n"
     ]
    }
   ],
   "source": [
    "df.info()"
   ]
  },
  {
   "cell_type": "markdown",
   "id": "ff376b41",
   "metadata": {},
   "source": [
    "Все ячейки заполнены, имеют корректный тип данных и не имеют пропусков"
   ]
  },
  {
   "cell_type": "code",
   "execution_count": 4,
   "id": "6a0a2c7d",
   "metadata": {},
   "outputs": [],
   "source": [
    "df.drop('Unnamed: 0',axis=1,inplace=True)\n",
    "df=df.loc[:159199]"
   ]
  },
  {
   "cell_type": "code",
   "execution_count": 5,
   "id": "fe586a10",
   "metadata": {},
   "outputs": [
    {
     "data": {
      "text/plain": [
       "0    143020\n",
       "1     16180\n",
       "Name: toxic, dtype: int64"
      ]
     },
     "execution_count": 5,
     "metadata": {},
     "output_type": "execute_result"
    }
   ],
   "source": [
    "df.toxic.value_counts()"
   ]
  },
  {
   "cell_type": "markdown",
   "id": "44f8f37e",
   "metadata": {},
   "source": [
    "Дропнем лишний столбец `Unnamed: 0`, а также избавимся от последний 92-ух строк, для того чтобы кол-во строк в нашем были кратны \"батчу\" в предстоящей операции создания эмбеддингов"
   ]
  },
  {
   "cell_type": "markdown",
   "id": "6bdc40f3",
   "metadata": {},
   "source": [
    "В датасете имеется также сильный дисбаланс классов, который в дальнейшем будет сбалансирован с помощью `SMOTE`"
   ]
  },
  {
   "cell_type": "code",
   "execution_count": 6,
   "id": "81f5d1bf",
   "metadata": {},
   "outputs": [],
   "source": [
    "model_class, tokenizer_class, pretrained_weights = (\n",
    "    ppb.AutoModel, ppb.AutoTokenizer, \"unitary/toxic-bert\")"
   ]
  },
  {
   "cell_type": "markdown",
   "id": "ceb98627",
   "metadata": {},
   "source": [
    "Данная модель это лишь хорошо затюненная модель `DistilBERT-a`, предназначенная для классификации токсичных комментариев\\\n",
    "`DistilBERT` обрабатывает предложения и передает извлеченную им информацию в следующую модель. `DistilBERT` представляет собой уменьшенную версию `BERT'а`, разработанную и выложенную в отрытый доступ группой разработчиков **_HuggingFace_**. Она быстрее и легче своего старшего собрата, но при этом вполне сравнима в результативности."
   ]
  },
  {
   "cell_type": "code",
   "execution_count": 7,
   "id": "5de8026f",
   "metadata": {},
   "outputs": [
    {
     "name": "stdout",
     "output_type": "stream",
     "text": [
      "CPU times: total: 32.9 s\n",
      "Wall time: 33.4 s\n"
     ]
    }
   ],
   "source": [
    "%%time\n",
    "tokenizer = tokenizer_class.from_pretrained(pretrained_weights)\n",
    "\n",
    "#Токенизируем наш текст и заменяем каждый токен на уникальый идентификатор \n",
    "tokenized = df['text'].apply(\n",
    "    lambda x: tokenizer.encode(x, add_special_tokens=True, padding=True, truncation=True))\n",
    "\n",
    "#Дополняем каждую строку нулями до тех пор , пока не достигнем максимальной длины одной из строк\n",
    "max_len = 0\n",
    "for i in tokenized.values:\n",
    "    if len(i) > max_len:\n",
    "        max_len = len(i)\n",
    "\n",
    "padded = np.array(\n",
    "    [i + [0]*(max_len - len(i)) for i in tokenized.values])\n",
    "\n",
    "# Создаём маску \"внимания\", для того чтобы игнорировать добавленные нули\n",
    "attention_mask = np.where(padded != 0, 1, 0)"
   ]
  },
  {
   "cell_type": "code",
   "execution_count": 8,
   "id": "5a1bf71c",
   "metadata": {},
   "outputs": [
    {
     "name": "stderr",
     "output_type": "stream",
     "text": [
      "Some weights of the model checkpoint at unitary/toxic-bert were not used when initializing BertModel: ['classifier.bias', 'classifier.weight']\n",
      "- This IS expected if you are initializing BertModel from the checkpoint of a model trained on another task or with another architecture (e.g. initializing a BertForSequenceClassification model from a BertForPreTraining model).\n",
      "- This IS NOT expected if you are initializing BertModel from the checkpoint of a model that you expect to be exactly identical (initializing a BertForSequenceClassification model from a BertForSequenceClassification model).\n"
     ]
    }
   ],
   "source": [
    "#Инициализируем модель\n",
    "model = model_class.from_pretrained(pretrained_weights)"
   ]
  },
  {
   "cell_type": "code",
   "execution_count": 9,
   "id": "9728fccd",
   "metadata": {},
   "outputs": [],
   "source": [
    "#Подключаем видеокарту, Чтобы не умереть в ожидании))\n",
    "cuda0 = torch.device('cuda:0')\n",
    "torch.cuda.empty_cache()"
   ]
  },
  {
   "cell_type": "code",
   "execution_count": 10,
   "id": "6a9e8d74",
   "metadata": {},
   "outputs": [
    {
     "name": "stderr",
     "output_type": "stream",
     "text": [
      "100%|██████████| 1592/1592 [38:03<00:00,  1.43s/it]"
     ]
    },
    {
     "name": "stdout",
     "output_type": "stream",
     "text": [
      "CPU times: total: 1h 15min 6s\n",
      "Wall time: 38min 3s\n"
     ]
    },
    {
     "name": "stderr",
     "output_type": "stream",
     "text": [
      "\n"
     ]
    }
   ],
   "source": [
    "%%time\n",
    "device = torch.device(\"cuda\")\n",
    "model.cuda()\n",
    "\n",
    "batch_size = 100\n",
    "embeddings = []\n",
    "for i in tqdm(range(padded.shape[0] // batch_size)):\n",
    "        batch = torch.cuda.LongTensor(padded[batch_size*i:batch_size*(i+1)]) \n",
    "        attention_mask_batch = torch.cuda.LongTensor(attention_mask[batch_size*i:batch_size*(i+1)])\n",
    "        \n",
    "        with torch.no_grad():\n",
    "            batch_embeddings = model(batch, attention_mask=attention_mask_batch)\n",
    "        \n",
    "        embeddings.append(batch_embeddings[0][:,0,:].cpu().numpy())\n",
    "#         embeddings.append(batch_embeddings[0].cpu().numpy())\n"
   ]
  },
  {
   "cell_type": "code",
   "execution_count": 11,
   "id": "06208056",
   "metadata": {},
   "outputs": [],
   "source": [
    "#Соберём все эмбеддинги в матрицу признаков вызовом функции concatenate():\n",
    "features = np.concatenate(embeddings)\n",
    "features = pd.DataFrame(features)\n",
    "\n",
    "target = df['toxic']"
   ]
  },
  {
   "cell_type": "code",
   "execution_count": 12,
   "id": "ade20427",
   "metadata": {},
   "outputs": [],
   "source": [
    "#Сплитим две выборки , где тестовая выборка будет равна 10%\n",
    "features_train,features_test,target_train,target_test = train_test_split(features,target,test_size = .1,random_state=42)"
   ]
  },
  {
   "cell_type": "markdown",
   "id": "3ada5285",
   "metadata": {},
   "source": [
    "## Обучение моделей"
   ]
  },
  {
   "cell_type": "code",
   "execution_count": 31,
   "id": "83f3fcc8",
   "metadata": {},
   "outputs": [],
   "source": [
    "time_list = []"
   ]
  },
  {
   "cell_type": "code",
   "execution_count": 32,
   "id": "588b4581",
   "metadata": {},
   "outputs": [],
   "source": [
    "def teach_model(model, parameters, features, target,time_list,pipeline = False):\n",
    "    \n",
    "    if pipeline == True:\n",
    "        imba_pipeline = make_pipeline(SMOTE(random_state=42,n_jobs=-1), \n",
    "                                  model)   \n",
    "        grid = GridSearchCV(imba_pipeline, parameters, n_jobs=-1,\n",
    "                            scoring='f1',cv=3)\n",
    "    else:\n",
    "        grid = GridSearchCV(model, parameters, n_jobs=-1,\n",
    "                            scoring='f1',cv=3)\n",
    "    grid.fit(features, target)\n",
    "    print(grid.best_score_)\n",
    "    print(grid.best_params_)\n",
    "    \n",
    "    time_list.append([grid.cv_results_['mean_fit_time'][0], grid.cv_results_[\n",
    "                     'mean_score_time'][0], grid.best_score_])\n",
    "\n",
    "    return grid.best_estimator_"
   ]
  },
  {
   "cell_type": "markdown",
   "id": "7071c908",
   "metadata": {},
   "source": [
    "### Логистическая регрессия без балансировки классов"
   ]
  },
  {
   "cell_type": "code",
   "execution_count": 33,
   "id": "1e154207",
   "metadata": {},
   "outputs": [
    {
     "name": "stdout",
     "output_type": "stream",
     "text": [
      "0.9468863243168991\n",
      "{'C': 1}\n",
      "CPU times: total: 7.11 s\n",
      "Wall time: 41.9 s\n"
     ]
    }
   ],
   "source": [
    "%%time\n",
    "params = {\"C\":[1,5,15]}\n",
    "model = LogisticRegression()\n",
    "lr_no_balance = teach_model(model, params, features_train,target_train,time_list)\n"
   ]
  },
  {
   "cell_type": "markdown",
   "id": "b90f8814",
   "metadata": {},
   "source": [
    "### Логистическая регрессия c апсемплингом и без кросс-валидации"
   ]
  },
  {
   "cell_type": "code",
   "execution_count": 34,
   "id": "8acf4a76",
   "metadata": {},
   "outputs": [],
   "source": [
    "train_features_upsample,train_target_upsample = SMOTE(random_state=42,n_jobs=-1).fit_sample(features_train,target_train)"
   ]
  },
  {
   "cell_type": "code",
   "execution_count": 35,
   "id": "98b352d0",
   "metadata": {},
   "outputs": [
    {
     "data": {
      "text/plain": [
       "0.9873290114457643"
      ]
     },
     "execution_count": 35,
     "metadata": {},
     "output_type": "execute_result"
    }
   ],
   "source": [
    "lr_no_cv = LogisticRegression()\n",
    "lr_no_cv.fit(train_features_upsample,train_target_upsample)\n",
    "f1_score(train_target_upsample,lr_no_cv.predict(train_features_upsample))"
   ]
  },
  {
   "cell_type": "markdown",
   "id": "610f40d3",
   "metadata": {},
   "source": [
    "### Логистическая регрессия c апсемплингом как часть кросс-валидации"
   ]
  },
  {
   "cell_type": "code",
   "execution_count": 36,
   "id": "fe881ff1",
   "metadata": {},
   "outputs": [
    {
     "name": "stdout",
     "output_type": "stream",
     "text": [
      "0.9272562955843869\n",
      "{'logisticregression__C': 5}\n",
      "CPU times: total: 42.7 s\n",
      "Wall time: 1min 35s\n"
     ]
    }
   ],
   "source": [
    "%%time\n",
    "params = {\"logisticregression__C\":[1,5,15]}\n",
    "model = LogisticRegression()\n",
    "lr_balanced = teach_model(model, params, features_train,target_train,time_list,pipeline=True)\n"
   ]
  },
  {
   "cell_type": "markdown",
   "id": "7ec4a607",
   "metadata": {},
   "source": [
    "### Решающее дерево"
   ]
  },
  {
   "cell_type": "code",
   "execution_count": 37,
   "id": "3d4644ee",
   "metadata": {},
   "outputs": [
    {
     "name": "stdout",
     "output_type": "stream",
     "text": [
      "0.9071130848310981\n",
      "{'decisiontreeclassifier__max_depth': 4}\n",
      "CPU times: total: 1min 50s\n",
      "Wall time: 2min 52s\n"
     ]
    }
   ],
   "source": [
    "%%time\n",
    "params = {\"decisiontreeclassifier__max_depth\":[3,4,5]}\n",
    "model = DecisionTreeClassifier()\n",
    "best_dt = teach_model(model, params, features_train,target_train,time_list,pipeline=True)\n"
   ]
  },
  {
   "cell_type": "markdown",
   "id": "73dc34f6",
   "metadata": {},
   "source": [
    "### CatBoostClassifier"
   ]
  },
  {
   "cell_type": "code",
   "execution_count": 38,
   "id": "2c921547",
   "metadata": {
    "scrolled": true
   },
   "outputs": [
    {
     "name": "stdout",
     "output_type": "stream",
     "text": [
      "0:\tlearn: 0.4778249\ttotal: 163ms\tremaining: 1m 4s\n",
      "1:\tlearn: 0.3329020\ttotal: 309ms\tremaining: 1m 1s\n",
      "2:\tlearn: 0.2469203\ttotal: 451ms\tremaining: 59.7s\n",
      "3:\tlearn: 0.1851667\ttotal: 592ms\tremaining: 58.6s\n",
      "4:\tlearn: 0.1393362\ttotal: 747ms\tremaining: 59s\n",
      "5:\tlearn: 0.1128339\ttotal: 898ms\tremaining: 58.9s\n",
      "6:\tlearn: 0.0959367\ttotal: 1.02s\tremaining: 57.6s\n",
      "7:\tlearn: 0.0844041\ttotal: 1.17s\tremaining: 57.3s\n",
      "8:\tlearn: 0.0756527\ttotal: 1.3s\tremaining: 56.5s\n",
      "9:\tlearn: 0.0692454\ttotal: 1.45s\tremaining: 56.4s\n",
      "10:\tlearn: 0.0643520\ttotal: 1.59s\tremaining: 56.4s\n",
      "11:\tlearn: 0.0608724\ttotal: 1.73s\tremaining: 56s\n",
      "12:\tlearn: 0.0584756\ttotal: 1.87s\tremaining: 55.8s\n",
      "13:\tlearn: 0.0566212\ttotal: 1.99s\tremaining: 54.8s\n",
      "14:\tlearn: 0.0548670\ttotal: 2.12s\tremaining: 54.4s\n",
      "15:\tlearn: 0.0534705\ttotal: 2.25s\tremaining: 53.9s\n",
      "16:\tlearn: 0.0523072\ttotal: 2.36s\tremaining: 53.2s\n",
      "17:\tlearn: 0.0512952\ttotal: 2.49s\tremaining: 52.9s\n",
      "18:\tlearn: 0.0504936\ttotal: 2.63s\tremaining: 52.7s\n",
      "19:\tlearn: 0.0497986\ttotal: 2.77s\tremaining: 52.6s\n",
      "20:\tlearn: 0.0490569\ttotal: 2.89s\tremaining: 52.1s\n",
      "21:\tlearn: 0.0486571\ttotal: 3.01s\tremaining: 51.7s\n",
      "22:\tlearn: 0.0481734\ttotal: 3.15s\tremaining: 51.7s\n",
      "23:\tlearn: 0.0477312\ttotal: 3.27s\tremaining: 51.2s\n",
      "24:\tlearn: 0.0474453\ttotal: 3.37s\tremaining: 50.6s\n",
      "25:\tlearn: 0.0471580\ttotal: 3.48s\tremaining: 50.1s\n",
      "26:\tlearn: 0.0467697\ttotal: 3.6s\tremaining: 49.7s\n",
      "27:\tlearn: 0.0465101\ttotal: 3.72s\tremaining: 49.4s\n",
      "28:\tlearn: 0.0462499\ttotal: 3.84s\tremaining: 49.1s\n",
      "29:\tlearn: 0.0459515\ttotal: 3.95s\tremaining: 48.7s\n",
      "30:\tlearn: 0.0456994\ttotal: 4.06s\tremaining: 48.3s\n",
      "31:\tlearn: 0.0453897\ttotal: 4.17s\tremaining: 47.9s\n",
      "32:\tlearn: 0.0452728\ttotal: 4.27s\tremaining: 47.5s\n",
      "33:\tlearn: 0.0450491\ttotal: 4.38s\tremaining: 47.2s\n",
      "34:\tlearn: 0.0448712\ttotal: 4.5s\tremaining: 46.9s\n",
      "35:\tlearn: 0.0446835\ttotal: 4.62s\tremaining: 46.7s\n",
      "36:\tlearn: 0.0444154\ttotal: 4.76s\tremaining: 46.7s\n",
      "37:\tlearn: 0.0442205\ttotal: 4.88s\tremaining: 46.5s\n",
      "38:\tlearn: 0.0440168\ttotal: 4.99s\tremaining: 46.2s\n",
      "39:\tlearn: 0.0438913\ttotal: 5.09s\tremaining: 45.8s\n",
      "40:\tlearn: 0.0436962\ttotal: 5.21s\tremaining: 45.6s\n",
      "41:\tlearn: 0.0435405\ttotal: 5.32s\tremaining: 45.3s\n",
      "42:\tlearn: 0.0433709\ttotal: 5.43s\tremaining: 45.1s\n",
      "43:\tlearn: 0.0431864\ttotal: 5.53s\tremaining: 44.7s\n",
      "44:\tlearn: 0.0430080\ttotal: 5.63s\tremaining: 44.4s\n",
      "45:\tlearn: 0.0428019\ttotal: 5.74s\tremaining: 44.2s\n",
      "46:\tlearn: 0.0426304\ttotal: 5.85s\tremaining: 44s\n",
      "47:\tlearn: 0.0424946\ttotal: 5.97s\tremaining: 43.8s\n",
      "48:\tlearn: 0.0423220\ttotal: 6.09s\tremaining: 43.6s\n",
      "49:\tlearn: 0.0422068\ttotal: 6.19s\tremaining: 43.3s\n",
      "50:\tlearn: 0.0420347\ttotal: 6.3s\tremaining: 43.1s\n",
      "51:\tlearn: 0.0418675\ttotal: 6.39s\tremaining: 42.8s\n",
      "52:\tlearn: 0.0417368\ttotal: 6.5s\tremaining: 42.5s\n",
      "53:\tlearn: 0.0416335\ttotal: 6.6s\tremaining: 42.3s\n",
      "54:\tlearn: 0.0414879\ttotal: 6.71s\tremaining: 42.1s\n",
      "55:\tlearn: 0.0413490\ttotal: 6.81s\tremaining: 41.8s\n",
      "56:\tlearn: 0.0412047\ttotal: 6.92s\tremaining: 41.6s\n",
      "57:\tlearn: 0.0410659\ttotal: 7.03s\tremaining: 41.5s\n",
      "58:\tlearn: 0.0408783\ttotal: 7.14s\tremaining: 41.3s\n",
      "59:\tlearn: 0.0407446\ttotal: 7.27s\tremaining: 41.2s\n",
      "60:\tlearn: 0.0406048\ttotal: 7.38s\tremaining: 41s\n",
      "61:\tlearn: 0.0404457\ttotal: 7.49s\tremaining: 40.8s\n",
      "62:\tlearn: 0.0402968\ttotal: 7.6s\tremaining: 40.6s\n",
      "63:\tlearn: 0.0401711\ttotal: 7.71s\tremaining: 40.5s\n",
      "64:\tlearn: 0.0400044\ttotal: 7.84s\tremaining: 40.4s\n",
      "65:\tlearn: 0.0399254\ttotal: 7.96s\tremaining: 40.3s\n",
      "66:\tlearn: 0.0397979\ttotal: 8.07s\tremaining: 40.1s\n",
      "67:\tlearn: 0.0396391\ttotal: 8.19s\tremaining: 40s\n",
      "68:\tlearn: 0.0395072\ttotal: 8.32s\tremaining: 39.9s\n",
      "69:\tlearn: 0.0393488\ttotal: 8.43s\tremaining: 39.7s\n",
      "70:\tlearn: 0.0392155\ttotal: 8.53s\tremaining: 39.5s\n",
      "71:\tlearn: 0.0391097\ttotal: 8.62s\tremaining: 39.3s\n",
      "72:\tlearn: 0.0390046\ttotal: 8.72s\tremaining: 39.1s\n",
      "73:\tlearn: 0.0389092\ttotal: 8.83s\tremaining: 38.9s\n",
      "74:\tlearn: 0.0388125\ttotal: 8.94s\tremaining: 38.7s\n",
      "75:\tlearn: 0.0386946\ttotal: 9.04s\tremaining: 38.5s\n",
      "76:\tlearn: 0.0386024\ttotal: 9.15s\tremaining: 38.4s\n",
      "77:\tlearn: 0.0384835\ttotal: 9.27s\tremaining: 38.3s\n",
      "78:\tlearn: 0.0383860\ttotal: 9.38s\tremaining: 38.1s\n",
      "79:\tlearn: 0.0382924\ttotal: 9.49s\tremaining: 38s\n",
      "80:\tlearn: 0.0381905\ttotal: 9.61s\tremaining: 37.8s\n",
      "81:\tlearn: 0.0380830\ttotal: 9.71s\tremaining: 37.6s\n",
      "82:\tlearn: 0.0379658\ttotal: 9.8s\tremaining: 37.4s\n",
      "83:\tlearn: 0.0378407\ttotal: 9.91s\tremaining: 37.3s\n",
      "84:\tlearn: 0.0377480\ttotal: 10s\tremaining: 37.1s\n",
      "85:\tlearn: 0.0376635\ttotal: 10.1s\tremaining: 37s\n",
      "86:\tlearn: 0.0375204\ttotal: 10.2s\tremaining: 36.9s\n",
      "87:\tlearn: 0.0374370\ttotal: 10.3s\tremaining: 36.7s\n",
      "88:\tlearn: 0.0373391\ttotal: 10.5s\tremaining: 36.5s\n",
      "89:\tlearn: 0.0372778\ttotal: 10.6s\tremaining: 36.4s\n",
      "90:\tlearn: 0.0371623\ttotal: 10.7s\tremaining: 36.3s\n",
      "91:\tlearn: 0.0370662\ttotal: 10.8s\tremaining: 36.1s\n",
      "92:\tlearn: 0.0369622\ttotal: 10.9s\tremaining: 36s\n",
      "93:\tlearn: 0.0368599\ttotal: 11s\tremaining: 35.8s\n",
      "94:\tlearn: 0.0367282\ttotal: 11.1s\tremaining: 35.7s\n",
      "95:\tlearn: 0.0366388\ttotal: 11.3s\tremaining: 35.6s\n",
      "96:\tlearn: 0.0365585\ttotal: 11.4s\tremaining: 35.5s\n",
      "97:\tlearn: 0.0364781\ttotal: 11.5s\tremaining: 35.3s\n",
      "98:\tlearn: 0.0363904\ttotal: 11.6s\tremaining: 35.1s\n",
      "99:\tlearn: 0.0363218\ttotal: 11.7s\tremaining: 35s\n",
      "100:\tlearn: 0.0361531\ttotal: 11.8s\tremaining: 34.8s\n",
      "101:\tlearn: 0.0360766\ttotal: 11.9s\tremaining: 34.7s\n",
      "102:\tlearn: 0.0360020\ttotal: 12s\tremaining: 34.6s\n",
      "103:\tlearn: 0.0359137\ttotal: 12.1s\tremaining: 34.4s\n",
      "104:\tlearn: 0.0358018\ttotal: 12.2s\tremaining: 34.3s\n",
      "105:\tlearn: 0.0357417\ttotal: 12.3s\tremaining: 34.2s\n",
      "106:\tlearn: 0.0356579\ttotal: 12.4s\tremaining: 34.1s\n",
      "107:\tlearn: 0.0355424\ttotal: 12.6s\tremaining: 34s\n",
      "108:\tlearn: 0.0354469\ttotal: 12.7s\tremaining: 33.9s\n",
      "109:\tlearn: 0.0353471\ttotal: 12.8s\tremaining: 33.8s\n",
      "110:\tlearn: 0.0352704\ttotal: 12.9s\tremaining: 33.7s\n",
      "111:\tlearn: 0.0351771\ttotal: 13s\tremaining: 33.5s\n",
      "112:\tlearn: 0.0351020\ttotal: 13.2s\tremaining: 33.4s\n",
      "113:\tlearn: 0.0350274\ttotal: 13.3s\tremaining: 33.3s\n",
      "114:\tlearn: 0.0349442\ttotal: 13.4s\tremaining: 33.2s\n",
      "115:\tlearn: 0.0348640\ttotal: 13.5s\tremaining: 33s\n",
      "116:\tlearn: 0.0348038\ttotal: 13.6s\tremaining: 32.9s\n",
      "117:\tlearn: 0.0347233\ttotal: 13.7s\tremaining: 32.8s\n",
      "118:\tlearn: 0.0346623\ttotal: 13.8s\tremaining: 32.7s\n",
      "119:\tlearn: 0.0345513\ttotal: 13.9s\tremaining: 32.5s\n",
      "120:\tlearn: 0.0344669\ttotal: 14s\tremaining: 32.4s\n",
      "121:\tlearn: 0.0343971\ttotal: 14.2s\tremaining: 32.3s\n",
      "122:\tlearn: 0.0342824\ttotal: 14.3s\tremaining: 32.1s\n",
      "123:\tlearn: 0.0341515\ttotal: 14.4s\tremaining: 32s\n",
      "124:\tlearn: 0.0340898\ttotal: 14.5s\tremaining: 31.9s\n",
      "125:\tlearn: 0.0339967\ttotal: 14.6s\tremaining: 31.8s\n",
      "126:\tlearn: 0.0339082\ttotal: 14.7s\tremaining: 31.6s\n",
      "127:\tlearn: 0.0338175\ttotal: 14.8s\tremaining: 31.5s\n",
      "128:\tlearn: 0.0337473\ttotal: 14.9s\tremaining: 31.4s\n",
      "129:\tlearn: 0.0336745\ttotal: 15s\tremaining: 31.2s\n",
      "130:\tlearn: 0.0336036\ttotal: 15.1s\tremaining: 31.1s\n",
      "131:\tlearn: 0.0335513\ttotal: 15.3s\tremaining: 31s\n",
      "132:\tlearn: 0.0334831\ttotal: 15.4s\tremaining: 30.9s\n",
      "133:\tlearn: 0.0334155\ttotal: 15.5s\tremaining: 30.7s\n",
      "134:\tlearn: 0.0333655\ttotal: 15.6s\tremaining: 30.6s\n",
      "135:\tlearn: 0.0332898\ttotal: 15.7s\tremaining: 30.5s\n",
      "136:\tlearn: 0.0331886\ttotal: 15.9s\tremaining: 30.4s\n",
      "137:\tlearn: 0.0331100\ttotal: 16s\tremaining: 30.4s\n",
      "138:\tlearn: 0.0330150\ttotal: 16.1s\tremaining: 30.2s\n",
      "139:\tlearn: 0.0328837\ttotal: 16.2s\tremaining: 30.1s\n",
      "140:\tlearn: 0.0327429\ttotal: 16.3s\tremaining: 30s\n",
      "141:\tlearn: 0.0326753\ttotal: 16.4s\tremaining: 29.8s\n",
      "142:\tlearn: 0.0326064\ttotal: 16.5s\tremaining: 29.7s\n",
      "143:\tlearn: 0.0325478\ttotal: 16.6s\tremaining: 29.6s\n",
      "144:\tlearn: 0.0324628\ttotal: 16.8s\tremaining: 29.5s\n",
      "145:\tlearn: 0.0324145\ttotal: 16.9s\tremaining: 29.4s\n",
      "146:\tlearn: 0.0323376\ttotal: 17s\tremaining: 29.3s\n",
      "147:\tlearn: 0.0322735\ttotal: 17.1s\tremaining: 29.1s\n",
      "148:\tlearn: 0.0321944\ttotal: 17.3s\tremaining: 29.1s\n",
      "149:\tlearn: 0.0321003\ttotal: 17.4s\tremaining: 29s\n",
      "150:\tlearn: 0.0320324\ttotal: 17.5s\tremaining: 28.9s\n",
      "151:\tlearn: 0.0319609\ttotal: 17.6s\tremaining: 28.8s\n",
      "152:\tlearn: 0.0319193\ttotal: 17.7s\tremaining: 28.6s\n",
      "153:\tlearn: 0.0318552\ttotal: 17.8s\tremaining: 28.5s\n",
      "154:\tlearn: 0.0317617\ttotal: 18s\tremaining: 28.4s\n",
      "155:\tlearn: 0.0317079\ttotal: 18.1s\tremaining: 28.3s\n",
      "156:\tlearn: 0.0316211\ttotal: 18.2s\tremaining: 28.1s\n",
      "157:\tlearn: 0.0315519\ttotal: 18.3s\tremaining: 28s\n",
      "158:\tlearn: 0.0314589\ttotal: 18.4s\tremaining: 27.9s\n",
      "159:\tlearn: 0.0313997\ttotal: 18.5s\tremaining: 27.7s\n",
      "160:\tlearn: 0.0313391\ttotal: 18.6s\tremaining: 27.6s\n",
      "161:\tlearn: 0.0312737\ttotal: 18.7s\tremaining: 27.5s\n",
      "162:\tlearn: 0.0312437\ttotal: 18.8s\tremaining: 27.4s\n",
      "163:\tlearn: 0.0311983\ttotal: 18.9s\tremaining: 27.2s\n",
      "164:\tlearn: 0.0311111\ttotal: 19s\tremaining: 27.1s\n",
      "165:\tlearn: 0.0310557\ttotal: 19.1s\tremaining: 27s\n",
      "166:\tlearn: 0.0309904\ttotal: 19.2s\tremaining: 26.8s\n",
      "167:\tlearn: 0.0309535\ttotal: 19.3s\tremaining: 26.7s\n",
      "168:\tlearn: 0.0309068\ttotal: 19.4s\tremaining: 26.5s\n",
      "169:\tlearn: 0.0308505\ttotal: 19.5s\tremaining: 26.4s\n",
      "170:\tlearn: 0.0307218\ttotal: 19.6s\tremaining: 26.3s\n",
      "171:\tlearn: 0.0306841\ttotal: 19.7s\tremaining: 26.2s\n",
      "172:\tlearn: 0.0306288\ttotal: 19.8s\tremaining: 26s\n",
      "173:\tlearn: 0.0304186\ttotal: 19.9s\tremaining: 25.9s\n",
      "174:\tlearn: 0.0303864\ttotal: 20s\tremaining: 25.8s\n",
      "175:\tlearn: 0.0303005\ttotal: 20.1s\tremaining: 25.6s\n",
      "176:\tlearn: 0.0302155\ttotal: 20.2s\tremaining: 25.5s\n",
      "177:\tlearn: 0.0301527\ttotal: 20.3s\tremaining: 25.4s\n",
      "178:\tlearn: 0.0301165\ttotal: 20.4s\tremaining: 25.2s\n",
      "179:\tlearn: 0.0300700\ttotal: 20.6s\tremaining: 25.1s\n",
      "180:\tlearn: 0.0300084\ttotal: 20.7s\tremaining: 25s\n",
      "181:\tlearn: 0.0299269\ttotal: 20.8s\tremaining: 24.9s\n",
      "182:\tlearn: 0.0297465\ttotal: 20.9s\tremaining: 24.8s\n",
      "183:\tlearn: 0.0296677\ttotal: 21s\tremaining: 24.7s\n",
      "184:\tlearn: 0.0295936\ttotal: 21.1s\tremaining: 24.6s\n",
      "185:\tlearn: 0.0294948\ttotal: 21.3s\tremaining: 24.5s\n",
      "186:\tlearn: 0.0294459\ttotal: 21.4s\tremaining: 24.4s\n",
      "187:\tlearn: 0.0293775\ttotal: 21.5s\tremaining: 24.3s\n",
      "188:\tlearn: 0.0293305\ttotal: 21.6s\tremaining: 24.1s\n",
      "189:\tlearn: 0.0292674\ttotal: 21.7s\tremaining: 24s\n",
      "190:\tlearn: 0.0292266\ttotal: 21.8s\tremaining: 23.9s\n",
      "191:\tlearn: 0.0291474\ttotal: 22s\tremaining: 23.8s\n",
      "192:\tlearn: 0.0290795\ttotal: 22.1s\tremaining: 23.7s\n",
      "193:\tlearn: 0.0290450\ttotal: 22.2s\tremaining: 23.5s\n",
      "194:\tlearn: 0.0289720\ttotal: 22.3s\tremaining: 23.4s\n",
      "195:\tlearn: 0.0289040\ttotal: 22.4s\tremaining: 23.3s\n",
      "196:\tlearn: 0.0288453\ttotal: 22.5s\tremaining: 23.2s\n",
      "197:\tlearn: 0.0287940\ttotal: 22.6s\tremaining: 23.1s\n",
      "198:\tlearn: 0.0287473\ttotal: 22.7s\tremaining: 23s\n",
      "199:\tlearn: 0.0286883\ttotal: 22.9s\tremaining: 22.9s\n",
      "200:\tlearn: 0.0286238\ttotal: 23s\tremaining: 22.8s\n",
      "201:\tlearn: 0.0285765\ttotal: 23.1s\tremaining: 22.6s\n",
      "202:\tlearn: 0.0285254\ttotal: 23.2s\tremaining: 22.5s\n",
      "203:\tlearn: 0.0284603\ttotal: 23.3s\tremaining: 22.4s\n",
      "204:\tlearn: 0.0283901\ttotal: 23.4s\tremaining: 22.3s\n",
      "205:\tlearn: 0.0283243\ttotal: 23.5s\tremaining: 22.2s\n",
      "206:\tlearn: 0.0282800\ttotal: 23.6s\tremaining: 22s\n",
      "207:\tlearn: 0.0282384\ttotal: 23.7s\tremaining: 21.9s\n",
      "208:\tlearn: 0.0281601\ttotal: 23.8s\tremaining: 21.8s\n",
      "209:\tlearn: 0.0281227\ttotal: 23.9s\tremaining: 21.7s\n",
      "210:\tlearn: 0.0280744\ttotal: 24s\tremaining: 21.5s\n",
      "211:\tlearn: 0.0278916\ttotal: 24.1s\tremaining: 21.4s\n",
      "212:\tlearn: 0.0278546\ttotal: 24.2s\tremaining: 21.3s\n",
      "213:\tlearn: 0.0277998\ttotal: 24.3s\tremaining: 21.2s\n",
      "214:\tlearn: 0.0277630\ttotal: 24.4s\tremaining: 21s\n",
      "215:\tlearn: 0.0276964\ttotal: 24.6s\tremaining: 20.9s\n",
      "216:\tlearn: 0.0275906\ttotal: 24.7s\tremaining: 20.8s\n",
      "217:\tlearn: 0.0275578\ttotal: 24.8s\tremaining: 20.7s\n",
      "218:\tlearn: 0.0275056\ttotal: 24.9s\tremaining: 20.6s\n",
      "219:\tlearn: 0.0274724\ttotal: 25s\tremaining: 20.4s\n",
      "220:\tlearn: 0.0274252\ttotal: 25.1s\tremaining: 20.3s\n",
      "221:\tlearn: 0.0273916\ttotal: 25.2s\tremaining: 20.2s\n",
      "222:\tlearn: 0.0272459\ttotal: 25.3s\tremaining: 20.1s\n",
      "223:\tlearn: 0.0271904\ttotal: 25.4s\tremaining: 20s\n",
      "224:\tlearn: 0.0271346\ttotal: 25.5s\tremaining: 19.9s\n",
      "225:\tlearn: 0.0270811\ttotal: 25.6s\tremaining: 19.7s\n",
      "226:\tlearn: 0.0270364\ttotal: 25.7s\tremaining: 19.6s\n",
      "227:\tlearn: 0.0269863\ttotal: 25.9s\tremaining: 19.5s\n",
      "228:\tlearn: 0.0269389\ttotal: 26s\tremaining: 19.4s\n",
      "229:\tlearn: 0.0269074\ttotal: 26s\tremaining: 19.3s\n",
      "230:\tlearn: 0.0268704\ttotal: 26.1s\tremaining: 19.1s\n",
      "231:\tlearn: 0.0268361\ttotal: 26.2s\tremaining: 19s\n",
      "232:\tlearn: 0.0267541\ttotal: 26.3s\tremaining: 18.9s\n",
      "233:\tlearn: 0.0267129\ttotal: 26.4s\tremaining: 18.8s\n",
      "234:\tlearn: 0.0266815\ttotal: 26.5s\tremaining: 18.6s\n",
      "235:\tlearn: 0.0266354\ttotal: 26.6s\tremaining: 18.5s\n",
      "236:\tlearn: 0.0265907\ttotal: 26.7s\tremaining: 18.4s\n",
      "237:\tlearn: 0.0265395\ttotal: 26.8s\tremaining: 18.3s\n",
      "238:\tlearn: 0.0264946\ttotal: 26.9s\tremaining: 18.1s\n",
      "239:\tlearn: 0.0264400\ttotal: 27s\tremaining: 18s\n",
      "240:\tlearn: 0.0264010\ttotal: 27.2s\tremaining: 17.9s\n",
      "241:\tlearn: 0.0263106\ttotal: 27.3s\tremaining: 17.8s\n",
      "242:\tlearn: 0.0262643\ttotal: 27.4s\tremaining: 17.7s\n",
      "243:\tlearn: 0.0262197\ttotal: 27.5s\tremaining: 17.6s\n",
      "244:\tlearn: 0.0261768\ttotal: 27.6s\tremaining: 17.5s\n",
      "245:\tlearn: 0.0260862\ttotal: 27.7s\tremaining: 17.3s\n",
      "246:\tlearn: 0.0260143\ttotal: 27.8s\tremaining: 17.2s\n",
      "247:\tlearn: 0.0259723\ttotal: 27.9s\tremaining: 17.1s\n",
      "248:\tlearn: 0.0259000\ttotal: 28s\tremaining: 17s\n",
      "249:\tlearn: 0.0258458\ttotal: 28.1s\tremaining: 16.9s\n",
      "250:\tlearn: 0.0258096\ttotal: 28.2s\tremaining: 16.8s\n",
      "251:\tlearn: 0.0257609\ttotal: 28.4s\tremaining: 16.7s\n",
      "252:\tlearn: 0.0257034\ttotal: 28.5s\tremaining: 16.6s\n",
      "253:\tlearn: 0.0256675\ttotal: 28.6s\tremaining: 16.4s\n",
      "254:\tlearn: 0.0255723\ttotal: 28.8s\tremaining: 16.4s\n",
      "255:\tlearn: 0.0255431\ttotal: 28.9s\tremaining: 16.2s\n",
      "256:\tlearn: 0.0254841\ttotal: 29s\tremaining: 16.1s\n",
      "257:\tlearn: 0.0254517\ttotal: 29.1s\tremaining: 16s\n",
      "258:\tlearn: 0.0253992\ttotal: 29.2s\tremaining: 15.9s\n",
      "259:\tlearn: 0.0253677\ttotal: 29.3s\tremaining: 15.8s\n",
      "260:\tlearn: 0.0253004\ttotal: 29.4s\tremaining: 15.7s\n",
      "261:\tlearn: 0.0252626\ttotal: 29.5s\tremaining: 15.5s\n",
      "262:\tlearn: 0.0252313\ttotal: 29.6s\tremaining: 15.4s\n",
      "263:\tlearn: 0.0252089\ttotal: 29.7s\tremaining: 15.3s\n",
      "264:\tlearn: 0.0251666\ttotal: 29.8s\tremaining: 15.2s\n",
      "265:\tlearn: 0.0251277\ttotal: 29.9s\tremaining: 15.1s\n",
      "266:\tlearn: 0.0250593\ttotal: 30s\tremaining: 15s\n",
      "267:\tlearn: 0.0250298\ttotal: 30.1s\tremaining: 14.8s\n",
      "268:\tlearn: 0.0249803\ttotal: 30.3s\tremaining: 14.7s\n",
      "269:\tlearn: 0.0249368\ttotal: 30.4s\tremaining: 14.6s\n",
      "270:\tlearn: 0.0249075\ttotal: 30.5s\tremaining: 14.5s\n",
      "271:\tlearn: 0.0248658\ttotal: 30.6s\tremaining: 14.4s\n",
      "272:\tlearn: 0.0248279\ttotal: 30.7s\tremaining: 14.3s\n",
      "273:\tlearn: 0.0247827\ttotal: 30.8s\tremaining: 14.2s\n",
      "274:\tlearn: 0.0247552\ttotal: 30.9s\tremaining: 14s\n",
      "275:\tlearn: 0.0247162\ttotal: 31s\tremaining: 13.9s\n",
      "276:\tlearn: 0.0246755\ttotal: 31.1s\tremaining: 13.8s\n",
      "277:\tlearn: 0.0246328\ttotal: 31.2s\tremaining: 13.7s\n",
      "278:\tlearn: 0.0245635\ttotal: 31.3s\tremaining: 13.6s\n",
      "279:\tlearn: 0.0245174\ttotal: 31.4s\tremaining: 13.5s\n",
      "280:\tlearn: 0.0244599\ttotal: 31.6s\tremaining: 13.4s\n",
      "281:\tlearn: 0.0244301\ttotal: 31.7s\tremaining: 13.3s\n",
      "282:\tlearn: 0.0244013\ttotal: 31.8s\tremaining: 13.1s\n",
      "283:\tlearn: 0.0243592\ttotal: 31.9s\tremaining: 13s\n",
      "284:\tlearn: 0.0243310\ttotal: 32s\tremaining: 12.9s\n",
      "285:\tlearn: 0.0242795\ttotal: 32.1s\tremaining: 12.8s\n",
      "286:\tlearn: 0.0242327\ttotal: 32.2s\tremaining: 12.7s\n",
      "287:\tlearn: 0.0241843\ttotal: 32.3s\tremaining: 12.6s\n",
      "288:\tlearn: 0.0241401\ttotal: 32.4s\tremaining: 12.4s\n",
      "289:\tlearn: 0.0241131\ttotal: 32.5s\tremaining: 12.3s\n",
      "290:\tlearn: 0.0240773\ttotal: 32.6s\tremaining: 12.2s\n",
      "291:\tlearn: 0.0240566\ttotal: 32.7s\tremaining: 12.1s\n",
      "292:\tlearn: 0.0240113\ttotal: 32.8s\tremaining: 12s\n",
      "293:\tlearn: 0.0239782\ttotal: 32.9s\tremaining: 11.9s\n",
      "294:\tlearn: 0.0239376\ttotal: 33s\tremaining: 11.8s\n",
      "295:\tlearn: 0.0238964\ttotal: 33.1s\tremaining: 11.6s\n",
      "296:\tlearn: 0.0238761\ttotal: 33.2s\tremaining: 11.5s\n",
      "297:\tlearn: 0.0238306\ttotal: 33.3s\tremaining: 11.4s\n",
      "298:\tlearn: 0.0237781\ttotal: 33.4s\tremaining: 11.3s\n",
      "299:\tlearn: 0.0237589\ttotal: 33.5s\tremaining: 11.2s\n",
      "300:\tlearn: 0.0237384\ttotal: 33.6s\tremaining: 11.1s\n",
      "301:\tlearn: 0.0236859\ttotal: 33.8s\tremaining: 11s\n",
      "302:\tlearn: 0.0236605\ttotal: 33.9s\tremaining: 10.8s\n",
      "303:\tlearn: 0.0236122\ttotal: 34s\tremaining: 10.7s\n",
      "304:\tlearn: 0.0235836\ttotal: 34.1s\tremaining: 10.6s\n",
      "305:\tlearn: 0.0235624\ttotal: 34.2s\tremaining: 10.5s\n",
      "306:\tlearn: 0.0235002\ttotal: 34.3s\tremaining: 10.4s\n",
      "307:\tlearn: 0.0234742\ttotal: 34.3s\tremaining: 10.3s\n",
      "308:\tlearn: 0.0234048\ttotal: 34.4s\tremaining: 10.1s\n",
      "309:\tlearn: 0.0233018\ttotal: 34.6s\tremaining: 10s\n",
      "310:\tlearn: 0.0232713\ttotal: 34.7s\tremaining: 9.92s\n",
      "311:\tlearn: 0.0232320\ttotal: 34.8s\tremaining: 9.81s\n",
      "312:\tlearn: 0.0232011\ttotal: 34.9s\tremaining: 9.71s\n",
      "313:\tlearn: 0.0231495\ttotal: 35s\tremaining: 9.59s\n",
      "314:\tlearn: 0.0231012\ttotal: 35.1s\tremaining: 9.48s\n",
      "315:\tlearn: 0.0230482\ttotal: 35.3s\tremaining: 9.37s\n",
      "316:\tlearn: 0.0230213\ttotal: 35.4s\tremaining: 9.26s\n",
      "317:\tlearn: 0.0229634\ttotal: 35.5s\tremaining: 9.15s\n",
      "318:\tlearn: 0.0229221\ttotal: 35.6s\tremaining: 9.04s\n",
      "319:\tlearn: 0.0228996\ttotal: 35.7s\tremaining: 8.92s\n",
      "320:\tlearn: 0.0228794\ttotal: 35.8s\tremaining: 8.81s\n",
      "321:\tlearn: 0.0228594\ttotal: 35.9s\tremaining: 8.7s\n",
      "322:\tlearn: 0.0228268\ttotal: 36s\tremaining: 8.58s\n",
      "323:\tlearn: 0.0227806\ttotal: 36.1s\tremaining: 8.47s\n",
      "324:\tlearn: 0.0227482\ttotal: 36.2s\tremaining: 8.36s\n",
      "325:\tlearn: 0.0227208\ttotal: 36.3s\tremaining: 8.25s\n",
      "326:\tlearn: 0.0226712\ttotal: 36.4s\tremaining: 8.13s\n",
      "327:\tlearn: 0.0226396\ttotal: 36.5s\tremaining: 8.02s\n",
      "328:\tlearn: 0.0226036\ttotal: 36.7s\tremaining: 7.91s\n",
      "329:\tlearn: 0.0225739\ttotal: 36.8s\tremaining: 7.8s\n",
      "330:\tlearn: 0.0225452\ttotal: 36.9s\tremaining: 7.69s\n",
      "331:\tlearn: 0.0225109\ttotal: 37s\tremaining: 7.58s\n",
      "332:\tlearn: 0.0224733\ttotal: 37.1s\tremaining: 7.47s\n",
      "333:\tlearn: 0.0223989\ttotal: 37.2s\tremaining: 7.35s\n",
      "334:\tlearn: 0.0223608\ttotal: 37.3s\tremaining: 7.24s\n",
      "335:\tlearn: 0.0223186\ttotal: 37.4s\tremaining: 7.13s\n",
      "336:\tlearn: 0.0222647\ttotal: 37.5s\tremaining: 7.02s\n",
      "337:\tlearn: 0.0222216\ttotal: 37.7s\tremaining: 6.91s\n",
      "338:\tlearn: 0.0221948\ttotal: 37.7s\tremaining: 6.79s\n",
      "339:\tlearn: 0.0221590\ttotal: 37.8s\tremaining: 6.68s\n",
      "340:\tlearn: 0.0221473\ttotal: 37.9s\tremaining: 6.56s\n",
      "341:\tlearn: 0.0221120\ttotal: 38.1s\tremaining: 6.45s\n",
      "342:\tlearn: 0.0220927\ttotal: 38.2s\tremaining: 6.34s\n",
      "343:\tlearn: 0.0220415\ttotal: 38.3s\tremaining: 6.23s\n",
      "344:\tlearn: 0.0220148\ttotal: 38.4s\tremaining: 6.12s\n",
      "345:\tlearn: 0.0219942\ttotal: 38.5s\tremaining: 6s\n",
      "346:\tlearn: 0.0219592\ttotal: 38.6s\tremaining: 5.89s\n",
      "347:\tlearn: 0.0218859\ttotal: 38.7s\tremaining: 5.78s\n",
      "348:\tlearn: 0.0218649\ttotal: 38.8s\tremaining: 5.67s\n",
      "349:\tlearn: 0.0218140\ttotal: 38.9s\tremaining: 5.55s\n",
      "350:\tlearn: 0.0217926\ttotal: 39s\tremaining: 5.44s\n",
      "351:\tlearn: 0.0217527\ttotal: 39.1s\tremaining: 5.33s\n",
      "352:\tlearn: 0.0217126\ttotal: 39.2s\tremaining: 5.22s\n",
      "353:\tlearn: 0.0216963\ttotal: 39.3s\tremaining: 5.11s\n",
      "354:\tlearn: 0.0216675\ttotal: 39.4s\tremaining: 5s\n",
      "355:\tlearn: 0.0216354\ttotal: 39.5s\tremaining: 4.88s\n",
      "356:\tlearn: 0.0215863\ttotal: 39.6s\tremaining: 4.77s\n",
      "357:\tlearn: 0.0215597\ttotal: 39.7s\tremaining: 4.66s\n",
      "358:\tlearn: 0.0215225\ttotal: 39.8s\tremaining: 4.55s\n",
      "359:\tlearn: 0.0214988\ttotal: 39.9s\tremaining: 4.44s\n",
      "360:\tlearn: 0.0214827\ttotal: 40s\tremaining: 4.32s\n",
      "361:\tlearn: 0.0214665\ttotal: 40.1s\tremaining: 4.21s\n",
      "362:\tlearn: 0.0214266\ttotal: 40.2s\tremaining: 4.1s\n",
      "363:\tlearn: 0.0214063\ttotal: 40.3s\tremaining: 3.99s\n",
      "364:\tlearn: 0.0213640\ttotal: 40.4s\tremaining: 3.88s\n",
      "365:\tlearn: 0.0213281\ttotal: 40.5s\tremaining: 3.77s\n",
      "366:\tlearn: 0.0213033\ttotal: 40.7s\tremaining: 3.65s\n",
      "367:\tlearn: 0.0212797\ttotal: 40.8s\tremaining: 3.54s\n",
      "368:\tlearn: 0.0212346\ttotal: 40.9s\tremaining: 3.43s\n",
      "369:\tlearn: 0.0212084\ttotal: 41s\tremaining: 3.32s\n",
      "370:\tlearn: 0.0211865\ttotal: 41.1s\tremaining: 3.21s\n",
      "371:\tlearn: 0.0211657\ttotal: 41.2s\tremaining: 3.1s\n",
      "372:\tlearn: 0.0211095\ttotal: 41.3s\tremaining: 2.99s\n",
      "373:\tlearn: 0.0210885\ttotal: 41.4s\tremaining: 2.88s\n",
      "374:\tlearn: 0.0210400\ttotal: 41.5s\tremaining: 2.77s\n",
      "375:\tlearn: 0.0210057\ttotal: 41.6s\tremaining: 2.65s\n",
      "376:\tlearn: 0.0209841\ttotal: 41.7s\tremaining: 2.54s\n",
      "377:\tlearn: 0.0209594\ttotal: 41.8s\tremaining: 2.43s\n",
      "378:\tlearn: 0.0209274\ttotal: 41.9s\tremaining: 2.32s\n",
      "379:\tlearn: 0.0209047\ttotal: 42s\tremaining: 2.21s\n",
      "380:\tlearn: 0.0208415\ttotal: 42.1s\tremaining: 2.1s\n",
      "381:\tlearn: 0.0208170\ttotal: 42.2s\tremaining: 1.99s\n",
      "382:\tlearn: 0.0207895\ttotal: 42.3s\tremaining: 1.88s\n",
      "383:\tlearn: 0.0207576\ttotal: 42.4s\tremaining: 1.77s\n",
      "384:\tlearn: 0.0206750\ttotal: 42.5s\tremaining: 1.66s\n",
      "385:\tlearn: 0.0206391\ttotal: 42.6s\tremaining: 1.55s\n",
      "386:\tlearn: 0.0206249\ttotal: 42.7s\tremaining: 1.44s\n",
      "387:\tlearn: 0.0205975\ttotal: 42.8s\tremaining: 1.32s\n",
      "388:\tlearn: 0.0205639\ttotal: 43s\tremaining: 1.22s\n",
      "389:\tlearn: 0.0205311\ttotal: 43.1s\tremaining: 1.1s\n",
      "390:\tlearn: 0.0205094\ttotal: 43.2s\tremaining: 994ms\n",
      "391:\tlearn: 0.0204918\ttotal: 43.3s\tremaining: 883ms\n",
      "392:\tlearn: 0.0204739\ttotal: 43.4s\tremaining: 772ms\n",
      "393:\tlearn: 0.0204524\ttotal: 43.5s\tremaining: 662ms\n",
      "394:\tlearn: 0.0204402\ttotal: 43.6s\tremaining: 552ms\n",
      "395:\tlearn: 0.0204207\ttotal: 43.7s\tremaining: 441ms\n",
      "396:\tlearn: 0.0203858\ttotal: 43.8s\tremaining: 331ms\n",
      "397:\tlearn: 0.0203562\ttotal: 43.9s\tremaining: 221ms\n",
      "398:\tlearn: 0.0203291\ttotal: 44s\tremaining: 110ms\n",
      "399:\tlearn: 0.0202980\ttotal: 44.1s\tremaining: 0us\n",
      "0.9367743675765984\n",
      "{'catboostclassifier__iterations': 400, 'catboostclassifier__learning_rate': 0.1}\n",
      "CPU times: total: 11min 28s\n",
      "Wall time: 4min 51s\n"
     ]
    }
   ],
   "source": [
    "%%time\n",
    "params = {'catboostclassifier__iterations': [100,400], 'catboostclassifier__learning_rate': [.1, .5]}\n",
    "model = CatBoostClassifier()\n",
    "best_cb = teach_model(model, params, features_train,target_train,time_list,pipeline=True)\n"
   ]
  },
  {
   "cell_type": "code",
   "execution_count": 40,
   "id": "5b4fea4b",
   "metadata": {},
   "outputs": [
    {
     "data": {
      "text/html": [
       "<div>\n",
       "<style scoped>\n",
       "    .dataframe tbody tr th:only-of-type {\n",
       "        vertical-align: middle;\n",
       "    }\n",
       "\n",
       "    .dataframe tbody tr th {\n",
       "        vertical-align: top;\n",
       "    }\n",
       "\n",
       "    .dataframe thead th {\n",
       "        text-align: right;\n",
       "    }\n",
       "</style>\n",
       "<table border=\"1\" class=\"dataframe\">\n",
       "  <thead>\n",
       "    <tr style=\"text-align: right;\">\n",
       "      <th></th>\n",
       "      <th>mean_learning_time (sec)</th>\n",
       "      <th>mean_fit_time (sec)</th>\n",
       "      <th>f1</th>\n",
       "    </tr>\n",
       "  </thead>\n",
       "  <tbody>\n",
       "    <tr>\n",
       "      <th>LogisticRegression non balanced</th>\n",
       "      <td>33.366134</td>\n",
       "      <td>0.348039</td>\n",
       "      <td>0.946886</td>\n",
       "    </tr>\n",
       "    <tr>\n",
       "      <th>LogisticRegression balanced</th>\n",
       "      <td>74.743368</td>\n",
       "      <td>0.382085</td>\n",
       "      <td>0.927256</td>\n",
       "    </tr>\n",
       "    <tr>\n",
       "      <th>DecisionTree</th>\n",
       "      <td>57.116592</td>\n",
       "      <td>0.053345</td>\n",
       "      <td>0.907113</td>\n",
       "    </tr>\n",
       "    <tr>\n",
       "      <th>CatBoost</th>\n",
       "      <td>112.032214</td>\n",
       "      <td>1.375483</td>\n",
       "      <td>0.936774</td>\n",
       "    </tr>\n",
       "  </tbody>\n",
       "</table>\n",
       "</div>"
      ],
      "text/plain": [
       "                                 mean_learning_time (sec)  \\\n",
       "LogisticRegression non balanced                 33.366134   \n",
       "LogisticRegression balanced                     74.743368   \n",
       "DecisionTree                                    57.116592   \n",
       "CatBoost                                       112.032214   \n",
       "\n",
       "                                 mean_fit_time (sec)        f1  \n",
       "LogisticRegression non balanced             0.348039  0.946886  \n",
       "LogisticRegression balanced                 0.382085  0.927256  \n",
       "DecisionTree                                0.053345  0.907113  \n",
       "CatBoost                                    1.375483  0.936774  "
      ]
     },
     "execution_count": 40,
     "metadata": {},
     "output_type": "execute_result"
    }
   ],
   "source": [
    "pd.DataFrame(columns=['mean_learning_time (sec)', 'mean_fit_time (sec)','f1'],\n",
    "             index=['LogisticRegression non balanced','LogisticRegression balanced', 'DecisionTree','CatBoost'],\n",
    "             data=time_list)"
   ]
  },
  {
   "cell_type": "markdown",
   "id": "91815bd1",
   "metadata": {},
   "source": [
    "Наилучшая метрика `f1` на кросс-валидации была достигнута моделью `CatBoostClassifier`, поэтому для дальнейшнего тестирования выберем именно эту модель"
   ]
  },
  {
   "cell_type": "markdown",
   "id": "50df6e73",
   "metadata": {},
   "source": [
    "## Тестирование"
   ]
  },
  {
   "cell_type": "code",
   "execution_count": 41,
   "id": "62b3b81c",
   "metadata": {},
   "outputs": [],
   "source": [
    "predict = lr_no_balance.predict(features_test)"
   ]
  },
  {
   "cell_type": "code",
   "execution_count": 42,
   "id": "9246a542",
   "metadata": {},
   "outputs": [
    {
     "data": {
      "text/plain": [
       "0.9508495145631067"
      ]
     },
     "execution_count": 42,
     "metadata": {},
     "output_type": "execute_result"
    }
   ],
   "source": [
    "f1_score(target_test,predict)"
   ]
  },
  {
   "cell_type": "code",
   "execution_count": 43,
   "id": "74f663bb",
   "metadata": {},
   "outputs": [
    {
     "data": {
      "text/plain": [
       "0.9898241206030151"
      ]
     },
     "execution_count": 43,
     "metadata": {},
     "output_type": "execute_result"
    }
   ],
   "source": [
    "accuracy_score(target_test,predict)"
   ]
  },
  {
   "cell_type": "markdown",
   "id": "3e9f5da4",
   "metadata": {},
   "source": [
    "Имеем хорошую метрику `f1 > 0.75`, которая соответствует условию задачи\\\n",
    "Также имеем отличный показатель точности для данной модели"
   ]
  },
  {
   "cell_type": "markdown",
   "id": "c071779e",
   "metadata": {},
   "source": [
    "## Проверка модели на адекватность"
   ]
  },
  {
   "cell_type": "code",
   "execution_count": 44,
   "id": "712a3cd1",
   "metadata": {},
   "outputs": [
    {
     "name": "stdout",
     "output_type": "stream",
     "text": [
      "f1: 0.0\n"
     ]
    }
   ],
   "source": [
    "dummy = DummyClassifier()\n",
    "dummy.fit(features_train, target_train)\n",
    "dummy_predict = dummy.predict(features_test)\n",
    "\n",
    "print('f1:',f1_score(target_test, dummy_predict))"
   ]
  },
  {
   "cell_type": "markdown",
   "id": "7e08facb",
   "metadata": {},
   "source": [
    "Метрика `f1` на тестировочной выборке наилучшей модели сильно выше , Чем метрика константной модели.\\\n",
    "Модель проходит проверку на адекватность"
   ]
  }
 ],
 "metadata": {
  "kernelspec": {
   "display_name": "Python 3 (ipykernel)",
   "language": "python",
   "name": "python3"
  },
  "language_info": {
   "codemirror_mode": {
    "name": "ipython",
    "version": 3
   },
   "file_extension": ".py",
   "mimetype": "text/x-python",
   "name": "python",
   "nbconvert_exporter": "python",
   "pygments_lexer": "ipython3",
   "version": "3.9.12"
  },
  "toc": {
   "base_numbering": 1,
   "nav_menu": {},
   "number_sections": true,
   "sideBar": true,
   "skip_h1_title": false,
   "title_cell": "Table of Contents",
   "title_sidebar": "Contents",
   "toc_cell": false,
   "toc_position": {},
   "toc_section_display": true,
   "toc_window_display": false
  }
 },
 "nbformat": 4,
 "nbformat_minor": 5
}
