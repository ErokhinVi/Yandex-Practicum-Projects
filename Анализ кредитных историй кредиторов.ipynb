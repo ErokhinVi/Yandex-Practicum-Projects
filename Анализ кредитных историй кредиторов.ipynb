{
 "cells": [
  {
   "cell_type": "markdown",
   "id": "57b2ac7e",
   "metadata": {},
   "source": [
    "<div style=\"border:solid purple 2px; padding: 20px\"> \n",
    "\n",
    "Виталий, привет! 👋\n",
    "\n",
    "Меня зовут Рустам Муртазин, и я буду делать ревью проектной работы по предобработке данных (точнее ее части). Давай будем общаться на **«ты»**. Если это неприемлемо, обязательно напиши мне в комментариях — мы перейдем на **«вы»**.\n",
    "\n",
    "В любом деле всегда можно можно что-то улучшить. Моя основная цель — не показать, что где-то совершены какие-либо ошибки, а поделиться своим опытом, который поможет тебе в дальнейших работах. Далее в файле ты сможешь увидеть мои комментарии, постарайся учесть их при выполнении следующих заданий.\n",
    "\n",
    "Обрати внимание в первую очередь на те, что помечаны <span style=\"color:red\">красным цветом</span>. После их доработки проект будет принят. <span style=\"color:green\">Зеленым цветом</span> отмечены удачные и элегантные решения, на которые можно опираться в будущих проектах. <span style=\"color:orange\">Оранжевым цветом</span> выделено то, что в следующий раз можно сделать по-другому. Ты можешь учесть эти комментарии при выполнении будущих заданий или доработать проект сейчас (однако это не обязательно). Также в проекте могут быть небольшие «лайфхаки» по Python, не относящиеся к проекту, их я выделил в фиолетовую рамку)\n",
    "\n",
    "Давай работать над проектом в диалоге: если ты **что-то меняешь** в проекте по моим рекомендациям — **пиши об этом**. Выбери для своих комментариев какой-то заметный цвет, так мне будет легче отследить изменения. Пожалуйста, **не перемещай, не изменяй и не удаляй мои комментарии**. Всё это поможет выполнить повторную проверку твоего проекта оперативнее».\n",
    "\n",
    "Мне понравился твой проект, есть пару замечаний, но их не много, я думаю ты быстро справишься. Жду твою работу на повторное ревью :)"
   ]
  },
  {
   "cell_type": "markdown",
   "id": "5e395e89",
   "metadata": {},
   "source": [
    "<div style=\"border:solid blue 2px; padding: 20px\"> \n",
    "Привет, Рустам). Общение на \"ты\" абсолютно устраивает, я только \"за\". Я постарался учесть все твои дальнейшие комментарии относительно решения задания. Но есть ещё пару нюансов. Могу ли я так засыпать тебя вопросами, чтобы более хорошо разобраться и улучшить свой проект?) Или лучше все-таки эти вопросы задавать не тебе, а преподователю в Slack-е?\n",
    "\n",
    "    \n",
    "Если я всё-таки могу задавать такое обилие вопросов именно тебе в данный момент, пока ты на ревью, то вот ещё вопрос наперед: Как изменять фон ячейки в юпитере?Или мог бы ты кинуть ссылку, где это прочитать, потому что я попытался нагуглить это, но написано довольно смутно"
   ]
  },
  {
   "cell_type": "markdown",
   "id": "bf95c865",
   "metadata": {},
   "source": [
    "<div class=\"alert alert-info\">\n",
    "<h2> Комментарий ревьюера v2 <a class=\"tocSkip\"> </h2>\n",
    "\n",
    "Вопросы можно мне, можно преподавателю, я чем смогу, помогу) Про оформление своих комментариев, можно так. Оставлю еще [ссылку на Medium](https://medium.com/analytics-vidhya/the-ultimate-markdown-guide-for-jupyter-notebook-d5e5abf728fd), там очень круто расписаны Markdown, и еще вот такую [шпаргалку](https://paulradzkov.com/2014/markdown_cheatsheet/), вдруг понадобится 🙂"
   ]
  },
  {
   "cell_type": "markdown",
   "id": "c81daeeb",
   "metadata": {
    "deletable": false,
    "id": "c81daeeb"
   },
   "source": [
    "# Исследование надежности заемщиков\n"
   ]
  },
  {
   "cell_type": "markdown",
   "id": "827c20bf",
   "metadata": {
    "id": "827c20bf"
   },
   "source": [
    "Во второй части проекта вы выполните шаги 3 и 4. Их вручную проверит ревьюер.\n",
    "Чтобы вам не пришлось писать код заново для шагов 1 и 2, мы добавили авторские решения в ячейки с кодом. \n",
    "\n"
   ]
  },
  {
   "cell_type": "markdown",
   "id": "744d7639",
   "metadata": {
    "deletable": false,
    "id": "744d7639"
   },
   "source": [
    "## Откройте таблицу и изучите общую информацию о данных"
   ]
  },
  {
   "cell_type": "markdown",
   "id": "e7a14c31",
   "metadata": {
    "deletable": false,
    "id": "e7a14c31"
   },
   "source": [
    "**Задание 1. Импортируйте библиотеку pandas. Считайте данные из csv-файла в датафрейм и сохраните в переменную `data`. Путь к файлу:**\n",
    "\n",
    "`/datasets/data.csv`"
   ]
  },
  {
   "cell_type": "code",
   "execution_count": 1,
   "id": "7bcf75c9",
   "metadata": {
    "deletable": false,
    "id": "7bcf75c9"
   },
   "outputs": [
    {
     "name": "stderr",
     "output_type": "stream",
     "text": [
      "C:\\Users\\pufis\\AppData\\Local\\Temp\\ipykernel_17268\\3557036280.py:2: DeprecationWarning: Importing display from IPython.core.display is deprecated since IPython 7.14, please import from IPython display\n",
      "  from IPython.core.display import display, HTML\n"
     ]
    },
    {
     "data": {
      "text/html": [
       "<style>.container { width:90% !important; }</style>"
      ],
      "text/plain": [
       "<IPython.core.display.HTML object>"
      ]
     },
     "metadata": {},
     "output_type": "display_data"
    }
   ],
   "source": [
    "import pandas as pd\n",
    "from IPython.core.display import display, HTML\n",
    "display(HTML(\"<style>.container { width:90% !important; }</style>\"))\n",
    "\n",
    "try:\n",
    "    data = pd.read_csv('/datasets/data.csv')\n",
    "except:\n",
    "    data = pd.read_csv('https://code.s3.yandex.net/datasets/data.csv')"
   ]
  },
  {
   "cell_type": "markdown",
   "id": "b8038fe3",
   "metadata": {
    "deletable": false,
    "id": "b8038fe3"
   },
   "source": [
    "**Задание 2. Выведите первые 20 строчек датафрейма `data` на экран.**"
   ]
  },
  {
   "cell_type": "code",
   "execution_count": 2,
   "id": "2a7cab99",
   "metadata": {
    "deletable": false,
    "id": "2a7cab99",
    "outputId": "1a8f3ef2-d323-4ec2-ddf7-89670b5944c4"
   },
   "outputs": [
    {
     "data": {
      "text/html": [
       "<div>\n",
       "<style scoped>\n",
       "    .dataframe tbody tr th:only-of-type {\n",
       "        vertical-align: middle;\n",
       "    }\n",
       "\n",
       "    .dataframe tbody tr th {\n",
       "        vertical-align: top;\n",
       "    }\n",
       "\n",
       "    .dataframe thead th {\n",
       "        text-align: right;\n",
       "    }\n",
       "</style>\n",
       "<table border=\"1\" class=\"dataframe\">\n",
       "  <thead>\n",
       "    <tr style=\"text-align: right;\">\n",
       "      <th></th>\n",
       "      <th>children</th>\n",
       "      <th>days_employed</th>\n",
       "      <th>dob_years</th>\n",
       "      <th>education</th>\n",
       "      <th>education_id</th>\n",
       "      <th>family_status</th>\n",
       "      <th>family_status_id</th>\n",
       "      <th>gender</th>\n",
       "      <th>income_type</th>\n",
       "      <th>debt</th>\n",
       "      <th>total_income</th>\n",
       "      <th>purpose</th>\n",
       "    </tr>\n",
       "  </thead>\n",
       "  <tbody>\n",
       "    <tr>\n",
       "      <th>0</th>\n",
       "      <td>1</td>\n",
       "      <td>-8437.673028</td>\n",
       "      <td>42</td>\n",
       "      <td>высшее</td>\n",
       "      <td>0</td>\n",
       "      <td>женат / замужем</td>\n",
       "      <td>0</td>\n",
       "      <td>F</td>\n",
       "      <td>сотрудник</td>\n",
       "      <td>0</td>\n",
       "      <td>253875.639453</td>\n",
       "      <td>покупка жилья</td>\n",
       "    </tr>\n",
       "    <tr>\n",
       "      <th>1</th>\n",
       "      <td>1</td>\n",
       "      <td>-4024.803754</td>\n",
       "      <td>36</td>\n",
       "      <td>среднее</td>\n",
       "      <td>1</td>\n",
       "      <td>женат / замужем</td>\n",
       "      <td>0</td>\n",
       "      <td>F</td>\n",
       "      <td>сотрудник</td>\n",
       "      <td>0</td>\n",
       "      <td>112080.014102</td>\n",
       "      <td>приобретение автомобиля</td>\n",
       "    </tr>\n",
       "    <tr>\n",
       "      <th>2</th>\n",
       "      <td>0</td>\n",
       "      <td>-5623.422610</td>\n",
       "      <td>33</td>\n",
       "      <td>Среднее</td>\n",
       "      <td>1</td>\n",
       "      <td>женат / замужем</td>\n",
       "      <td>0</td>\n",
       "      <td>M</td>\n",
       "      <td>сотрудник</td>\n",
       "      <td>0</td>\n",
       "      <td>145885.952297</td>\n",
       "      <td>покупка жилья</td>\n",
       "    </tr>\n",
       "    <tr>\n",
       "      <th>3</th>\n",
       "      <td>3</td>\n",
       "      <td>-4124.747207</td>\n",
       "      <td>32</td>\n",
       "      <td>среднее</td>\n",
       "      <td>1</td>\n",
       "      <td>женат / замужем</td>\n",
       "      <td>0</td>\n",
       "      <td>M</td>\n",
       "      <td>сотрудник</td>\n",
       "      <td>0</td>\n",
       "      <td>267628.550329</td>\n",
       "      <td>дополнительное образование</td>\n",
       "    </tr>\n",
       "    <tr>\n",
       "      <th>4</th>\n",
       "      <td>0</td>\n",
       "      <td>340266.072047</td>\n",
       "      <td>53</td>\n",
       "      <td>среднее</td>\n",
       "      <td>1</td>\n",
       "      <td>гражданский брак</td>\n",
       "      <td>1</td>\n",
       "      <td>F</td>\n",
       "      <td>пенсионер</td>\n",
       "      <td>0</td>\n",
       "      <td>158616.077870</td>\n",
       "      <td>сыграть свадьбу</td>\n",
       "    </tr>\n",
       "    <tr>\n",
       "      <th>5</th>\n",
       "      <td>0</td>\n",
       "      <td>-926.185831</td>\n",
       "      <td>27</td>\n",
       "      <td>высшее</td>\n",
       "      <td>0</td>\n",
       "      <td>гражданский брак</td>\n",
       "      <td>1</td>\n",
       "      <td>M</td>\n",
       "      <td>компаньон</td>\n",
       "      <td>0</td>\n",
       "      <td>255763.565419</td>\n",
       "      <td>покупка жилья</td>\n",
       "    </tr>\n",
       "    <tr>\n",
       "      <th>6</th>\n",
       "      <td>0</td>\n",
       "      <td>-2879.202052</td>\n",
       "      <td>43</td>\n",
       "      <td>высшее</td>\n",
       "      <td>0</td>\n",
       "      <td>женат / замужем</td>\n",
       "      <td>0</td>\n",
       "      <td>F</td>\n",
       "      <td>компаньон</td>\n",
       "      <td>0</td>\n",
       "      <td>240525.971920</td>\n",
       "      <td>операции с жильем</td>\n",
       "    </tr>\n",
       "    <tr>\n",
       "      <th>7</th>\n",
       "      <td>0</td>\n",
       "      <td>-152.779569</td>\n",
       "      <td>50</td>\n",
       "      <td>СРЕДНЕЕ</td>\n",
       "      <td>1</td>\n",
       "      <td>женат / замужем</td>\n",
       "      <td>0</td>\n",
       "      <td>M</td>\n",
       "      <td>сотрудник</td>\n",
       "      <td>0</td>\n",
       "      <td>135823.934197</td>\n",
       "      <td>образование</td>\n",
       "    </tr>\n",
       "    <tr>\n",
       "      <th>8</th>\n",
       "      <td>2</td>\n",
       "      <td>-6929.865299</td>\n",
       "      <td>35</td>\n",
       "      <td>ВЫСШЕЕ</td>\n",
       "      <td>0</td>\n",
       "      <td>гражданский брак</td>\n",
       "      <td>1</td>\n",
       "      <td>F</td>\n",
       "      <td>сотрудник</td>\n",
       "      <td>0</td>\n",
       "      <td>95856.832424</td>\n",
       "      <td>на проведение свадьбы</td>\n",
       "    </tr>\n",
       "    <tr>\n",
       "      <th>9</th>\n",
       "      <td>0</td>\n",
       "      <td>-2188.756445</td>\n",
       "      <td>41</td>\n",
       "      <td>среднее</td>\n",
       "      <td>1</td>\n",
       "      <td>женат / замужем</td>\n",
       "      <td>0</td>\n",
       "      <td>M</td>\n",
       "      <td>сотрудник</td>\n",
       "      <td>0</td>\n",
       "      <td>144425.938277</td>\n",
       "      <td>покупка жилья для семьи</td>\n",
       "    </tr>\n",
       "    <tr>\n",
       "      <th>10</th>\n",
       "      <td>2</td>\n",
       "      <td>-4171.483647</td>\n",
       "      <td>36</td>\n",
       "      <td>высшее</td>\n",
       "      <td>0</td>\n",
       "      <td>женат / замужем</td>\n",
       "      <td>0</td>\n",
       "      <td>M</td>\n",
       "      <td>компаньон</td>\n",
       "      <td>0</td>\n",
       "      <td>113943.491460</td>\n",
       "      <td>покупка недвижимости</td>\n",
       "    </tr>\n",
       "    <tr>\n",
       "      <th>11</th>\n",
       "      <td>0</td>\n",
       "      <td>-792.701887</td>\n",
       "      <td>40</td>\n",
       "      <td>среднее</td>\n",
       "      <td>1</td>\n",
       "      <td>женат / замужем</td>\n",
       "      <td>0</td>\n",
       "      <td>F</td>\n",
       "      <td>сотрудник</td>\n",
       "      <td>0</td>\n",
       "      <td>77069.234271</td>\n",
       "      <td>покупка коммерческой недвижимости</td>\n",
       "    </tr>\n",
       "    <tr>\n",
       "      <th>12</th>\n",
       "      <td>0</td>\n",
       "      <td>NaN</td>\n",
       "      <td>65</td>\n",
       "      <td>среднее</td>\n",
       "      <td>1</td>\n",
       "      <td>гражданский брак</td>\n",
       "      <td>1</td>\n",
       "      <td>M</td>\n",
       "      <td>пенсионер</td>\n",
       "      <td>0</td>\n",
       "      <td>NaN</td>\n",
       "      <td>сыграть свадьбу</td>\n",
       "    </tr>\n",
       "    <tr>\n",
       "      <th>13</th>\n",
       "      <td>0</td>\n",
       "      <td>-1846.641941</td>\n",
       "      <td>54</td>\n",
       "      <td>неоконченное высшее</td>\n",
       "      <td>2</td>\n",
       "      <td>женат / замужем</td>\n",
       "      <td>0</td>\n",
       "      <td>F</td>\n",
       "      <td>сотрудник</td>\n",
       "      <td>0</td>\n",
       "      <td>130458.228857</td>\n",
       "      <td>приобретение автомобиля</td>\n",
       "    </tr>\n",
       "    <tr>\n",
       "      <th>14</th>\n",
       "      <td>0</td>\n",
       "      <td>-1844.956182</td>\n",
       "      <td>56</td>\n",
       "      <td>высшее</td>\n",
       "      <td>0</td>\n",
       "      <td>гражданский брак</td>\n",
       "      <td>1</td>\n",
       "      <td>F</td>\n",
       "      <td>компаньон</td>\n",
       "      <td>1</td>\n",
       "      <td>165127.911772</td>\n",
       "      <td>покупка жилой недвижимости</td>\n",
       "    </tr>\n",
       "    <tr>\n",
       "      <th>15</th>\n",
       "      <td>1</td>\n",
       "      <td>-972.364419</td>\n",
       "      <td>26</td>\n",
       "      <td>среднее</td>\n",
       "      <td>1</td>\n",
       "      <td>женат / замужем</td>\n",
       "      <td>0</td>\n",
       "      <td>F</td>\n",
       "      <td>сотрудник</td>\n",
       "      <td>0</td>\n",
       "      <td>116820.904450</td>\n",
       "      <td>строительство собственной недвижимости</td>\n",
       "    </tr>\n",
       "    <tr>\n",
       "      <th>16</th>\n",
       "      <td>0</td>\n",
       "      <td>-1719.934226</td>\n",
       "      <td>35</td>\n",
       "      <td>среднее</td>\n",
       "      <td>1</td>\n",
       "      <td>женат / замужем</td>\n",
       "      <td>0</td>\n",
       "      <td>F</td>\n",
       "      <td>сотрудник</td>\n",
       "      <td>0</td>\n",
       "      <td>289202.704229</td>\n",
       "      <td>недвижимость</td>\n",
       "    </tr>\n",
       "    <tr>\n",
       "      <th>17</th>\n",
       "      <td>0</td>\n",
       "      <td>-2369.999720</td>\n",
       "      <td>33</td>\n",
       "      <td>высшее</td>\n",
       "      <td>0</td>\n",
       "      <td>гражданский брак</td>\n",
       "      <td>1</td>\n",
       "      <td>M</td>\n",
       "      <td>сотрудник</td>\n",
       "      <td>0</td>\n",
       "      <td>90410.586745</td>\n",
       "      <td>строительство недвижимости</td>\n",
       "    </tr>\n",
       "    <tr>\n",
       "      <th>18</th>\n",
       "      <td>0</td>\n",
       "      <td>400281.136913</td>\n",
       "      <td>53</td>\n",
       "      <td>среднее</td>\n",
       "      <td>1</td>\n",
       "      <td>вдовец / вдова</td>\n",
       "      <td>2</td>\n",
       "      <td>F</td>\n",
       "      <td>пенсионер</td>\n",
       "      <td>0</td>\n",
       "      <td>56823.777243</td>\n",
       "      <td>на покупку подержанного автомобиля</td>\n",
       "    </tr>\n",
       "    <tr>\n",
       "      <th>19</th>\n",
       "      <td>0</td>\n",
       "      <td>-10038.818549</td>\n",
       "      <td>48</td>\n",
       "      <td>СРЕДНЕЕ</td>\n",
       "      <td>1</td>\n",
       "      <td>в разводе</td>\n",
       "      <td>3</td>\n",
       "      <td>F</td>\n",
       "      <td>сотрудник</td>\n",
       "      <td>0</td>\n",
       "      <td>242831.107982</td>\n",
       "      <td>на покупку своего автомобиля</td>\n",
       "    </tr>\n",
       "  </tbody>\n",
       "</table>\n",
       "</div>"
      ],
      "text/plain": [
       "    children  days_employed  dob_years            education  education_id  \\\n",
       "0          1   -8437.673028         42               высшее             0   \n",
       "1          1   -4024.803754         36              среднее             1   \n",
       "2          0   -5623.422610         33              Среднее             1   \n",
       "3          3   -4124.747207         32              среднее             1   \n",
       "4          0  340266.072047         53              среднее             1   \n",
       "5          0    -926.185831         27               высшее             0   \n",
       "6          0   -2879.202052         43               высшее             0   \n",
       "7          0    -152.779569         50              СРЕДНЕЕ             1   \n",
       "8          2   -6929.865299         35               ВЫСШЕЕ             0   \n",
       "9          0   -2188.756445         41              среднее             1   \n",
       "10         2   -4171.483647         36               высшее             0   \n",
       "11         0    -792.701887         40              среднее             1   \n",
       "12         0            NaN         65              среднее             1   \n",
       "13         0   -1846.641941         54  неоконченное высшее             2   \n",
       "14         0   -1844.956182         56               высшее             0   \n",
       "15         1    -972.364419         26              среднее             1   \n",
       "16         0   -1719.934226         35              среднее             1   \n",
       "17         0   -2369.999720         33               высшее             0   \n",
       "18         0  400281.136913         53              среднее             1   \n",
       "19         0  -10038.818549         48              СРЕДНЕЕ             1   \n",
       "\n",
       "       family_status  family_status_id gender income_type  debt  \\\n",
       "0    женат / замужем                 0      F   сотрудник     0   \n",
       "1    женат / замужем                 0      F   сотрудник     0   \n",
       "2    женат / замужем                 0      M   сотрудник     0   \n",
       "3    женат / замужем                 0      M   сотрудник     0   \n",
       "4   гражданский брак                 1      F   пенсионер     0   \n",
       "5   гражданский брак                 1      M   компаньон     0   \n",
       "6    женат / замужем                 0      F   компаньон     0   \n",
       "7    женат / замужем                 0      M   сотрудник     0   \n",
       "8   гражданский брак                 1      F   сотрудник     0   \n",
       "9    женат / замужем                 0      M   сотрудник     0   \n",
       "10   женат / замужем                 0      M   компаньон     0   \n",
       "11   женат / замужем                 0      F   сотрудник     0   \n",
       "12  гражданский брак                 1      M   пенсионер     0   \n",
       "13   женат / замужем                 0      F   сотрудник     0   \n",
       "14  гражданский брак                 1      F   компаньон     1   \n",
       "15   женат / замужем                 0      F   сотрудник     0   \n",
       "16   женат / замужем                 0      F   сотрудник     0   \n",
       "17  гражданский брак                 1      M   сотрудник     0   \n",
       "18    вдовец / вдова                 2      F   пенсионер     0   \n",
       "19         в разводе                 3      F   сотрудник     0   \n",
       "\n",
       "     total_income                                 purpose  \n",
       "0   253875.639453                           покупка жилья  \n",
       "1   112080.014102                 приобретение автомобиля  \n",
       "2   145885.952297                           покупка жилья  \n",
       "3   267628.550329              дополнительное образование  \n",
       "4   158616.077870                         сыграть свадьбу  \n",
       "5   255763.565419                           покупка жилья  \n",
       "6   240525.971920                       операции с жильем  \n",
       "7   135823.934197                             образование  \n",
       "8    95856.832424                   на проведение свадьбы  \n",
       "9   144425.938277                 покупка жилья для семьи  \n",
       "10  113943.491460                    покупка недвижимости  \n",
       "11   77069.234271       покупка коммерческой недвижимости  \n",
       "12            NaN                         сыграть свадьбу  \n",
       "13  130458.228857                 приобретение автомобиля  \n",
       "14  165127.911772              покупка жилой недвижимости  \n",
       "15  116820.904450  строительство собственной недвижимости  \n",
       "16  289202.704229                            недвижимость  \n",
       "17   90410.586745              строительство недвижимости  \n",
       "18   56823.777243      на покупку подержанного автомобиля  \n",
       "19  242831.107982            на покупку своего автомобиля  "
      ]
     },
     "execution_count": 2,
     "metadata": {},
     "output_type": "execute_result"
    }
   ],
   "source": [
    "data.head(20)"
   ]
  },
  {
   "cell_type": "markdown",
   "id": "1c12e233",
   "metadata": {
    "deletable": false,
    "id": "1c12e233"
   },
   "source": [
    "**Задание 3. Выведите основную информацию о датафрейме с помощью метода `info()`.**"
   ]
  },
  {
   "cell_type": "code",
   "execution_count": 3,
   "id": "2b757bca",
   "metadata": {
    "deletable": false,
    "id": "2b757bca",
    "outputId": "15376089-8dad-46c9-b520-c05248d43158"
   },
   "outputs": [
    {
     "name": "stdout",
     "output_type": "stream",
     "text": [
      "<class 'pandas.core.frame.DataFrame'>\n",
      "RangeIndex: 21525 entries, 0 to 21524\n",
      "Data columns (total 12 columns):\n",
      " #   Column            Non-Null Count  Dtype  \n",
      "---  ------            --------------  -----  \n",
      " 0   children          21525 non-null  int64  \n",
      " 1   days_employed     19351 non-null  float64\n",
      " 2   dob_years         21525 non-null  int64  \n",
      " 3   education         21525 non-null  object \n",
      " 4   education_id      21525 non-null  int64  \n",
      " 5   family_status     21525 non-null  object \n",
      " 6   family_status_id  21525 non-null  int64  \n",
      " 7   gender            21525 non-null  object \n",
      " 8   income_type       21525 non-null  object \n",
      " 9   debt              21525 non-null  int64  \n",
      " 10  total_income      19351 non-null  float64\n",
      " 11  purpose           21525 non-null  object \n",
      "dtypes: float64(2), int64(5), object(5)\n",
      "memory usage: 2.0+ MB\n"
     ]
    }
   ],
   "source": [
    "data.info()"
   ]
  },
  {
   "cell_type": "markdown",
   "id": "333ec665",
   "metadata": {
    "deletable": false,
    "id": "333ec665"
   },
   "source": [
    "## Предобработка данных"
   ]
  },
  {
   "cell_type": "markdown",
   "id": "02d92d53",
   "metadata": {
    "deletable": false,
    "id": "02d92d53"
   },
   "source": [
    "### Удаление пропусков"
   ]
  },
  {
   "cell_type": "markdown",
   "id": "cd84967c",
   "metadata": {
    "deletable": false,
    "id": "cd84967c"
   },
   "source": [
    "**Задание 4. Выведите количество пропущенных значений для каждого столбца. Используйте комбинацию двух методов.**"
   ]
  },
  {
   "cell_type": "code",
   "execution_count": 4,
   "id": "7f9b2309",
   "metadata": {
    "deletable": false,
    "id": "7f9b2309",
    "outputId": "81f4d817-781c-465c-ed15-91ce4446810d"
   },
   "outputs": [
    {
     "data": {
      "text/plain": [
       "children               0\n",
       "days_employed       2174\n",
       "dob_years              0\n",
       "education              0\n",
       "education_id           0\n",
       "family_status          0\n",
       "family_status_id       0\n",
       "gender                 0\n",
       "income_type            0\n",
       "debt                   0\n",
       "total_income        2174\n",
       "purpose                0\n",
       "dtype: int64"
      ]
     },
     "execution_count": 4,
     "metadata": {},
     "output_type": "execute_result"
    }
   ],
   "source": [
    "data.isna().sum()"
   ]
  },
  {
   "cell_type": "markdown",
   "id": "db86e27b",
   "metadata": {
    "deletable": false,
    "id": "db86e27b"
   },
   "source": [
    "**Задание 5. В двух столбцах есть пропущенные значения. Один из них — `days_employed`. Пропуски в этом столбце вы обработаете на следующем этапе. Другой столбец с пропущенными значениями — `total_income` — хранит данные о доходах. На сумму дохода сильнее всего влияет тип занятости, поэтому заполнить пропуски в этом столбце нужно медианным значением по каждому типу из столбца `income_type`. Например, у человека с типом занятости `сотрудник` пропуск в столбце `total_income` должен быть заполнен медианным доходом среди всех записей с тем же типом.**"
   ]
  },
  {
   "cell_type": "code",
   "execution_count": 5,
   "id": "42006a93",
   "metadata": {
    "deletable": false,
    "id": "42006a93"
   },
   "outputs": [],
   "source": [
    "for t in data['income_type'].unique():\n",
    "    data.loc[(data['income_type'] == t) & (data['total_income'].isna()), 'total_income'] = \\\n",
    "    data.loc[(data['income_type'] == t), 'total_income'].median()"
   ]
  },
  {
   "cell_type": "markdown",
   "id": "89da5ece",
   "metadata": {
    "deletable": false,
    "id": "89da5ece"
   },
   "source": [
    "### Обработка аномальных значений"
   ]
  },
  {
   "cell_type": "markdown",
   "id": "57964554",
   "metadata": {
    "deletable": false,
    "id": "57964554"
   },
   "source": [
    "**Задание 6. В данных могут встречаться артефакты (аномалии) — значения, которые не отражают действительность и появились по какой-то ошибке. таким артефактом будет отрицательное количество дней трудового стажа в столбце `days_employed`. Для реальных данных это нормально. Обработайте значения в этом столбце: замените все отрицательные значения положительными с помощью метода `abs()`.**"
   ]
  },
  {
   "cell_type": "code",
   "execution_count": 6,
   "id": "f6f055bf",
   "metadata": {
    "deletable": false,
    "id": "f6f055bf"
   },
   "outputs": [],
   "source": [
    "data['days_employed'] = data['days_employed'].abs()"
   ]
  },
  {
   "cell_type": "markdown",
   "id": "6107dd2f",
   "metadata": {
    "deletable": false,
    "id": "6107dd2f"
   },
   "source": [
    "**Задание 7. Для каждого типа занятости выведите медианное значение трудового стажа `days_employed` в днях.**"
   ]
  },
  {
   "cell_type": "code",
   "execution_count": 7,
   "id": "85a5faf6",
   "metadata": {
    "deletable": false,
    "id": "85a5faf6",
    "outputId": "801ef80e-522b-4668-f34e-565af7432bcf"
   },
   "outputs": [
    {
     "data": {
      "text/plain": [
       "income_type\n",
       "безработный        366413.652744\n",
       "в декрете            3296.759962\n",
       "госслужащий          2689.368353\n",
       "компаньон            1547.382223\n",
       "пенсионер          365213.306266\n",
       "предприниматель       520.848083\n",
       "сотрудник            1574.202821\n",
       "студент               578.751554\n",
       "Name: days_employed, dtype: float64"
      ]
     },
     "execution_count": 7,
     "metadata": {},
     "output_type": "execute_result"
    }
   ],
   "source": [
    "data.groupby('income_type')['days_employed'].agg('median')"
   ]
  },
  {
   "cell_type": "markdown",
   "id": "38d1a030",
   "metadata": {
    "deletable": false,
    "id": "38d1a030"
   },
   "source": [
    "У двух типов (безработные и пенсионеры) получатся аномально большие значения. Исправить такие значения сложно, поэтому оставьте их как есть. Тем более этот столбец не понадобится вам для исследования."
   ]
  },
  {
   "cell_type": "markdown",
   "id": "d8a9f147",
   "metadata": {
    "deletable": false,
    "id": "d8a9f147"
   },
   "source": [
    "**Задание 8. Выведите перечень уникальных значений столбца `children`.**"
   ]
  },
  {
   "cell_type": "code",
   "execution_count": 8,
   "id": "ef5056eb",
   "metadata": {
    "deletable": false,
    "id": "ef5056eb",
    "outputId": "6975b15c-7f95-4697-d16d-a0c79b657b03"
   },
   "outputs": [
    {
     "data": {
      "text/plain": [
       "array([ 1,  0,  3,  2, -1,  4, 20,  5], dtype=int64)"
      ]
     },
     "execution_count": 8,
     "metadata": {},
     "output_type": "execute_result"
    }
   ],
   "source": [
    "data['children'].unique()"
   ]
  },
  {
   "cell_type": "markdown",
   "id": "40b9ebf2",
   "metadata": {
    "deletable": false,
    "id": "40b9ebf2"
   },
   "source": [
    "**Задание 9. В столбце `children` есть два аномальных значения. Удалите строки, в которых встречаются такие аномальные значения из датафрейма `data`.**"
   ]
  },
  {
   "cell_type": "code",
   "execution_count": 9,
   "id": "3ff9801d",
   "metadata": {
    "deletable": false,
    "id": "3ff9801d"
   },
   "outputs": [],
   "source": [
    "data = data[(data['children'] != -1) & (data['children'] != 20)]"
   ]
  },
  {
   "cell_type": "markdown",
   "id": "bbc4d0ce",
   "metadata": {
    "deletable": false,
    "id": "bbc4d0ce"
   },
   "source": [
    "**Задание 10. Ещё раз выведите перечень уникальных значений столбца `children`, чтобы убедиться, что артефакты удалены.**"
   ]
  },
  {
   "cell_type": "code",
   "execution_count": 10,
   "id": "ad4fa8b7",
   "metadata": {
    "deletable": false,
    "id": "ad4fa8b7",
    "outputId": "b2097101-d49d-44d9-901b-32a65c9463d1"
   },
   "outputs": [
    {
     "data": {
      "text/plain": [
       "array([1, 0, 3, 2, 4, 5], dtype=int64)"
      ]
     },
     "execution_count": 10,
     "metadata": {},
     "output_type": "execute_result"
    }
   ],
   "source": [
    "data['children'].unique()"
   ]
  },
  {
   "cell_type": "markdown",
   "id": "75440b63",
   "metadata": {
    "deletable": false,
    "id": "75440b63"
   },
   "source": [
    "### Удаление пропусков (продолжение)"
   ]
  },
  {
   "cell_type": "markdown",
   "id": "f4ea573f",
   "metadata": {
    "deletable": false,
    "id": "f4ea573f"
   },
   "source": [
    "**Задание 11. Заполните пропуски в столбце `days_employed` медианными значениями по каждого типа занятости `income_type`.**"
   ]
  },
  {
   "cell_type": "code",
   "execution_count": 11,
   "id": "af6b1a7e",
   "metadata": {
    "deletable": false,
    "id": "af6b1a7e"
   },
   "outputs": [],
   "source": [
    "for t in data['income_type'].unique():\n",
    "    data.loc[(data['income_type'] == t) & (data['days_employed'].isna()), 'days_employed'] = \\\n",
    "    data.loc[(data['income_type'] == t), 'days_employed'].median()"
   ]
  },
  {
   "cell_type": "markdown",
   "id": "2753f40d",
   "metadata": {
    "deletable": false,
    "id": "2753f40d"
   },
   "source": [
    "**Задание 12. Убедитесь, что все пропуски заполнены. Проверьте себя и ещё раз выведите количество пропущенных значений для каждого столбца с помощью двух методов.**"
   ]
  },
  {
   "cell_type": "code",
   "execution_count": 12,
   "id": "55f78bc2",
   "metadata": {
    "deletable": false,
    "id": "55f78bc2",
    "outputId": "8da1e4e1-358e-4e87-98c9-f261bce0a7b2"
   },
   "outputs": [
    {
     "data": {
      "text/plain": [
       "children            0\n",
       "days_employed       0\n",
       "dob_years           0\n",
       "education           0\n",
       "education_id        0\n",
       "family_status       0\n",
       "family_status_id    0\n",
       "gender              0\n",
       "income_type         0\n",
       "debt                0\n",
       "total_income        0\n",
       "purpose             0\n",
       "dtype: int64"
      ]
     },
     "execution_count": 12,
     "metadata": {},
     "output_type": "execute_result"
    }
   ],
   "source": [
    "data.isna().sum()"
   ]
  },
  {
   "cell_type": "markdown",
   "id": "ddc81e43",
   "metadata": {
    "deletable": false,
    "id": "ddc81e43"
   },
   "source": [
    "### Изменение типов данных"
   ]
  },
  {
   "cell_type": "markdown",
   "id": "42d19d24",
   "metadata": {
    "deletable": false,
    "id": "42d19d24"
   },
   "source": [
    "**Задание 13. Замените вещественный тип данных в столбце `total_income` на целочисленный с помощью метода `astype()`.**"
   ]
  },
  {
   "cell_type": "code",
   "execution_count": 13,
   "id": "920b65ad",
   "metadata": {
    "deletable": false,
    "id": "920b65ad"
   },
   "outputs": [],
   "source": [
    "data['total_income'] = data['total_income'].astype(int)"
   ]
  },
  {
   "cell_type": "markdown",
   "id": "80c420ba",
   "metadata": {
    "deletable": false,
    "id": "80c420ba"
   },
   "source": [
    "### Обработка дубликатов"
   ]
  },
  {
   "cell_type": "markdown",
   "id": "dc587695",
   "metadata": {
    "deletable": false,
    "id": "dc587695"
   },
   "source": [
    "**Задание 14. Выведите на экран количество строк-дубликатов в данных. Если такие строки присутствуют, удалите их.**"
   ]
  },
  {
   "cell_type": "code",
   "execution_count": 14,
   "id": "3ee445e4",
   "metadata": {
    "deletable": false,
    "id": "3ee445e4",
    "outputId": "9684deba-1934-42d1-99e1-cda61740f822"
   },
   "outputs": [
    {
     "data": {
      "text/plain": [
       "54"
      ]
     },
     "execution_count": 14,
     "metadata": {},
     "output_type": "execute_result"
    }
   ],
   "source": [
    "data.duplicated().sum()"
   ]
  },
  {
   "cell_type": "code",
   "execution_count": 15,
   "id": "8575fe05",
   "metadata": {
    "deletable": false,
    "id": "8575fe05"
   },
   "outputs": [],
   "source": [
    "data = data.drop_duplicates()"
   ]
  },
  {
   "cell_type": "markdown",
   "id": "9771a76c",
   "metadata": {
    "deletable": false,
    "id": "9771a76c"
   },
   "source": [
    "**Задание 15. Обработайте неявные дубликаты в столбце `education`. В этом столбце есть одни и те же значения, но записанные по-разному: с использованием заглавных и строчных букв. Приведите их к нижнему регистру. Проверьте остальные столбцы.**"
   ]
  },
  {
   "cell_type": "code",
   "execution_count": 16,
   "id": "a9f8e2bf",
   "metadata": {
    "deletable": false,
    "id": "a9f8e2bf"
   },
   "outputs": [],
   "source": [
    "data['education'] = data['education'].str.lower()"
   ]
  },
  {
   "cell_type": "markdown",
   "id": "9904cf55",
   "metadata": {
    "deletable": false,
    "id": "9904cf55"
   },
   "source": [
    "### Категоризация данных <a id='category'></a>"
   ]
  },
  {
   "cell_type": "markdown",
   "id": "72fcc8a2",
   "metadata": {
    "deletable": false,
    "id": "72fcc8a2"
   },
   "source": [
    "**Задание 16. На основании диапазонов, указанных ниже, создайте в датафрейме `data` столбец `total_income_category` с категориями:**\n",
    "\n",
    "- 0–30000 — `'E'`;\n",
    "- 30001–50000 — `'D'`;\n",
    "- 50001–200000 — `'C'`;\n",
    "- 200001–1000000 — `'B'`;\n",
    "- 1000001 и выше — `'A'`.\n",
    "\n",
    "\n",
    "**Например, кредитополучателю с доходом 25000 нужно назначить категорию `'E'`, а клиенту, получающему 235000, — `'B'`. Используйте собственную функцию с именем `categorize_income()` и метод `apply()`.**"
   ]
  },
  {
   "cell_type": "code",
   "execution_count": 17,
   "id": "e1771346",
   "metadata": {
    "deletable": false,
    "id": "e1771346"
   },
   "outputs": [],
   "source": [
    "def categorize_income(income):\n",
    "    try:\n",
    "        if 0 <= income <= 30000:\n",
    "            return 'E'\n",
    "        elif 30001 <= income <= 50000:\n",
    "            return 'D'\n",
    "        elif 50001 <= income <= 200000:\n",
    "            return 'C'\n",
    "        elif 200001 <= income <= 1000000:\n",
    "            return 'B'\n",
    "        elif income >= 1000001:\n",
    "            return 'A'\n",
    "    except:\n",
    "        pass"
   ]
  },
  {
   "cell_type": "code",
   "execution_count": 18,
   "id": "d5f3586d",
   "metadata": {
    "deletable": false,
    "id": "d5f3586d"
   },
   "outputs": [],
   "source": [
    "data['total_income_category'] = data['total_income'].apply(categorize_income)"
   ]
  },
  {
   "cell_type": "markdown",
   "id": "dde49b5c",
   "metadata": {
    "deletable": false,
    "id": "dde49b5c"
   },
   "source": [
    "**Задание 17. Выведите на экран перечень уникальных целей взятия кредита из столбца `purpose`.**"
   ]
  },
  {
   "cell_type": "code",
   "execution_count": 19,
   "id": "f67ce9b3",
   "metadata": {
    "deletable": false,
    "id": "f67ce9b3",
    "outputId": "673c12d9-7d7e-4ae0-9812-c622c89dd244"
   },
   "outputs": [
    {
     "data": {
      "text/plain": [
       "array(['покупка жилья', 'приобретение автомобиля',\n",
       "       'дополнительное образование', 'сыграть свадьбу',\n",
       "       'операции с жильем', 'образование', 'на проведение свадьбы',\n",
       "       'покупка жилья для семьи', 'покупка недвижимости',\n",
       "       'покупка коммерческой недвижимости', 'покупка жилой недвижимости',\n",
       "       'строительство собственной недвижимости', 'недвижимость',\n",
       "       'строительство недвижимости', 'на покупку подержанного автомобиля',\n",
       "       'на покупку своего автомобиля',\n",
       "       'операции с коммерческой недвижимостью',\n",
       "       'строительство жилой недвижимости', 'жилье',\n",
       "       'операции со своей недвижимостью', 'автомобили',\n",
       "       'заняться образованием', 'сделка с подержанным автомобилем',\n",
       "       'получение образования', 'автомобиль', 'свадьба',\n",
       "       'получение дополнительного образования', 'покупка своего жилья',\n",
       "       'операции с недвижимостью', 'получение высшего образования',\n",
       "       'свой автомобиль', 'сделка с автомобилем',\n",
       "       'профильное образование', 'высшее образование',\n",
       "       'покупка жилья для сдачи', 'на покупку автомобиля', 'ремонт жилью',\n",
       "       'заняться высшим образованием'], dtype=object)"
      ]
     },
     "execution_count": 19,
     "metadata": {},
     "output_type": "execute_result"
    }
   ],
   "source": [
    "data['purpose'].unique()"
   ]
  },
  {
   "cell_type": "markdown",
   "id": "85d0aef0",
   "metadata": {
    "deletable": false,
    "id": "85d0aef0"
   },
   "source": [
    "**Задание 18. Создайте функцию, которая на основании данных из столбца `purpose` сформирует новый столбец `purpose_category`, в который войдут следующие категории:**\n",
    "\n",
    "- `'операции с автомобилем'`,\n",
    "- `'операции с недвижимостью'`,\n",
    "- `'проведение свадьбы'`,\n",
    "- `'получение образования'`.\n",
    "\n",
    "**Например, если в столбце `purpose` находится подстрока `'на покупку автомобиля'`, то в столбце `purpose_category` должна появиться строка `'операции с автомобилем'`.**\n",
    "\n",
    "**Используйте собственную функцию с именем `categorize_purpose()` и метод `apply()`. Изучите данные в столбце `purpose` и определите, какие подстроки помогут вам правильно определить категорию.**"
   ]
  },
  {
   "cell_type": "code",
   "execution_count": 20,
   "id": "e149fab4",
   "metadata": {
    "deletable": false,
    "id": "e149fab4"
   },
   "outputs": [],
   "source": [
    "def categorize_purpose(row):\n",
    "    try:\n",
    "        if 'автом' in row:\n",
    "            return 'операции с автомобилем'\n",
    "        elif 'жил' in row or 'недвиж' in row:\n",
    "            return 'операции с недвижимостью'\n",
    "        elif 'свад' in row:\n",
    "            return 'проведение свадьбы'\n",
    "        elif 'образов' in row:\n",
    "            return 'получение образования'\n",
    "    except:\n",
    "        return 'нет категории'"
   ]
  },
  {
   "cell_type": "code",
   "execution_count": 21,
   "id": "bf36e69b",
   "metadata": {
    "deletable": false,
    "id": "bf36e69b"
   },
   "outputs": [],
   "source": [
    "data['purpose_category'] = data['purpose'].apply(categorize_purpose)"
   ]
  },
  {
   "cell_type": "markdown",
   "id": "09b242bf",
   "metadata": {
    "deletable": false,
    "editable": false,
    "id": "09b242bf"
   },
   "source": [
    "## Исследуйте данные и ответьте на вопросы"
   ]
  },
  {
   "cell_type": "markdown",
   "id": "c5d66278",
   "metadata": {
    "deletable": false,
    "editable": false,
    "id": "c5d66278"
   },
   "source": [
    "**Задание 19. Есть ли зависимость между количеством детей и возвратом кредита в срок?**"
   ]
  },
  {
   "cell_type": "code",
   "execution_count": 22,
   "id": "2cacfc4a",
   "metadata": {
    "id": "2cacfc4a"
   },
   "outputs": [
    {
     "data": {
      "text/html": [
       "<div>\n",
       "<style scoped>\n",
       "    .dataframe tbody tr th:only-of-type {\n",
       "        vertical-align: middle;\n",
       "    }\n",
       "\n",
       "    .dataframe tbody tr th {\n",
       "        vertical-align: top;\n",
       "    }\n",
       "\n",
       "    .dataframe thead tr th {\n",
       "        text-align: left;\n",
       "    }\n",
       "\n",
       "    .dataframe thead tr:last-of-type th {\n",
       "        text-align: right;\n",
       "    }\n",
       "</style>\n",
       "<table border=\"1\" class=\"dataframe\">\n",
       "  <thead>\n",
       "    <tr>\n",
       "      <th></th>\n",
       "      <th>count</th>\n",
       "      <th>mean</th>\n",
       "      <th>debt%</th>\n",
       "    </tr>\n",
       "    <tr>\n",
       "      <th></th>\n",
       "      <th>debt</th>\n",
       "      <th>debt</th>\n",
       "      <th></th>\n",
       "    </tr>\n",
       "    <tr>\n",
       "      <th>children</th>\n",
       "      <th></th>\n",
       "      <th></th>\n",
       "      <th></th>\n",
       "    </tr>\n",
       "  </thead>\n",
       "  <tbody>\n",
       "    <tr>\n",
       "      <th>4</th>\n",
       "      <td>41</td>\n",
       "      <td>0.097561</td>\n",
       "      <td>9.756098</td>\n",
       "    </tr>\n",
       "    <tr>\n",
       "      <th>2</th>\n",
       "      <td>2052</td>\n",
       "      <td>0.094542</td>\n",
       "      <td>9.454191</td>\n",
       "    </tr>\n",
       "    <tr>\n",
       "      <th>1</th>\n",
       "      <td>4809</td>\n",
       "      <td>0.092327</td>\n",
       "      <td>9.232689</td>\n",
       "    </tr>\n",
       "    <tr>\n",
       "      <th>3</th>\n",
       "      <td>330</td>\n",
       "      <td>0.081818</td>\n",
       "      <td>8.181818</td>\n",
       "    </tr>\n",
       "    <tr>\n",
       "      <th>0</th>\n",
       "      <td>14107</td>\n",
       "      <td>0.075353</td>\n",
       "      <td>7.535266</td>\n",
       "    </tr>\n",
       "    <tr>\n",
       "      <th>5</th>\n",
       "      <td>9</td>\n",
       "      <td>0.000000</td>\n",
       "      <td>0.000000</td>\n",
       "    </tr>\n",
       "  </tbody>\n",
       "</table>\n",
       "</div>"
      ],
      "text/plain": [
       "          count      mean     debt%\n",
       "           debt      debt          \n",
       "children                           \n",
       "4            41  0.097561  9.756098\n",
       "2          2052  0.094542  9.454191\n",
       "1          4809  0.092327  9.232689\n",
       "3           330  0.081818  8.181818\n",
       "0         14107  0.075353  7.535266\n",
       "5             9  0.000000  0.000000"
      ]
     },
     "metadata": {},
     "output_type": "display_data"
    }
   ],
   "source": [
    "df_children = data.pivot_table(index ='children',values = 'debt',aggfunc = ['count','mean'])\n",
    "\n",
    "df_children['debt%'] = df_children['mean']['debt']*100\n",
    "df_children = df_children.sort_values(by='debt%',ascending = False)\n",
    "display(df_children)\n",
    "\n",
    "#Столбец `debt` показывает имел ли клиент задолженность по возврату кредитов.\n",
    "\n",
    "#Создадим сводную таблицу, чтобы увидеть есть ли зависимость среднего значения должников от количества детей"
   ]
  },
  {
   "cell_type": "markdown",
   "id": "81a85843",
   "metadata": {},
   "source": [
    "<div class=\"alert alert-danger\">\n",
    "<h2> Комментарий ревьюера ❌ <a class=\"tocSkip\"> </h2>\n",
    "\n",
    "Здесь ты посчитал абсолютные значения, однако они не в полной мере отражают характеристики этих групп. Возможно, что общее кол-во людей с детьми намного больше людей без детей, поэтому и число задолжников больше. Сразу и не скажешь. Тебе необходимо посчитать относительные показатели, т.е какой процент людей с детьми невозращают кредит относительно общего кол-ва людей этой группы (комментарий общий, относится ко всему 3 разделу). Поэтому я предлагаю выполнить следующее:\n",
    "    \n",
    "- построй сводные таблицы по созданным столбцам и посчитай в них средние значения по столбцу `debt`. Это тоже самое что и поделить кол-во должников (операция sum) на общее кол-во клиентов (count). Этот показатель как раз и будет демонстрировать процент должников этих групп. Для этого удобно воспользоваться методом [pivot_table](https://pandas.pydata.org/pandas-docs/stable/reference/api/pandas.pivot_table.html)\n",
    "\n",
    "</div>"
   ]
  },
  {
   "cell_type": "markdown",
   "id": "09bb8ab6",
   "metadata": {},
   "source": [
    "<div style=\"border:solid blue 2px; padding: 20px\"> \n",
    "<font color='blue'>Так, построил сводную таблицу,где показал общее кол-во клиентов используя метод count, а также среднее значений должников и среднее значение должников в процентах.</font>\n",
    "\n",
    "\n",
    "<font color='blue'>Судя по всему зависимости практически не существует, очень маленький разброс по процентам. Или же всё-таки он тоже считается и это можно назвать зависимостью? И еще, не пойму вот только до конца с 5-ю детьми, нулевой процент вышел из-за того что кол-во данных просто не такое обширное, как могло бы быть?</font>\n",
    "\n",
    "<font color='blue'>Ещё изменил вывод и тоже вопрос,нужно ли там что-то указывать по поводу этих самых 0% должников с 5-ю детьми?</font>\n",
    "\n"
   ]
  },
  {
   "cell_type": "markdown",
   "id": "7246db0e",
   "metadata": {},
   "source": [
    "<div class=\"alert alert-success\">\n",
    "<h2> Комментарий ревьюера v2 ✔️ <a class=\"tocSkip\"> </h2>\n",
    "\n",
    "А вот как можно было сократить решение. Обрати внимание на [style](https://pandas.pydata.org/pandas-docs/stable/user_guide/style.html) библиотеки `pandas`. Там много прикольных штук для того, чтобы сделать датафрейм красивее 😊"
   ]
  },
  {
   "cell_type": "code",
   "execution_count": 23,
   "id": "de0804e9",
   "metadata": {},
   "outputs": [
    {
     "data": {
      "text/html": [
       "<style type=\"text/css\">\n",
       "</style>\n",
       "<table id=\"T_4c982\">\n",
       "  <thead>\n",
       "    <tr>\n",
       "      <th class=\"blank level0\" >&nbsp;</th>\n",
       "      <th id=\"T_4c982_level0_col0\" class=\"col_heading level0 col0\" >Кол-во пользователей</th>\n",
       "      <th id=\"T_4c982_level0_col1\" class=\"col_heading level0 col1\" >Кол-во должников</th>\n",
       "      <th id=\"T_4c982_level0_col2\" class=\"col_heading level0 col2\" >% должников</th>\n",
       "      <th id=\"T_4c982_level0_col3\" class=\"col_heading level0 col3\" >% НЕдолжников</th>\n",
       "    </tr>\n",
       "    <tr>\n",
       "      <th class=\"index_name level0\" >children_group</th>\n",
       "      <th class=\"blank col0\" >&nbsp;</th>\n",
       "      <th class=\"blank col1\" >&nbsp;</th>\n",
       "      <th class=\"blank col2\" >&nbsp;</th>\n",
       "      <th class=\"blank col3\" >&nbsp;</th>\n",
       "    </tr>\n",
       "  </thead>\n",
       "  <tbody>\n",
       "    <tr>\n",
       "      <th id=\"T_4c982_level0_row0\" class=\"row_heading level0 row0\" >Дети есть</th>\n",
       "      <td id=\"T_4c982_row0_col0\" class=\"data row0 col0\" >7241</td>\n",
       "      <td id=\"T_4c982_row0_col1\" class=\"data row0 col1\" >669</td>\n",
       "      <td id=\"T_4c982_row0_col2\" class=\"data row0 col2\" >9.24%</td>\n",
       "      <td id=\"T_4c982_row0_col3\" class=\"data row0 col3\" >90.76%</td>\n",
       "    </tr>\n",
       "    <tr>\n",
       "      <th id=\"T_4c982_level0_row1\" class=\"row_heading level0 row1\" >Нет детей</th>\n",
       "      <td id=\"T_4c982_row1_col0\" class=\"data row1 col0\" >14107</td>\n",
       "      <td id=\"T_4c982_row1_col1\" class=\"data row1 col1\" >1063</td>\n",
       "      <td id=\"T_4c982_row1_col2\" class=\"data row1 col2\" >7.54%</td>\n",
       "      <td id=\"T_4c982_row1_col3\" class=\"data row1 col3\" >92.46%</td>\n",
       "    </tr>\n",
       "  </tbody>\n",
       "</table>\n"
      ],
      "text/plain": [
       "<pandas.io.formats.style.Styler at 0x2148d680af0>"
      ]
     },
     "execution_count": 23,
     "metadata": {},
     "output_type": "execute_result"
    }
   ],
   "source": [
    "data['children_group'] = data['children'].apply(lambda x: 'Нет детей' if x == 0 else 'Дети есть')\n",
    "\n",
    "df_example = data.pivot_table(index = 'children_group', values = 'debt', \n",
    "                            aggfunc = ['count', 'sum', 'mean', lambda x: 1 - x.mean()])\n",
    "df_example.columns = ['Кол-во пользователей', 'Кол-во должников', '% должников', '% НЕдолжников']\n",
    "df_example.style.format({'% должников': '{:.2%}', '% НЕдолжников': '{:.2%}'})"
   ]
  },
  {
   "cell_type": "markdown",
   "id": "3a6b99ec",
   "metadata": {
    "deletable": false,
    "id": "3a6b99ec"
   },
   "source": [
    "**Вывод:** \n",
    "Можно увидеть совсем небольшую зависимость так как процентные отношения должников к общему кол-ву клиентов практически одинаковый во всех подгруппах. Но основываясь на полученных средних значениях должников можно сказать, что самыми потенциально опасными клиентами являются клиент с 4-мя детьми"
   ]
  },
  {
   "cell_type": "markdown",
   "id": "65a99a10",
   "metadata": {},
   "source": [
    "<div class=\"alert alert-danger\">\n",
    "<h2> Комментарий ревьюера ❌ <a class=\"tocSkip\"> </h2>\n",
    "\n",
    "И не забудь пересмотреть выводы"
   ]
  },
  {
   "cell_type": "markdown",
   "id": "97be82ca",
   "metadata": {
    "deletable": false,
    "editable": false,
    "id": "97be82ca"
   },
   "source": [
    "**Задание 20. Есть ли зависимость между семейным положением и возвратом кредита в срок?**"
   ]
  },
  {
   "cell_type": "code",
   "execution_count": 24,
   "id": "dc3f7ee8",
   "metadata": {
    "id": "dc3f7ee8"
   },
   "outputs": [
    {
     "data": {
      "text/html": [
       "<div>\n",
       "<style scoped>\n",
       "    .dataframe tbody tr th:only-of-type {\n",
       "        vertical-align: middle;\n",
       "    }\n",
       "\n",
       "    .dataframe tbody tr th {\n",
       "        vertical-align: top;\n",
       "    }\n",
       "\n",
       "    .dataframe thead tr th {\n",
       "        text-align: left;\n",
       "    }\n",
       "\n",
       "    .dataframe thead tr:last-of-type th {\n",
       "        text-align: right;\n",
       "    }\n",
       "</style>\n",
       "<table border=\"1\" class=\"dataframe\">\n",
       "  <thead>\n",
       "    <tr>\n",
       "      <th></th>\n",
       "      <th>count</th>\n",
       "      <th>mean</th>\n",
       "      <th>debt%</th>\n",
       "    </tr>\n",
       "    <tr>\n",
       "      <th></th>\n",
       "      <th>debt</th>\n",
       "      <th>debt</th>\n",
       "      <th></th>\n",
       "    </tr>\n",
       "    <tr>\n",
       "      <th>family_status</th>\n",
       "      <th></th>\n",
       "      <th></th>\n",
       "      <th></th>\n",
       "    </tr>\n",
       "  </thead>\n",
       "  <tbody>\n",
       "    <tr>\n",
       "      <th>Не женат / не замужем</th>\n",
       "      <td>2796</td>\n",
       "      <td>0.097639</td>\n",
       "      <td>9.763948</td>\n",
       "    </tr>\n",
       "    <tr>\n",
       "      <th>гражданский брак</th>\n",
       "      <td>4146</td>\n",
       "      <td>0.092861</td>\n",
       "      <td>9.286059</td>\n",
       "    </tr>\n",
       "    <tr>\n",
       "      <th>женат / замужем</th>\n",
       "      <td>12266</td>\n",
       "      <td>0.075575</td>\n",
       "      <td>7.557476</td>\n",
       "    </tr>\n",
       "    <tr>\n",
       "      <th>в разводе</th>\n",
       "      <td>1189</td>\n",
       "      <td>0.070648</td>\n",
       "      <td>7.064760</td>\n",
       "    </tr>\n",
       "    <tr>\n",
       "      <th>вдовец / вдова</th>\n",
       "      <td>951</td>\n",
       "      <td>0.066246</td>\n",
       "      <td>6.624606</td>\n",
       "    </tr>\n",
       "  </tbody>\n",
       "</table>\n",
       "</div>"
      ],
      "text/plain": [
       "                       count      mean     debt%\n",
       "                        debt      debt          \n",
       "family_status                                   \n",
       "Не женат / не замужем   2796  0.097639  9.763948\n",
       "гражданский брак        4146  0.092861  9.286059\n",
       "женат / замужем        12266  0.075575  7.557476\n",
       "в разводе               1189  0.070648  7.064760\n",
       "вдовец / вдова           951  0.066246  6.624606"
      ]
     },
     "metadata": {},
     "output_type": "display_data"
    }
   ],
   "source": [
    "df_fam_stat = data.pivot_table(index ='family_status',values = 'debt',aggfunc = ['count','mean'])\n",
    "\n",
    "df_fam_stat['debt%'] = df_fam_stat['mean']['debt']*100\n",
    "df_fam_stat = df_fam_stat.sort_values(by='debt%',ascending = False)\n",
    "display(df_fam_stat)\n",
    "\n",
    "\n",
    "\n",
    "#Столбец `family_status` показывает семейное положение клиента.\n",
    "\n",
    "#Создадим сводную таблицу, чтобы увидеть есть ли зависимость среднего значения должников от семейного положения\n"
   ]
  },
  {
   "cell_type": "markdown",
   "id": "26a68030",
   "metadata": {},
   "source": [
    "<div style=\"border:solid blue 2px; padding: 20px\"> \n",
    "<font color='blue'>Тут в целом аналогичный вопрос: Можно ли это назвать зависимостью, когда такие маленькие отклонения процентов друг от друга?) И если всё-таки это можно назвать зависимостью вдруг, то как лучше тогда писать вывод? Что-то вроде: Не женатые клиенты имеют наибольший процент должников?\n",
    "\n",
    "Сначала написал в выводе, что зависимости не существует, но позже изменил на фразу \"небольшая зависимость\", может так будет более корректно?\n",
    "    \n",
    "</font>"
   ]
  },
  {
   "cell_type": "markdown",
   "id": "2c7cfd34",
   "metadata": {},
   "source": [
    "<div class=\"alert alert-warning\">\n",
    "<h2> Комментарий ревьюера v2 ⚠️ <a class=\"tocSkip\"> </h2>\n",
    "\n",
    "На самом деле, 3% зачастую для бизнеса - это существенно много. Если на 3% лучше выбирать, кому выдавать кредит, а кому нет, финансовые показатели заметно станут лучше. Т.е очень редко у нас (аналитиков и датасайнтистов) идет борьба за десятки процентов какого-то показателя, обычно мы пытаемся улучшить что-то на какие-то доли. Поэтому я бы расписал даже такое небольшое различие, ведь наша цель - дать хоть какие-то рекомендации бизнесу, чтобы сделать его лучше"
   ]
  },
  {
   "cell_type": "markdown",
   "id": "1cef7837",
   "metadata": {
    "deletable": false,
    "id": "1cef7837"
   },
   "source": [
    "**Вывод:** \n",
    "Можно увидеть совсем небольшую зависимость так как процентные отношения должников к общему кол-ву клиентов практически одинаковый во всех подгруппах. Но самые потенциально опасные клиенты, которые не выплатят кредит в срок - не женаты/не замужем"
   ]
  },
  {
   "cell_type": "markdown",
   "id": "8e753d2f",
   "metadata": {},
   "source": [
    "<div style=\"border:solid purple 5px; padding: 20px\"> \n",
    "<h2 align=\"center\"> Рубрика «Питонячий лайфхакер» <a class=\"tocSkip\"> </h2>\n",
    "\n",
    "<h3> Широкоформатный Jupyter <a class=\"tocSkip\"> </h3>\n",
    "\n",
    "Расширяем границы, или как сделать работу более комфортной (не всем нравится 😄)\n",
    "\n",
    "    from IPython.core.display import display, HTML\n",
    "    display(HTML(\"<style>.container { width:90% !important; }</style>\"))"
   ]
  },
  {
   "cell_type": "markdown",
   "id": "3b35b7ee",
   "metadata": {},
   "source": [
    "<div style=\"border:solid blue 2px; padding: 20px\"> \n",
    "<font color='blue'>Очень классный совет, спасибо!)</font>"
   ]
  },
  {
   "cell_type": "markdown",
   "id": "d9c73a41",
   "metadata": {},
   "source": [
    "<div class=\"alert alert-success\">\n",
    "<h2> Комментарий ревьюера v2 ✔️ <a class=\"tocSkip\"> </h2>\n",
    "\n",
    "Тогда держи еще один)"
   ]
  },
  {
   "cell_type": "markdown",
   "id": "76e62a95",
   "metadata": {},
   "source": [
    "<div style=\"border:solid purple 5px; padding: 20px\"> \n",
    "<h2 align=\"center\"> Рубрика «Питонячий лайфхакер» <a class=\"tocSkip\"> </h2>\n",
    "\n",
    "<h3> Функция zip <a class=\"tocSkip\"> </h3>\n",
    "\n",
    "Функция zip создаёт итератор, который комбинирует элементы нескольких списков. Это позволяет осуществлять параллельный обход списков в циклах for или, например, выполнять параллельную сортировку.\n",
    "\n",
    "![](https://i.ibb.co/MPPZ6TL/image.png)"
   ]
  },
  {
   "cell_type": "markdown",
   "id": "1e8b2fca",
   "metadata": {
    "deletable": false,
    "editable": false,
    "id": "1e8b2fca"
   },
   "source": [
    "**Задание 21. Есть ли зависимость между уровнем дохода и возвратом кредита в срок?**"
   ]
  },
  {
   "cell_type": "code",
   "execution_count": 25,
   "id": "cd7e3720",
   "metadata": {
    "id": "cd7e3720"
   },
   "outputs": [
    {
     "data": {
      "text/html": [
       "<div>\n",
       "<style scoped>\n",
       "    .dataframe tbody tr th:only-of-type {\n",
       "        vertical-align: middle;\n",
       "    }\n",
       "\n",
       "    .dataframe tbody tr th {\n",
       "        vertical-align: top;\n",
       "    }\n",
       "\n",
       "    .dataframe thead tr th {\n",
       "        text-align: left;\n",
       "    }\n",
       "\n",
       "    .dataframe thead tr:last-of-type th {\n",
       "        text-align: right;\n",
       "    }\n",
       "</style>\n",
       "<table border=\"1\" class=\"dataframe\">\n",
       "  <thead>\n",
       "    <tr>\n",
       "      <th></th>\n",
       "      <th>count</th>\n",
       "      <th>mean</th>\n",
       "      <th>debt%</th>\n",
       "    </tr>\n",
       "    <tr>\n",
       "      <th></th>\n",
       "      <th>debt</th>\n",
       "      <th>debt</th>\n",
       "      <th></th>\n",
       "    </tr>\n",
       "    <tr>\n",
       "      <th>total_income_category</th>\n",
       "      <th></th>\n",
       "      <th></th>\n",
       "      <th></th>\n",
       "    </tr>\n",
       "  </thead>\n",
       "  <tbody>\n",
       "    <tr>\n",
       "      <th>E</th>\n",
       "      <td>22</td>\n",
       "      <td>0.090909</td>\n",
       "      <td>9.090909</td>\n",
       "    </tr>\n",
       "    <tr>\n",
       "      <th>C</th>\n",
       "      <td>15938</td>\n",
       "      <td>0.084891</td>\n",
       "      <td>8.489145</td>\n",
       "    </tr>\n",
       "    <tr>\n",
       "      <th>A</th>\n",
       "      <td>25</td>\n",
       "      <td>0.080000</td>\n",
       "      <td>8.000000</td>\n",
       "    </tr>\n",
       "    <tr>\n",
       "      <th>B</th>\n",
       "      <td>5014</td>\n",
       "      <td>0.070602</td>\n",
       "      <td>7.060231</td>\n",
       "    </tr>\n",
       "    <tr>\n",
       "      <th>D</th>\n",
       "      <td>349</td>\n",
       "      <td>0.060172</td>\n",
       "      <td>6.017192</td>\n",
       "    </tr>\n",
       "  </tbody>\n",
       "</table>\n",
       "</div>"
      ],
      "text/plain": [
       "                       count      mean     debt%\n",
       "                        debt      debt          \n",
       "total_income_category                           \n",
       "E                         22  0.090909  9.090909\n",
       "C                      15938  0.084891  8.489145\n",
       "A                         25  0.080000  8.000000\n",
       "B                       5014  0.070602  7.060231\n",
       "D                        349  0.060172  6.017192"
      ]
     },
     "metadata": {},
     "output_type": "display_data"
    }
   ],
   "source": [
    "df_total_income = data.pivot_table(index ='total_income_category',values = 'debt',aggfunc = ['count','mean'])\n",
    "\n",
    "df_total_income['debt%'] = df_total_income['mean']['debt']*100\n",
    "df_total_income = df_total_income.sort_values(by='debt%',ascending = False)\n",
    "display(df_total_income)\n",
    "#Столбец `total_income_category` показывает категорию заработка клиента, которыя была ранее описана выше.\n",
    "\n",
    "#Создадим сводную таблицу, чтобы увидеть есть ли зависимость среднего значения должников от категории заработка клиента\n"
   ]
  },
  {
   "cell_type": "markdown",
   "id": "91afad36",
   "metadata": {},
   "source": [
    "<div style=\"border:solid blue 2px; padding: 20px\"> \n",
    "<font color='blue'>Ещё вопросик) Нужно ли мне каждый раз создавать новый `df` для вывода `pivot_table`? Или же можно каждый раз перезаписывать один и тот же df, который например был создан первый раз в 19 пункте? Просто из-за создания нового `df` для отдельных категорий всё выглядит будто немного упорядоченнее\n",
    "\n",
    "</font>"
   ]
  },
  {
   "cell_type": "markdown",
   "id": "63d9fbde",
   "metadata": {},
   "source": [
    "<div class=\"alert alert-success\">\n",
    "<h2> Комментарий ревьюера v2 ✔️ <a class=\"tocSkip\"> </h2>\n",
    "\n",
    "Вообще, принято создавать каждый ращ новую переменную, перезаписывать существующую - плохая привычка, но больших проектах из-за этого могут вылезать ошибки"
   ]
  },
  {
   "cell_type": "markdown",
   "id": "e8593def",
   "metadata": {
    "deletable": false,
    "id": "e8593def"
   },
   "source": [
    "**Вывод:** \n",
    "Здесь также практически не наблюдается никакой зависимости из-за малых отклонений значений друг от друга. Но наиболее вероятно что клиенты с категорией заработка `D` вернут кредит в срок, относительно остальных клиентов"
   ]
  },
  {
   "cell_type": "markdown",
   "id": "99ecbd1f",
   "metadata": {
    "deletable": false,
    "editable": false,
    "id": "99ecbd1f"
   },
   "source": [
    "**Задание 22. Как разные цели кредита влияют на его возврат в срок?**"
   ]
  },
  {
   "cell_type": "code",
   "execution_count": 26,
   "id": "2b687290",
   "metadata": {
    "id": "2b687290"
   },
   "outputs": [
    {
     "data": {
      "text/html": [
       "<div>\n",
       "<style scoped>\n",
       "    .dataframe tbody tr th:only-of-type {\n",
       "        vertical-align: middle;\n",
       "    }\n",
       "\n",
       "    .dataframe tbody tr th {\n",
       "        vertical-align: top;\n",
       "    }\n",
       "\n",
       "    .dataframe thead tr th {\n",
       "        text-align: left;\n",
       "    }\n",
       "\n",
       "    .dataframe thead tr:last-of-type th {\n",
       "        text-align: right;\n",
       "    }\n",
       "</style>\n",
       "<table border=\"1\" class=\"dataframe\">\n",
       "  <thead>\n",
       "    <tr>\n",
       "      <th></th>\n",
       "      <th>count</th>\n",
       "      <th>mean</th>\n",
       "      <th>debt%</th>\n",
       "    </tr>\n",
       "    <tr>\n",
       "      <th></th>\n",
       "      <th>debt</th>\n",
       "      <th>debt</th>\n",
       "      <th></th>\n",
       "    </tr>\n",
       "    <tr>\n",
       "      <th>purpose_category</th>\n",
       "      <th></th>\n",
       "      <th></th>\n",
       "      <th></th>\n",
       "    </tr>\n",
       "  </thead>\n",
       "  <tbody>\n",
       "    <tr>\n",
       "      <th>операции с автомобилем</th>\n",
       "      <td>4281</td>\n",
       "      <td>0.093436</td>\n",
       "      <td>9.343611</td>\n",
       "    </tr>\n",
       "    <tr>\n",
       "      <th>получение образования</th>\n",
       "      <td>3989</td>\n",
       "      <td>0.092504</td>\n",
       "      <td>9.250439</td>\n",
       "    </tr>\n",
       "    <tr>\n",
       "      <th>проведение свадьбы</th>\n",
       "      <td>2324</td>\n",
       "      <td>0.078744</td>\n",
       "      <td>7.874355</td>\n",
       "    </tr>\n",
       "    <tr>\n",
       "      <th>операции с недвижимостью</th>\n",
       "      <td>10754</td>\n",
       "      <td>0.072531</td>\n",
       "      <td>7.253115</td>\n",
       "    </tr>\n",
       "  </tbody>\n",
       "</table>\n",
       "</div>"
      ],
      "text/plain": [
       "                          count      mean     debt%\n",
       "                           debt      debt          \n",
       "purpose_category                                   \n",
       "операции с автомобилем     4281  0.093436  9.343611\n",
       "получение образования      3989  0.092504  9.250439\n",
       "проведение свадьбы         2324  0.078744  7.874355\n",
       "операции с недвижимостью  10754  0.072531  7.253115"
      ]
     },
     "metadata": {},
     "output_type": "display_data"
    }
   ],
   "source": [
    "df_purpose = data.pivot_table(index ='purpose_category',values = 'debt',aggfunc = ['count','mean'])\n",
    "\n",
    "df_purpose['debt%'] = df_purpose['mean']['debt']*100\n",
    "df_purpose = df_purpose.sort_values(by='debt%',ascending = False)\n",
    "display(df_purpose)\n",
    "\n",
    "#Столбец `purpose_category` показывает цель кредита клиента.\n",
    "\n",
    "#Создадим сводную таблицу, чтобы увидеть есть ли зависимость среднего значения должников от цели кредита клиента"
   ]
  },
  {
   "cell_type": "markdown",
   "id": "b4bb2ce6",
   "metadata": {
    "deletable": false,
    "id": "b4bb2ce6"
   },
   "source": [
    "**Вывод:** \n",
    "В итоге можно увидеть, что клиенты, цель которых \"Операции с автомобилем\" и \"Получение образования\" вероятнее всего не выплатят кредит в срок"
   ]
  },
  {
   "cell_type": "markdown",
   "id": "09c3ac4c",
   "metadata": {
    "deletable": false,
    "editable": false,
    "id": "09c3ac4c"
   },
   "source": [
    "**Задание 23. Приведите возможные причины появления пропусков в исходных данных.**"
   ]
  },
  {
   "cell_type": "markdown",
   "id": "9da2ceda",
   "metadata": {
    "deletable": false,
    "id": "9da2ceda"
   },
   "source": [
    "*Ответ:* \n",
    " - Все мы люди, а у людей есть человеческий фактор, который иногда создаёт подобного рода ошибки\n",
    " - Технические ошибки, вызванные непосредственно машиной"
   ]
  },
  {
   "cell_type": "markdown",
   "id": "4522102c",
   "metadata": {},
   "source": [
    "<div class=\"alert alert-success\">\n",
    "<h2> Комментарий ревьюера ✔️ <a class=\"tocSkip\"> </h2>\n",
    "\n",
    "По первому пункту согласен, а по поводу второго, я бы не был так уверен, мы же аналитики, нужно полагаться на цифры"
   ]
  },
  {
   "cell_type": "markdown",
   "id": "7deb7334",
   "metadata": {},
   "source": [
    "<div style=\"border:solid blue 2px; padding: 20px\"> \n",
    "<font color='blue'>Добавил еще один подпункт. Может можно ещё что-либо добавить?</font>"
   ]
  },
  {
   "cell_type": "markdown",
   "id": "7b0487d6",
   "metadata": {
    "deletable": false,
    "editable": false,
    "id": "7b0487d6"
   },
   "source": [
    "**Задание 24. Объясните, почему заполнить пропуски медианным значением — лучшее решение для количественных переменных.**"
   ]
  },
  {
   "cell_type": "markdown",
   "id": "7ecf2b8e",
   "metadata": {
    "deletable": false,
    "id": "7ecf2b8e"
   },
   "source": [
    "*Ответ:* \n",
    "Это связано с тем, что у нас может быть ряд примерно схожих по порядку значений, но также в этом ряду могут присутствовать и несколько значений , которые на несколько порядков больше остальных, соответственно, если мы будем использовать среднее арифметическое значение, то получим нереалистичные завышенные результаты в сравнении с медианным значением"
   ]
  },
  {
   "cell_type": "markdown",
   "id": "7777d943",
   "metadata": {},
   "source": [
    "<div class=\"alert alert-success\">\n",
    "<h2> Комментарий ревьюера ✔️ <a class=\"tocSkip\"> </h2>\n",
    "\n",
    "Да, медиана устойчива к выбросам"
   ]
  },
  {
   "cell_type": "markdown",
   "id": "6db5255a",
   "metadata": {
    "deletable": false,
    "editable": false,
    "id": "6db5255a"
   },
   "source": [
    "## Общий вывод."
   ]
  },
  {
   "cell_type": "markdown",
   "id": "bad65432",
   "metadata": {
    "id": "bad65432"
   },
   "source": [
    "Были получены следующие зависимости между:\n",
    "- Количеством детей от возврата кредита в срок\n",
    "- Семейным положением от возврата кредита в срок\n",
    "- Уровнем дохода от возврата кредита в срок\n",
    "- Целей кредита от возврата кредита в срок\n",
    "\n",
    "Для того чтобы избежать рисков компании следует стараться с большей осторожностью выдавать кредит следующим типам людей:\n",
    " - Не женатым / не замужним\n",
    " - С маленьким уровнем заработка ('Категория E')\n",
    " - Имеющие детей\n",
    " - Цель кредита которых - Операции с автомобилем / Образованием"
   ]
  },
  {
   "cell_type": "markdown",
   "id": "67a9c1a3",
   "metadata": {},
   "source": [
    "<div class=\"alert alert-danger\">\n",
    "<h2> Комментарий ревьюера ❌ <a class=\"tocSkip\"> </h2>\n",
    "\n",
    "Старайся расписывать общий вывод более детально. Это лицо твоего продукта, аналитической деятельности, и от того, насколько хорошо и детально ты его распишешь, будут судить о тебе как о профессионале. Здесь нужно дать конкретные рекомендации для бизнеса, которые позволят стать ему лучше"
   ]
  },
  {
   "cell_type": "markdown",
   "id": "fa3b6cfe",
   "metadata": {},
   "source": [
    "<div style=\"border:solid blue 2px; padding: 20px\"> \n",
    "<font color='blue'>Постарался дать более конкретные рекомендации. Я бы мог дать их чуть более точно, если бы понимал вопросы выше о том, что можно считать всё-таки зависимостью</font>"
   ]
  },
  {
   "cell_type": "markdown",
   "id": "970429b3",
   "metadata": {},
   "source": [
    "<div class=\"alert alert-success\">\n",
    "<h2> Комментарий ревьюера v2 ✔️ <a class=\"tocSkip\"> </h2>\n",
    "\n",
    "В целом - неплохо, я бы тогда выделил еще группу, которым привлекательно выдавать кредит"
   ]
  },
  {
   "cell_type": "markdown",
   "id": "f4272564",
   "metadata": {},
   "source": [
    "<div class=\"alert alert-success\">\n",
    "<h2> Комментарий ревьюера v2 ✔️ <a class=\"tocSkip\"> </h2>\n",
    "\n",
    "Спасибо за быструю и качественную доработку комментариев! Все моменты были исправлены, так что работу я принимаю. Надеюсь ты учтешь мои комментарии в последующих работах. Благодарю за старания и интерес и желаю успехов в дальнейших проектах 😊\n",
    "\n",
    "</div>"
   ]
  },
  {
   "cell_type": "code",
   "execution_count": null,
   "id": "1f074860",
   "metadata": {},
   "outputs": [],
   "source": []
  }
 ],
 "metadata": {
  "ExecuteTimeLog": [
   {
    "duration": 485,
    "start_time": "2022-07-15T19:51:20.720Z"
   },
   {
    "duration": 77,
    "start_time": "2022-07-15T19:51:22.666Z"
   },
   {
    "duration": 67,
    "start_time": "2022-07-15T19:51:34.968Z"
   },
   {
    "duration": 25,
    "start_time": "2022-07-15T19:51:35.038Z"
   },
   {
    "duration": 15,
    "start_time": "2022-07-15T19:51:35.065Z"
   },
   {
    "duration": 8,
    "start_time": "2022-07-15T19:51:35.083Z"
   },
   {
    "duration": 57,
    "start_time": "2022-07-15T19:51:35.093Z"
   },
   {
    "duration": 4,
    "start_time": "2022-07-15T19:51:35.152Z"
   },
   {
    "duration": 12,
    "start_time": "2022-07-15T19:51:35.157Z"
   },
   {
    "duration": 8,
    "start_time": "2022-07-15T19:51:35.171Z"
   },
   {
    "duration": 13,
    "start_time": "2022-07-15T19:51:35.181Z"
   },
   {
    "duration": 4,
    "start_time": "2022-07-15T19:51:35.198Z"
   },
   {
    "duration": 58,
    "start_time": "2022-07-15T19:51:35.204Z"
   },
   {
    "duration": 9,
    "start_time": "2022-07-15T19:51:35.264Z"
   },
   {
    "duration": 4,
    "start_time": "2022-07-15T19:51:35.274Z"
   },
   {
    "duration": 22,
    "start_time": "2022-07-15T19:51:35.280Z"
   },
   {
    "duration": 19,
    "start_time": "2022-07-15T19:51:35.325Z"
   },
   {
    "duration": 11,
    "start_time": "2022-07-15T19:51:35.346Z"
   },
   {
    "duration": 5,
    "start_time": "2022-07-15T19:51:35.359Z"
   },
   {
    "duration": 11,
    "start_time": "2022-07-15T19:51:35.365Z"
   },
   {
    "duration": 6,
    "start_time": "2022-07-15T19:51:35.377Z"
   },
   {
    "duration": 4,
    "start_time": "2022-07-15T19:51:35.385Z"
   },
   {
    "duration": 10,
    "start_time": "2022-07-15T19:51:35.424Z"
   },
   {
    "duration": 8,
    "start_time": "2022-07-15T19:51:35.436Z"
   },
   {
    "duration": 8,
    "start_time": "2022-07-15T19:51:35.446Z"
   },
   {
    "duration": 5,
    "start_time": "2022-07-15T19:51:35.455Z"
   },
   {
    "duration": 6,
    "start_time": "2022-07-15T19:51:35.461Z"
   },
   {
    "duration": 28,
    "start_time": "2022-07-15T19:58:18.897Z"
   },
   {
    "duration": 82,
    "start_time": "2022-07-15T20:04:00.790Z"
   },
   {
    "duration": 448,
    "start_time": "2022-07-15T20:04:10.484Z"
   },
   {
    "duration": 23,
    "start_time": "2022-07-15T20:04:10.935Z"
   },
   {
    "duration": 18,
    "start_time": "2022-07-15T20:04:10.960Z"
   },
   {
    "duration": 10,
    "start_time": "2022-07-15T20:04:10.980Z"
   },
   {
    "duration": 64,
    "start_time": "2022-07-15T20:04:10.991Z"
   },
   {
    "duration": 3,
    "start_time": "2022-07-15T20:04:11.056Z"
   },
   {
    "duration": 11,
    "start_time": "2022-07-15T20:04:11.061Z"
   },
   {
    "duration": 4,
    "start_time": "2022-07-15T20:04:11.073Z"
   },
   {
    "duration": 9,
    "start_time": "2022-07-15T20:04:11.079Z"
   },
   {
    "duration": 5,
    "start_time": "2022-07-15T20:04:11.093Z"
   },
   {
    "duration": 35,
    "start_time": "2022-07-15T20:04:11.122Z"
   },
   {
    "duration": 12,
    "start_time": "2022-07-15T20:04:11.158Z"
   },
   {
    "duration": 10,
    "start_time": "2022-07-15T20:04:11.172Z"
   },
   {
    "duration": 20,
    "start_time": "2022-07-15T20:04:11.184Z"
   },
   {
    "duration": 32,
    "start_time": "2022-07-15T20:04:11.205Z"
   },
   {
    "duration": 11,
    "start_time": "2022-07-15T20:04:11.239Z"
   },
   {
    "duration": 5,
    "start_time": "2022-07-15T20:04:11.252Z"
   },
   {
    "duration": 12,
    "start_time": "2022-07-15T20:04:11.259Z"
   },
   {
    "duration": 6,
    "start_time": "2022-07-15T20:04:11.273Z"
   },
   {
    "duration": 3,
    "start_time": "2022-07-15T20:04:11.280Z"
   },
   {
    "duration": 44,
    "start_time": "2022-07-15T20:04:11.285Z"
   },
   {
    "duration": 31,
    "start_time": "2022-07-15T20:04:11.331Z"
   },
   {
    "duration": 2,
    "start_time": "2022-07-15T20:04:11.363Z"
   },
   {
    "duration": 6,
    "start_time": "2022-07-15T20:04:11.366Z"
   },
   {
    "duration": 5,
    "start_time": "2022-07-15T20:04:11.373Z"
   },
   {
    "duration": 12,
    "start_time": "2022-07-15T20:04:30.066Z"
   },
   {
    "duration": 14,
    "start_time": "2022-07-15T20:04:34.813Z"
   },
   {
    "duration": 12,
    "start_time": "2022-07-15T20:04:41.860Z"
   },
   {
    "duration": 5,
    "start_time": "2022-07-15T20:06:31.001Z"
   },
   {
    "duration": 4,
    "start_time": "2022-07-15T20:06:35.762Z"
   },
   {
    "duration": 4,
    "start_time": "2022-07-15T20:06:42.117Z"
   },
   {
    "duration": 29,
    "start_time": "2022-07-15T20:06:48.424Z"
   },
   {
    "duration": 7,
    "start_time": "2022-07-15T20:08:39.950Z"
   },
   {
    "duration": 6,
    "start_time": "2022-07-15T20:08:51.386Z"
   },
   {
    "duration": 6,
    "start_time": "2022-07-15T20:09:09.519Z"
   },
   {
    "duration": 6,
    "start_time": "2022-07-15T20:09:19.234Z"
   },
   {
    "duration": 20,
    "start_time": "2022-07-15T20:09:21.807Z"
   },
   {
    "duration": 15,
    "start_time": "2022-07-15T20:09:54.617Z"
   },
   {
    "duration": 14,
    "start_time": "2022-07-15T20:09:57.948Z"
   },
   {
    "duration": 22,
    "start_time": "2022-07-15T20:10:01.007Z"
   },
   {
    "duration": 7,
    "start_time": "2022-07-15T20:10:12.131Z"
   },
   {
    "duration": 3,
    "start_time": "2022-07-15T20:11:29.285Z"
   },
   {
    "duration": 12,
    "start_time": "2022-07-15T20:11:38.606Z"
   },
   {
    "duration": 11,
    "start_time": "2022-07-15T20:11:43.114Z"
   },
   {
    "duration": 71,
    "start_time": "2022-07-15T20:11:48.606Z"
   },
   {
    "duration": 15,
    "start_time": "2022-07-15T20:11:48.679Z"
   },
   {
    "duration": 15,
    "start_time": "2022-07-15T20:11:48.695Z"
   },
   {
    "duration": 16,
    "start_time": "2022-07-15T20:11:48.712Z"
   },
   {
    "duration": 47,
    "start_time": "2022-07-15T20:11:48.730Z"
   },
   {
    "duration": 4,
    "start_time": "2022-07-15T20:11:48.778Z"
   },
   {
    "duration": 18,
    "start_time": "2022-07-15T20:11:48.783Z"
   },
   {
    "duration": 4,
    "start_time": "2022-07-15T20:11:48.803Z"
   },
   {
    "duration": 9,
    "start_time": "2022-07-15T20:11:48.808Z"
   },
   {
    "duration": 7,
    "start_time": "2022-07-15T20:11:48.819Z"
   },
   {
    "duration": 40,
    "start_time": "2022-07-15T20:11:48.827Z"
   },
   {
    "duration": 11,
    "start_time": "2022-07-15T20:11:48.869Z"
   },
   {
    "duration": 6,
    "start_time": "2022-07-15T20:11:48.883Z"
   },
   {
    "duration": 42,
    "start_time": "2022-07-15T20:11:48.891Z"
   },
   {
    "duration": 31,
    "start_time": "2022-07-15T20:11:48.935Z"
   },
   {
    "duration": 17,
    "start_time": "2022-07-15T20:11:48.968Z"
   },
   {
    "duration": 7,
    "start_time": "2022-07-15T20:11:48.987Z"
   },
   {
    "duration": 19,
    "start_time": "2022-07-15T20:11:48.996Z"
   },
   {
    "duration": 8,
    "start_time": "2022-07-15T20:11:49.018Z"
   },
   {
    "duration": 6,
    "start_time": "2022-07-15T20:11:49.028Z"
   },
   {
    "duration": 14,
    "start_time": "2022-07-15T20:11:49.036Z"
   },
   {
    "duration": 25,
    "start_time": "2022-07-15T20:11:49.053Z"
   },
   {
    "duration": 8,
    "start_time": "2022-07-15T20:11:49.080Z"
   },
   {
    "duration": 10,
    "start_time": "2022-07-15T20:11:49.090Z"
   },
   {
    "duration": 21,
    "start_time": "2022-07-15T20:11:49.102Z"
   },
   {
    "duration": 3,
    "start_time": "2022-07-15T20:12:00.726Z"
   },
   {
    "duration": 18,
    "start_time": "2022-07-15T20:12:02.906Z"
   },
   {
    "duration": 15,
    "start_time": "2022-07-15T20:12:18.938Z"
   },
   {
    "duration": 12,
    "start_time": "2022-07-15T20:12:43.819Z"
   },
   {
    "duration": 13,
    "start_time": "2022-07-15T20:12:49.247Z"
   },
   {
    "duration": 27,
    "start_time": "2022-07-15T20:12:53.616Z"
   },
   {
    "duration": 16,
    "start_time": "2022-07-15T20:13:13.443Z"
   },
   {
    "duration": 14,
    "start_time": "2022-07-15T20:13:15.514Z"
   },
   {
    "duration": 19,
    "start_time": "2022-07-15T20:13:17.978Z"
   },
   {
    "duration": 510,
    "start_time": "2022-07-15T20:13:23.320Z"
   },
   {
    "duration": 24,
    "start_time": "2022-07-15T20:13:23.832Z"
   },
   {
    "duration": 16,
    "start_time": "2022-07-15T20:13:23.858Z"
   },
   {
    "duration": 9,
    "start_time": "2022-07-15T20:13:23.876Z"
   },
   {
    "duration": 61,
    "start_time": "2022-07-15T20:13:23.887Z"
   },
   {
    "duration": 4,
    "start_time": "2022-07-15T20:13:23.949Z"
   },
   {
    "duration": 11,
    "start_time": "2022-07-15T20:13:23.954Z"
   },
   {
    "duration": 5,
    "start_time": "2022-07-15T20:13:23.967Z"
   },
   {
    "duration": 12,
    "start_time": "2022-07-15T20:13:23.973Z"
   },
   {
    "duration": 5,
    "start_time": "2022-07-15T20:13:23.990Z"
   },
   {
    "duration": 34,
    "start_time": "2022-07-15T20:13:24.023Z"
   },
   {
    "duration": 10,
    "start_time": "2022-07-15T20:13:24.058Z"
   },
   {
    "duration": 5,
    "start_time": "2022-07-15T20:13:24.069Z"
   },
   {
    "duration": 26,
    "start_time": "2022-07-15T20:13:24.075Z"
   },
   {
    "duration": 33,
    "start_time": "2022-07-15T20:13:24.102Z"
   },
   {
    "duration": 11,
    "start_time": "2022-07-15T20:13:24.137Z"
   },
   {
    "duration": 6,
    "start_time": "2022-07-15T20:13:24.151Z"
   },
   {
    "duration": 13,
    "start_time": "2022-07-15T20:13:24.159Z"
   },
   {
    "duration": 14,
    "start_time": "2022-07-15T20:13:24.174Z"
   },
   {
    "duration": 6,
    "start_time": "2022-07-15T20:13:24.191Z"
   },
   {
    "duration": 37,
    "start_time": "2022-07-15T20:13:24.199Z"
   },
   {
    "duration": 21,
    "start_time": "2022-07-15T20:13:24.237Z"
   },
   {
    "duration": 3,
    "start_time": "2022-07-15T20:13:24.260Z"
   },
   {
    "duration": 7,
    "start_time": "2022-07-15T20:13:24.265Z"
   },
   {
    "duration": 12,
    "start_time": "2022-07-15T20:13:24.274Z"
   },
   {
    "duration": 7,
    "start_time": "2022-07-15T20:13:39.366Z"
   },
   {
    "duration": 22,
    "start_time": "2022-07-15T20:13:49.629Z"
   },
   {
    "duration": 8,
    "start_time": "2022-07-15T20:13:56.499Z"
   },
   {
    "duration": 7,
    "start_time": "2022-07-15T20:19:36.971Z"
   },
   {
    "duration": 34,
    "start_time": "2022-07-15T20:19:47.419Z"
   },
   {
    "duration": 6,
    "start_time": "2022-07-15T20:25:00.699Z"
   },
   {
    "duration": 7,
    "start_time": "2022-07-15T20:25:16.251Z"
   },
   {
    "duration": 7,
    "start_time": "2022-07-15T20:25:20.673Z"
   },
   {
    "duration": 23,
    "start_time": "2022-07-15T20:25:25.095Z"
   },
   {
    "duration": 40,
    "start_time": "2022-07-15T20:25:39.176Z"
   },
   {
    "duration": 30,
    "start_time": "2022-07-15T20:26:06.871Z"
   },
   {
    "duration": 10,
    "start_time": "2022-07-15T20:26:19.476Z"
   },
   {
    "duration": 15,
    "start_time": "2022-07-15T20:27:13.233Z"
   },
   {
    "duration": 26,
    "start_time": "2022-07-15T20:27:16.799Z"
   },
   {
    "duration": 32,
    "start_time": "2022-07-15T20:27:30.514Z"
   },
   {
    "duration": 8,
    "start_time": "2022-07-15T20:27:46.070Z"
   },
   {
    "duration": 8,
    "start_time": "2022-07-15T20:27:48.986Z"
   },
   {
    "duration": 527,
    "start_time": "2022-07-15T20:27:58.180Z"
   },
   {
    "duration": 37,
    "start_time": "2022-07-15T20:27:58.710Z"
   },
   {
    "duration": 30,
    "start_time": "2022-07-15T20:27:58.749Z"
   },
   {
    "duration": 15,
    "start_time": "2022-07-15T20:27:58.781Z"
   },
   {
    "duration": 49,
    "start_time": "2022-07-15T20:27:58.798Z"
   },
   {
    "duration": 4,
    "start_time": "2022-07-15T20:27:58.849Z"
   },
   {
    "duration": 22,
    "start_time": "2022-07-15T20:27:58.855Z"
   },
   {
    "duration": 16,
    "start_time": "2022-07-15T20:27:58.879Z"
   },
   {
    "duration": 16,
    "start_time": "2022-07-15T20:27:58.897Z"
   },
   {
    "duration": 14,
    "start_time": "2022-07-15T20:27:58.915Z"
   },
   {
    "duration": 62,
    "start_time": "2022-07-15T20:27:58.935Z"
   },
   {
    "duration": 12,
    "start_time": "2022-07-15T20:27:58.999Z"
   },
   {
    "duration": 12,
    "start_time": "2022-07-15T20:27:59.014Z"
   },
   {
    "duration": 55,
    "start_time": "2022-07-15T20:27:59.031Z"
   },
   {
    "duration": 18,
    "start_time": "2022-07-15T20:27:59.089Z"
   },
   {
    "duration": 31,
    "start_time": "2022-07-15T20:27:59.109Z"
   },
   {
    "duration": 20,
    "start_time": "2022-07-15T20:27:59.142Z"
   },
   {
    "duration": 15,
    "start_time": "2022-07-15T20:27:59.165Z"
   },
   {
    "duration": 13,
    "start_time": "2022-07-15T20:27:59.183Z"
   },
   {
    "duration": 9,
    "start_time": "2022-07-15T20:27:59.198Z"
   },
   {
    "duration": 40,
    "start_time": "2022-07-15T20:27:59.209Z"
   },
   {
    "duration": 25,
    "start_time": "2022-07-15T20:27:59.252Z"
   },
   {
    "duration": 84,
    "start_time": "2022-07-15T20:27:59.279Z"
   },
   {
    "duration": 0,
    "start_time": "2022-07-15T20:27:59.365Z"
   },
   {
    "duration": 0,
    "start_time": "2022-07-15T20:27:59.366Z"
   },
   {
    "duration": 10,
    "start_time": "2022-07-15T20:28:09.072Z"
   },
   {
    "duration": 8,
    "start_time": "2022-07-15T20:33:23.407Z"
   },
   {
    "duration": 36,
    "start_time": "2022-07-15T20:33:29.529Z"
   },
   {
    "duration": 30,
    "start_time": "2022-07-15T20:37:45.335Z"
   },
   {
    "duration": 29,
    "start_time": "2022-07-15T20:37:50.617Z"
   },
   {
    "duration": 26,
    "start_time": "2022-07-15T20:37:56.124Z"
   },
   {
    "duration": 10,
    "start_time": "2022-07-15T20:38:35.037Z"
   },
   {
    "duration": 15,
    "start_time": "2022-07-15T20:41:35.823Z"
   },
   {
    "duration": 10,
    "start_time": "2022-07-15T20:41:48.594Z"
   },
   {
    "duration": 20,
    "start_time": "2022-07-15T20:41:55.548Z"
   },
   {
    "duration": 18,
    "start_time": "2022-07-15T20:42:21.700Z"
   },
   {
    "duration": 477,
    "start_time": "2022-07-15T20:45:54.303Z"
   },
   {
    "duration": 24,
    "start_time": "2022-07-15T20:45:54.782Z"
   },
   {
    "duration": 23,
    "start_time": "2022-07-15T20:45:54.808Z"
   },
   {
    "duration": 10,
    "start_time": "2022-07-15T20:45:54.833Z"
   },
   {
    "duration": 44,
    "start_time": "2022-07-15T20:45:54.845Z"
   },
   {
    "duration": 4,
    "start_time": "2022-07-15T20:45:54.891Z"
   },
   {
    "duration": 41,
    "start_time": "2022-07-15T20:45:54.897Z"
   },
   {
    "duration": 10,
    "start_time": "2022-07-15T20:45:54.941Z"
   },
   {
    "duration": 14,
    "start_time": "2022-07-15T20:45:54.953Z"
   },
   {
    "duration": 5,
    "start_time": "2022-07-15T20:45:54.970Z"
   },
   {
    "duration": 69,
    "start_time": "2022-07-15T20:45:54.977Z"
   },
   {
    "duration": 14,
    "start_time": "2022-07-15T20:45:55.048Z"
   },
   {
    "duration": 5,
    "start_time": "2022-07-15T20:45:55.064Z"
   },
   {
    "duration": 24,
    "start_time": "2022-07-15T20:45:55.070Z"
   },
   {
    "duration": 42,
    "start_time": "2022-07-15T20:45:55.096Z"
   },
   {
    "duration": 12,
    "start_time": "2022-07-15T20:45:55.140Z"
   },
   {
    "duration": 11,
    "start_time": "2022-07-15T20:45:55.155Z"
   },
   {
    "duration": 22,
    "start_time": "2022-07-15T20:45:55.169Z"
   },
   {
    "duration": 18,
    "start_time": "2022-07-15T20:45:55.193Z"
   },
   {
    "duration": 9,
    "start_time": "2022-07-15T20:45:55.222Z"
   },
   {
    "duration": 20,
    "start_time": "2022-07-15T20:45:55.233Z"
   },
   {
    "duration": 20,
    "start_time": "2022-07-15T20:45:55.255Z"
   },
   {
    "duration": 13,
    "start_time": "2022-07-15T20:45:55.277Z"
   },
   {
    "duration": 11,
    "start_time": "2022-07-15T20:45:55.292Z"
   },
   {
    "duration": 48,
    "start_time": "2022-07-15T20:45:55.306Z"
   },
   {
    "duration": 71,
    "start_time": "2022-07-15T20:47:17.588Z"
   },
   {
    "duration": 15,
    "start_time": "2022-07-15T20:47:17.660Z"
   },
   {
    "duration": 16,
    "start_time": "2022-07-15T20:47:17.677Z"
   },
   {
    "duration": 32,
    "start_time": "2022-07-15T20:47:17.696Z"
   },
   {
    "duration": 49,
    "start_time": "2022-07-15T20:47:17.730Z"
   },
   {
    "duration": 4,
    "start_time": "2022-07-15T20:47:17.781Z"
   },
   {
    "duration": 14,
    "start_time": "2022-07-15T20:47:17.787Z"
   },
   {
    "duration": 5,
    "start_time": "2022-07-15T20:47:17.823Z"
   },
   {
    "duration": 11,
    "start_time": "2022-07-15T20:47:17.830Z"
   },
   {
    "duration": 7,
    "start_time": "2022-07-15T20:47:17.844Z"
   },
   {
    "duration": 32,
    "start_time": "2022-07-15T20:47:17.852Z"
   },
   {
    "duration": 10,
    "start_time": "2022-07-15T20:47:17.885Z"
   },
   {
    "duration": 5,
    "start_time": "2022-07-15T20:47:17.924Z"
   },
   {
    "duration": 27,
    "start_time": "2022-07-15T20:47:17.931Z"
   },
   {
    "duration": 16,
    "start_time": "2022-07-15T20:47:17.959Z"
   },
   {
    "duration": 11,
    "start_time": "2022-07-15T20:47:17.976Z"
   },
   {
    "duration": 11,
    "start_time": "2022-07-15T20:47:17.989Z"
   },
   {
    "duration": 38,
    "start_time": "2022-07-15T20:47:18.002Z"
   },
   {
    "duration": 7,
    "start_time": "2022-07-15T20:47:18.042Z"
   },
   {
    "duration": 5,
    "start_time": "2022-07-15T20:47:18.051Z"
   },
   {
    "duration": 12,
    "start_time": "2022-07-15T20:47:18.057Z"
   },
   {
    "duration": 10,
    "start_time": "2022-07-15T20:47:18.071Z"
   },
   {
    "duration": 9,
    "start_time": "2022-07-15T20:47:18.083Z"
   },
   {
    "duration": 39,
    "start_time": "2022-07-15T20:47:18.095Z"
   },
   {
    "duration": 26,
    "start_time": "2022-07-15T20:47:18.136Z"
   },
   {
    "duration": 7,
    "start_time": "2022-07-15T20:49:28.796Z"
   },
   {
    "duration": 8,
    "start_time": "2022-07-15T20:50:50.714Z"
   },
   {
    "duration": 12,
    "start_time": "2022-07-15T20:51:04.041Z"
   },
   {
    "duration": 12,
    "start_time": "2022-07-15T20:51:07.803Z"
   },
   {
    "duration": 21,
    "start_time": "2022-07-15T20:53:55.163Z"
   },
   {
    "duration": 16,
    "start_time": "2022-07-15T20:53:57.692Z"
   },
   {
    "duration": 22,
    "start_time": "2022-07-15T20:54:01.997Z"
   },
   {
    "duration": 452,
    "start_time": "2022-07-15T20:54:19.055Z"
   },
   {
    "duration": 28,
    "start_time": "2022-07-15T20:54:19.509Z"
   },
   {
    "duration": 22,
    "start_time": "2022-07-15T20:54:19.539Z"
   },
   {
    "duration": 17,
    "start_time": "2022-07-15T20:54:19.564Z"
   },
   {
    "duration": 70,
    "start_time": "2022-07-15T20:54:19.583Z"
   },
   {
    "duration": 4,
    "start_time": "2022-07-15T20:54:19.655Z"
   },
   {
    "duration": 12,
    "start_time": "2022-07-15T20:54:19.661Z"
   },
   {
    "duration": 5,
    "start_time": "2022-07-15T20:54:19.675Z"
   },
   {
    "duration": 9,
    "start_time": "2022-07-15T20:54:19.682Z"
   },
   {
    "duration": 4,
    "start_time": "2022-07-15T20:54:19.694Z"
   },
   {
    "duration": 56,
    "start_time": "2022-07-15T20:54:19.700Z"
   },
   {
    "duration": 10,
    "start_time": "2022-07-15T20:54:19.757Z"
   },
   {
    "duration": 13,
    "start_time": "2022-07-15T20:54:19.768Z"
   },
   {
    "duration": 29,
    "start_time": "2022-07-15T20:54:19.782Z"
   },
   {
    "duration": 18,
    "start_time": "2022-07-15T20:54:19.826Z"
   },
   {
    "duration": 11,
    "start_time": "2022-07-15T20:54:19.846Z"
   },
   {
    "duration": 7,
    "start_time": "2022-07-15T20:54:19.859Z"
   },
   {
    "duration": 17,
    "start_time": "2022-07-15T20:54:19.868Z"
   },
   {
    "duration": 9,
    "start_time": "2022-07-15T20:54:19.887Z"
   },
   {
    "duration": 4,
    "start_time": "2022-07-15T20:54:19.897Z"
   },
   {
    "duration": 12,
    "start_time": "2022-07-15T20:54:19.924Z"
   },
   {
    "duration": 10,
    "start_time": "2022-07-15T20:54:19.937Z"
   },
   {
    "duration": 9,
    "start_time": "2022-07-15T20:54:19.949Z"
   },
   {
    "duration": 7,
    "start_time": "2022-07-15T20:54:19.960Z"
   },
   {
    "duration": 8,
    "start_time": "2022-07-15T20:54:19.969Z"
   },
   {
    "duration": 64,
    "start_time": "2022-07-15T20:58:06.583Z"
   },
   {
    "duration": 16,
    "start_time": "2022-07-15T20:58:11.363Z"
   },
   {
    "duration": 433,
    "start_time": "2022-07-15T20:58:20.177Z"
   },
   {
    "duration": 75,
    "start_time": "2022-07-15T20:58:20.612Z"
   },
   {
    "duration": 0,
    "start_time": "2022-07-15T20:58:20.689Z"
   },
   {
    "duration": 0,
    "start_time": "2022-07-15T20:58:20.690Z"
   },
   {
    "duration": 0,
    "start_time": "2022-07-15T20:58:20.691Z"
   },
   {
    "duration": 0,
    "start_time": "2022-07-15T20:58:20.693Z"
   },
   {
    "duration": 0,
    "start_time": "2022-07-15T20:58:20.694Z"
   },
   {
    "duration": 0,
    "start_time": "2022-07-15T20:58:20.695Z"
   },
   {
    "duration": 0,
    "start_time": "2022-07-15T20:58:20.696Z"
   },
   {
    "duration": 0,
    "start_time": "2022-07-15T20:58:20.697Z"
   },
   {
    "duration": 0,
    "start_time": "2022-07-15T20:58:20.698Z"
   },
   {
    "duration": 0,
    "start_time": "2022-07-15T20:58:20.699Z"
   },
   {
    "duration": 0,
    "start_time": "2022-07-15T20:58:20.700Z"
   },
   {
    "duration": 0,
    "start_time": "2022-07-15T20:58:20.701Z"
   },
   {
    "duration": 0,
    "start_time": "2022-07-15T20:58:20.702Z"
   },
   {
    "duration": 0,
    "start_time": "2022-07-15T20:58:20.723Z"
   },
   {
    "duration": 0,
    "start_time": "2022-07-15T20:58:20.725Z"
   },
   {
    "duration": 0,
    "start_time": "2022-07-15T20:58:20.726Z"
   },
   {
    "duration": 0,
    "start_time": "2022-07-15T20:58:20.727Z"
   },
   {
    "duration": 0,
    "start_time": "2022-07-15T20:58:20.728Z"
   },
   {
    "duration": 0,
    "start_time": "2022-07-15T20:58:20.729Z"
   },
   {
    "duration": 0,
    "start_time": "2022-07-15T20:58:20.730Z"
   },
   {
    "duration": 0,
    "start_time": "2022-07-15T20:58:20.731Z"
   },
   {
    "duration": 0,
    "start_time": "2022-07-15T20:58:20.732Z"
   },
   {
    "duration": 0,
    "start_time": "2022-07-15T20:58:20.733Z"
   },
   {
    "duration": 80,
    "start_time": "2022-07-15T20:58:35.936Z"
   },
   {
    "duration": 29,
    "start_time": "2022-07-15T20:58:36.019Z"
   },
   {
    "duration": 20,
    "start_time": "2022-07-15T20:58:36.050Z"
   },
   {
    "duration": 11,
    "start_time": "2022-07-15T20:58:36.072Z"
   },
   {
    "duration": 57,
    "start_time": "2022-07-15T20:58:36.086Z"
   },
   {
    "duration": 4,
    "start_time": "2022-07-15T20:58:36.144Z"
   },
   {
    "duration": 11,
    "start_time": "2022-07-15T20:58:36.150Z"
   },
   {
    "duration": 4,
    "start_time": "2022-07-15T20:58:36.163Z"
   },
   {
    "duration": 8,
    "start_time": "2022-07-15T20:58:36.170Z"
   },
   {
    "duration": 7,
    "start_time": "2022-07-15T20:58:36.179Z"
   },
   {
    "duration": 59,
    "start_time": "2022-07-15T20:58:36.188Z"
   },
   {
    "duration": 10,
    "start_time": "2022-07-15T20:58:36.249Z"
   },
   {
    "duration": 7,
    "start_time": "2022-07-15T20:58:36.260Z"
   },
   {
    "duration": 21,
    "start_time": "2022-07-15T20:58:36.270Z"
   },
   {
    "duration": 38,
    "start_time": "2022-07-15T20:58:36.292Z"
   },
   {
    "duration": 12,
    "start_time": "2022-07-15T20:58:36.332Z"
   },
   {
    "duration": 6,
    "start_time": "2022-07-15T20:58:36.346Z"
   },
   {
    "duration": 18,
    "start_time": "2022-07-15T20:58:36.353Z"
   },
   {
    "duration": 10,
    "start_time": "2022-07-15T20:58:36.372Z"
   },
   {
    "duration": 3,
    "start_time": "2022-07-15T20:58:36.384Z"
   },
   {
    "duration": 11,
    "start_time": "2022-07-15T20:58:36.389Z"
   },
   {
    "duration": 8,
    "start_time": "2022-07-15T20:58:36.423Z"
   },
   {
    "duration": 10,
    "start_time": "2022-07-15T20:58:36.432Z"
   },
   {
    "duration": 9,
    "start_time": "2022-07-15T20:58:36.443Z"
   },
   {
    "duration": 10,
    "start_time": "2022-07-15T20:58:36.453Z"
   },
   {
    "duration": 7,
    "start_time": "2022-07-15T21:07:54.951Z"
   },
   {
    "duration": 11,
    "start_time": "2022-07-15T21:08:18.988Z"
   },
   {
    "duration": 8,
    "start_time": "2022-07-15T21:08:26.294Z"
   },
   {
    "duration": 506,
    "start_time": "2022-07-15T21:08:49.896Z"
   },
   {
    "duration": 32,
    "start_time": "2022-07-15T21:08:50.404Z"
   },
   {
    "duration": 17,
    "start_time": "2022-07-15T21:08:50.438Z"
   },
   {
    "duration": 10,
    "start_time": "2022-07-15T21:08:50.457Z"
   },
   {
    "duration": 40,
    "start_time": "2022-07-15T21:08:50.470Z"
   },
   {
    "duration": 24,
    "start_time": "2022-07-15T21:08:50.512Z"
   },
   {
    "duration": 17,
    "start_time": "2022-07-15T21:08:50.539Z"
   },
   {
    "duration": 7,
    "start_time": "2022-07-15T21:08:50.558Z"
   },
   {
    "duration": 23,
    "start_time": "2022-07-15T21:08:50.567Z"
   },
   {
    "duration": 8,
    "start_time": "2022-07-15T21:08:50.592Z"
   },
   {
    "duration": 55,
    "start_time": "2022-07-15T21:08:50.602Z"
   },
   {
    "duration": 13,
    "start_time": "2022-07-15T21:08:50.660Z"
   },
   {
    "duration": 8,
    "start_time": "2022-07-15T21:08:50.675Z"
   },
   {
    "duration": 36,
    "start_time": "2022-07-15T21:08:50.687Z"
   },
   {
    "duration": 22,
    "start_time": "2022-07-15T21:08:50.725Z"
   },
   {
    "duration": 11,
    "start_time": "2022-07-15T21:08:50.749Z"
   },
   {
    "duration": 10,
    "start_time": "2022-07-15T21:08:50.761Z"
   },
   {
    "duration": 14,
    "start_time": "2022-07-15T21:08:50.773Z"
   },
   {
    "duration": 13,
    "start_time": "2022-07-15T21:08:50.788Z"
   },
   {
    "duration": 20,
    "start_time": "2022-07-15T21:08:50.803Z"
   },
   {
    "duration": 14,
    "start_time": "2022-07-15T21:08:50.831Z"
   },
   {
    "duration": 11,
    "start_time": "2022-07-15T21:08:50.846Z"
   },
   {
    "duration": 10,
    "start_time": "2022-07-15T21:08:50.859Z"
   },
   {
    "duration": 8,
    "start_time": "2022-07-15T21:08:50.871Z"
   },
   {
    "duration": 9,
    "start_time": "2022-07-15T21:08:50.881Z"
   },
   {
    "duration": 445,
    "start_time": "2022-07-15T21:29:22.848Z"
   },
   {
    "duration": 31,
    "start_time": "2022-07-15T21:29:23.295Z"
   },
   {
    "duration": 23,
    "start_time": "2022-07-15T21:29:23.328Z"
   },
   {
    "duration": 15,
    "start_time": "2022-07-15T21:29:23.354Z"
   },
   {
    "duration": 64,
    "start_time": "2022-07-15T21:29:23.371Z"
   },
   {
    "duration": 4,
    "start_time": "2022-07-15T21:29:23.437Z"
   },
   {
    "duration": 16,
    "start_time": "2022-07-15T21:29:23.442Z"
   },
   {
    "duration": 7,
    "start_time": "2022-07-15T21:29:23.460Z"
   },
   {
    "duration": 14,
    "start_time": "2022-07-15T21:29:23.468Z"
   },
   {
    "duration": 6,
    "start_time": "2022-07-15T21:29:23.484Z"
   },
   {
    "duration": 53,
    "start_time": "2022-07-15T21:29:23.492Z"
   },
   {
    "duration": 9,
    "start_time": "2022-07-15T21:29:23.547Z"
   },
   {
    "duration": 6,
    "start_time": "2022-07-15T21:29:23.558Z"
   },
   {
    "duration": 22,
    "start_time": "2022-07-15T21:29:23.565Z"
   },
   {
    "duration": 35,
    "start_time": "2022-07-15T21:29:23.588Z"
   },
   {
    "duration": 11,
    "start_time": "2022-07-15T21:29:23.624Z"
   },
   {
    "duration": 6,
    "start_time": "2022-07-15T21:29:23.637Z"
   },
   {
    "duration": 12,
    "start_time": "2022-07-15T21:29:23.644Z"
   },
   {
    "duration": 10,
    "start_time": "2022-07-15T21:29:23.657Z"
   },
   {
    "duration": 5,
    "start_time": "2022-07-15T21:29:23.669Z"
   },
   {
    "duration": 12,
    "start_time": "2022-07-15T21:29:23.676Z"
   },
   {
    "duration": 8,
    "start_time": "2022-07-15T21:29:23.709Z"
   },
   {
    "duration": 10,
    "start_time": "2022-07-15T21:29:23.719Z"
   },
   {
    "duration": 7,
    "start_time": "2022-07-15T21:29:23.731Z"
   },
   {
    "duration": 10,
    "start_time": "2022-07-15T21:29:23.740Z"
   },
   {
    "duration": 44,
    "start_time": "2022-07-16T10:16:09.180Z"
   },
   {
    "duration": 592,
    "start_time": "2022-07-16T10:16:12.614Z"
   },
   {
    "duration": 23,
    "start_time": "2022-07-16T10:16:13.208Z"
   },
   {
    "duration": 14,
    "start_time": "2022-07-16T10:16:13.233Z"
   },
   {
    "duration": 11,
    "start_time": "2022-07-16T10:16:13.249Z"
   },
   {
    "duration": 35,
    "start_time": "2022-07-16T10:16:13.261Z"
   },
   {
    "duration": 3,
    "start_time": "2022-07-16T10:16:13.298Z"
   },
   {
    "duration": 9,
    "start_time": "2022-07-16T10:16:13.303Z"
   },
   {
    "duration": 4,
    "start_time": "2022-07-16T10:16:13.314Z"
   },
   {
    "duration": 32,
    "start_time": "2022-07-16T10:16:13.320Z"
   },
   {
    "duration": 6,
    "start_time": "2022-07-16T10:16:13.356Z"
   },
   {
    "duration": 34,
    "start_time": "2022-07-16T10:16:13.364Z"
   },
   {
    "duration": 11,
    "start_time": "2022-07-16T10:16:13.400Z"
   },
   {
    "duration": 41,
    "start_time": "2022-07-16T10:16:13.413Z"
   },
   {
    "duration": 21,
    "start_time": "2022-07-16T10:16:13.455Z"
   },
   {
    "duration": 17,
    "start_time": "2022-07-16T10:16:13.478Z"
   },
   {
    "duration": 12,
    "start_time": "2022-07-16T10:16:13.497Z"
   },
   {
    "duration": 6,
    "start_time": "2022-07-16T10:16:13.510Z"
   },
   {
    "duration": 36,
    "start_time": "2022-07-16T10:16:13.518Z"
   },
   {
    "duration": 7,
    "start_time": "2022-07-16T10:16:13.556Z"
   },
   {
    "duration": 4,
    "start_time": "2022-07-16T10:16:13.565Z"
   },
   {
    "duration": 11,
    "start_time": "2022-07-16T10:16:13.571Z"
   },
   {
    "duration": 46,
    "start_time": "2022-07-16T10:16:13.583Z"
   },
   {
    "duration": 73,
    "start_time": "2022-07-16T10:16:14.420Z"
   },
   {
    "duration": 16,
    "start_time": "2022-07-16T10:16:14.495Z"
   },
   {
    "duration": 17,
    "start_time": "2022-07-16T10:16:14.513Z"
   },
   {
    "duration": 26,
    "start_time": "2022-07-16T10:16:14.531Z"
   },
   {
    "duration": 37,
    "start_time": "2022-07-16T10:16:14.559Z"
   },
   {
    "duration": 4,
    "start_time": "2022-07-16T10:16:14.598Z"
   },
   {
    "duration": 14,
    "start_time": "2022-07-16T10:16:14.604Z"
   },
   {
    "duration": 5,
    "start_time": "2022-07-16T10:16:14.619Z"
   },
   {
    "duration": 7,
    "start_time": "2022-07-16T10:16:14.651Z"
   },
   {
    "duration": 6,
    "start_time": "2022-07-16T10:16:14.660Z"
   },
   {
    "duration": 36,
    "start_time": "2022-07-16T10:16:14.668Z"
   },
   {
    "duration": 9,
    "start_time": "2022-07-16T10:16:14.706Z"
   },
   {
    "duration": 7,
    "start_time": "2022-07-16T10:16:14.716Z"
   },
   {
    "duration": 42,
    "start_time": "2022-07-16T10:16:14.726Z"
   },
   {
    "duration": 19,
    "start_time": "2022-07-16T10:16:14.770Z"
   },
   {
    "duration": 11,
    "start_time": "2022-07-16T10:16:14.791Z"
   },
   {
    "duration": 5,
    "start_time": "2022-07-16T10:16:14.804Z"
   },
   {
    "duration": 12,
    "start_time": "2022-07-16T10:16:14.811Z"
   },
   {
    "duration": 33,
    "start_time": "2022-07-16T10:16:14.824Z"
   },
   {
    "duration": 4,
    "start_time": "2022-07-16T10:16:14.858Z"
   },
   {
    "duration": 11,
    "start_time": "2022-07-16T10:16:14.864Z"
   },
   {
    "duration": 20,
    "start_time": "2022-07-16T10:16:14.877Z"
   },
   {
    "duration": 0,
    "start_time": "2022-07-16T10:16:14.898Z"
   },
   {
    "duration": 0,
    "start_time": "2022-07-16T10:16:14.900Z"
   },
   {
    "duration": 0,
    "start_time": "2022-07-16T10:16:14.901Z"
   },
   {
    "duration": 10,
    "start_time": "2022-07-16T10:16:49.779Z"
   },
   {
    "duration": 11,
    "start_time": "2022-07-16T10:16:58.034Z"
   },
   {
    "duration": 19,
    "start_time": "2022-07-16T10:18:03.364Z"
   },
   {
    "duration": 1517,
    "start_time": "2022-07-16T10:18:31.298Z"
   },
   {
    "duration": 19,
    "start_time": "2022-07-16T10:18:42.728Z"
   },
   {
    "duration": 1279,
    "start_time": "2022-07-16T10:18:59.975Z"
   },
   {
    "duration": 1334,
    "start_time": "2022-07-16T10:19:03.387Z"
   },
   {
    "duration": 19,
    "start_time": "2022-07-16T10:19:10.382Z"
   },
   {
    "duration": 20,
    "start_time": "2022-07-16T10:19:27.951Z"
   },
   {
    "duration": 18,
    "start_time": "2022-07-16T10:19:31.706Z"
   },
   {
    "duration": 1372,
    "start_time": "2022-07-16T10:21:00.974Z"
   },
   {
    "duration": 1245,
    "start_time": "2022-07-16T10:21:07.490Z"
   },
   {
    "duration": 14,
    "start_time": "2022-07-16T10:21:11.257Z"
   },
   {
    "duration": 1360,
    "start_time": "2022-07-16T10:21:14.578Z"
   },
   {
    "duration": 1273,
    "start_time": "2022-07-16T10:21:20.758Z"
   },
   {
    "duration": 2065,
    "start_time": "2022-07-16T10:21:24.856Z"
   },
   {
    "duration": 17,
    "start_time": "2022-07-16T10:24:06.196Z"
   },
   {
    "duration": 1486,
    "start_time": "2022-07-16T10:24:13.686Z"
   },
   {
    "duration": 1341,
    "start_time": "2022-07-16T10:24:17.738Z"
   },
   {
    "duration": 1325,
    "start_time": "2022-07-16T10:24:20.906Z"
   },
   {
    "duration": 1413,
    "start_time": "2022-07-16T10:25:10.675Z"
   },
   {
    "duration": 1412,
    "start_time": "2022-07-16T10:25:16.159Z"
   },
   {
    "duration": 1557,
    "start_time": "2022-07-16T10:25:19.164Z"
   },
   {
    "duration": 9,
    "start_time": "2022-07-16T10:26:04.782Z"
   },
   {
    "duration": 9,
    "start_time": "2022-07-16T10:26:06.605Z"
   },
   {
    "duration": 27,
    "start_time": "2022-07-16T10:26:13.549Z"
   },
   {
    "duration": 28,
    "start_time": "2022-07-16T10:28:58.001Z"
   },
   {
    "duration": 20,
    "start_time": "2022-07-16T10:29:04.932Z"
   },
   {
    "duration": 18,
    "start_time": "2022-07-16T10:29:54.661Z"
   },
   {
    "duration": 21,
    "start_time": "2022-07-16T10:29:58.997Z"
   },
   {
    "duration": 26,
    "start_time": "2022-07-16T10:31:46.071Z"
   },
   {
    "duration": 25,
    "start_time": "2022-07-16T10:31:51.428Z"
   },
   {
    "duration": 19,
    "start_time": "2022-07-16T10:32:52.830Z"
   },
   {
    "duration": 31,
    "start_time": "2022-07-16T10:32:56.531Z"
   },
   {
    "duration": 1243,
    "start_time": "2022-07-16T10:34:17.902Z"
   },
   {
    "duration": 33,
    "start_time": "2022-07-16T10:34:28.804Z"
   },
   {
    "duration": 7,
    "start_time": "2022-07-16T10:34:47.090Z"
   },
   {
    "duration": 51,
    "start_time": "2022-07-16T10:34:53.757Z"
   },
   {
    "duration": 47,
    "start_time": "2022-07-16T10:35:08.093Z"
   },
   {
    "duration": 55,
    "start_time": "2022-07-16T10:35:12.609Z"
   },
   {
    "duration": 59,
    "start_time": "2022-07-16T10:35:15.346Z"
   },
   {
    "duration": 67,
    "start_time": "2022-07-16T10:35:24.295Z"
   },
   {
    "duration": 14,
    "start_time": "2022-07-16T10:35:24.364Z"
   },
   {
    "duration": 15,
    "start_time": "2022-07-16T10:35:24.380Z"
   },
   {
    "duration": 9,
    "start_time": "2022-07-16T10:35:24.397Z"
   },
   {
    "duration": 58,
    "start_time": "2022-07-16T10:35:24.409Z"
   },
   {
    "duration": 4,
    "start_time": "2022-07-16T10:35:24.468Z"
   },
   {
    "duration": 10,
    "start_time": "2022-07-16T10:35:24.474Z"
   },
   {
    "duration": 4,
    "start_time": "2022-07-16T10:35:24.486Z"
   },
   {
    "duration": 6,
    "start_time": "2022-07-16T10:35:24.492Z"
   },
   {
    "duration": 5,
    "start_time": "2022-07-16T10:35:24.500Z"
   },
   {
    "duration": 62,
    "start_time": "2022-07-16T10:35:24.506Z"
   },
   {
    "duration": 10,
    "start_time": "2022-07-16T10:35:24.571Z"
   },
   {
    "duration": 7,
    "start_time": "2022-07-16T10:35:24.582Z"
   },
   {
    "duration": 23,
    "start_time": "2022-07-16T10:35:24.592Z"
   },
   {
    "duration": 16,
    "start_time": "2022-07-16T10:35:24.616Z"
   },
   {
    "duration": 27,
    "start_time": "2022-07-16T10:35:24.633Z"
   },
   {
    "duration": 5,
    "start_time": "2022-07-16T10:35:24.662Z"
   },
   {
    "duration": 19,
    "start_time": "2022-07-16T10:35:24.669Z"
   },
   {
    "duration": 8,
    "start_time": "2022-07-16T10:35:24.691Z"
   },
   {
    "duration": 3,
    "start_time": "2022-07-16T10:35:24.700Z"
   },
   {
    "duration": 10,
    "start_time": "2022-07-16T10:35:24.705Z"
   },
   {
    "duration": 69,
    "start_time": "2022-07-16T10:35:24.716Z"
   },
   {
    "duration": 7,
    "start_time": "2022-07-16T10:35:24.786Z"
   },
   {
    "duration": 7,
    "start_time": "2022-07-16T10:35:24.794Z"
   },
   {
    "duration": 8,
    "start_time": "2022-07-16T10:35:24.802Z"
   },
   {
    "duration": 466,
    "start_time": "2022-07-16T10:35:35.070Z"
   },
   {
    "duration": 20,
    "start_time": "2022-07-16T10:35:35.538Z"
   },
   {
    "duration": 15,
    "start_time": "2022-07-16T10:35:35.559Z"
   },
   {
    "duration": 10,
    "start_time": "2022-07-16T10:35:35.576Z"
   },
   {
    "duration": 31,
    "start_time": "2022-07-16T10:35:35.589Z"
   },
   {
    "duration": 4,
    "start_time": "2022-07-16T10:35:35.621Z"
   },
   {
    "duration": 8,
    "start_time": "2022-07-16T10:35:35.652Z"
   },
   {
    "duration": 7,
    "start_time": "2022-07-16T10:35:35.661Z"
   },
   {
    "duration": 10,
    "start_time": "2022-07-16T10:35:35.670Z"
   },
   {
    "duration": 9,
    "start_time": "2022-07-16T10:35:35.682Z"
   },
   {
    "duration": 39,
    "start_time": "2022-07-16T10:35:35.692Z"
   },
   {
    "duration": 27,
    "start_time": "2022-07-16T10:35:35.732Z"
   },
   {
    "duration": 8,
    "start_time": "2022-07-16T10:35:35.761Z"
   },
   {
    "duration": 18,
    "start_time": "2022-07-16T10:35:35.772Z"
   },
   {
    "duration": 15,
    "start_time": "2022-07-16T10:35:35.792Z"
   },
   {
    "duration": 9,
    "start_time": "2022-07-16T10:35:35.809Z"
   },
   {
    "duration": 6,
    "start_time": "2022-07-16T10:35:35.820Z"
   },
   {
    "duration": 31,
    "start_time": "2022-07-16T10:35:35.828Z"
   },
   {
    "duration": 8,
    "start_time": "2022-07-16T10:35:35.861Z"
   },
   {
    "duration": 5,
    "start_time": "2022-07-16T10:35:35.870Z"
   },
   {
    "duration": 13,
    "start_time": "2022-07-16T10:35:35.876Z"
   },
   {
    "duration": 63,
    "start_time": "2022-07-16T10:35:35.890Z"
   },
   {
    "duration": 8,
    "start_time": "2022-07-16T10:35:35.954Z"
   },
   {
    "duration": 9,
    "start_time": "2022-07-16T10:35:35.963Z"
   },
   {
    "duration": 8,
    "start_time": "2022-07-16T10:35:35.974Z"
   },
   {
    "duration": 45,
    "start_time": "2022-07-16T10:36:01.269Z"
   },
   {
    "duration": 28,
    "start_time": "2022-07-16T10:36:26.398Z"
   },
   {
    "duration": 76,
    "start_time": "2022-07-16T10:37:23.171Z"
   },
   {
    "duration": 85,
    "start_time": "2022-07-16T10:37:26.722Z"
   },
   {
    "duration": 13,
    "start_time": "2022-07-16T10:37:28.250Z"
   },
   {
    "duration": 15,
    "start_time": "2022-07-16T10:37:42.393Z"
   },
   {
    "duration": 1297,
    "start_time": "2022-07-16T10:37:56.683Z"
   },
   {
    "duration": 13,
    "start_time": "2022-07-16T10:37:59.757Z"
   },
   {
    "duration": 15,
    "start_time": "2022-07-16T10:38:15.490Z"
   },
   {
    "duration": 14,
    "start_time": "2022-07-16T10:39:57.847Z"
   },
   {
    "duration": 1441,
    "start_time": "2022-07-16T10:50:09.548Z"
   },
   {
    "duration": 19,
    "start_time": "2022-07-16T10:50:17.209Z"
   },
   {
    "duration": 24,
    "start_time": "2022-07-16T10:50:35.599Z"
   },
   {
    "duration": 22,
    "start_time": "2022-07-16T10:50:46.208Z"
   },
   {
    "duration": 33,
    "start_time": "2022-07-16T10:51:00.316Z"
   },
   {
    "duration": 74,
    "start_time": "2022-07-16T10:52:21.907Z"
   },
   {
    "duration": 30,
    "start_time": "2022-07-16T11:14:34.301Z"
   },
   {
    "duration": 20,
    "start_time": "2022-07-16T11:15:06.325Z"
   },
   {
    "duration": 26,
    "start_time": "2022-07-16T11:15:30.889Z"
   },
   {
    "duration": 24,
    "start_time": "2022-07-16T11:15:46.530Z"
   },
   {
    "duration": 25,
    "start_time": "2022-07-16T11:15:57.659Z"
   },
   {
    "duration": 24,
    "start_time": "2022-07-16T11:16:04.811Z"
   },
   {
    "duration": 65,
    "start_time": "2022-07-16T11:19:47.091Z"
   },
   {
    "duration": 451,
    "start_time": "2022-07-16T11:19:52.260Z"
   },
   {
    "duration": 21,
    "start_time": "2022-07-16T11:19:52.713Z"
   },
   {
    "duration": 14,
    "start_time": "2022-07-16T11:19:52.736Z"
   },
   {
    "duration": 12,
    "start_time": "2022-07-16T11:19:52.752Z"
   },
   {
    "duration": 32,
    "start_time": "2022-07-16T11:19:52.766Z"
   },
   {
    "duration": 3,
    "start_time": "2022-07-16T11:19:52.800Z"
   },
   {
    "duration": 10,
    "start_time": "2022-07-16T11:19:52.805Z"
   },
   {
    "duration": 4,
    "start_time": "2022-07-16T11:19:52.817Z"
   },
   {
    "duration": 31,
    "start_time": "2022-07-16T11:19:52.823Z"
   },
   {
    "duration": 4,
    "start_time": "2022-07-16T11:19:52.856Z"
   },
   {
    "duration": 33,
    "start_time": "2022-07-16T11:19:52.862Z"
   },
   {
    "duration": 9,
    "start_time": "2022-07-16T11:19:52.896Z"
   },
   {
    "duration": 4,
    "start_time": "2022-07-16T11:19:52.906Z"
   },
   {
    "duration": 45,
    "start_time": "2022-07-16T11:19:52.912Z"
   },
   {
    "duration": 17,
    "start_time": "2022-07-16T11:19:52.959Z"
   },
   {
    "duration": 13,
    "start_time": "2022-07-16T11:19:52.978Z"
   },
   {
    "duration": 7,
    "start_time": "2022-07-16T11:19:52.993Z"
   },
   {
    "duration": 12,
    "start_time": "2022-07-16T11:19:53.002Z"
   },
   {
    "duration": 5,
    "start_time": "2022-07-16T11:19:53.016Z"
   },
   {
    "duration": 29,
    "start_time": "2022-07-16T11:19:53.023Z"
   },
   {
    "duration": 11,
    "start_time": "2022-07-16T11:19:53.054Z"
   },
   {
    "duration": 50,
    "start_time": "2022-07-16T11:19:53.067Z"
   },
   {
    "duration": 33,
    "start_time": "2022-07-16T11:19:53.119Z"
   },
   {
    "duration": 9,
    "start_time": "2022-07-16T11:19:53.154Z"
   },
   {
    "duration": 13,
    "start_time": "2022-07-16T11:19:53.165Z"
   },
   {
    "duration": 447,
    "start_time": "2022-07-16T11:20:11.785Z"
   },
   {
    "duration": 62,
    "start_time": "2022-07-16T11:20:21.523Z"
   },
   {
    "duration": 62,
    "start_time": "2022-07-16T11:20:28.384Z"
   },
   {
    "duration": 69,
    "start_time": "2022-07-16T11:20:34.504Z"
   },
   {
    "duration": 121,
    "start_time": "2022-07-16T11:21:00.789Z"
   },
   {
    "duration": 505,
    "start_time": "2022-07-16T11:21:04.880Z"
   },
   {
    "duration": 20,
    "start_time": "2022-07-16T11:21:05.387Z"
   },
   {
    "duration": 15,
    "start_time": "2022-07-16T11:21:05.408Z"
   },
   {
    "duration": 28,
    "start_time": "2022-07-16T11:21:05.425Z"
   },
   {
    "duration": 34,
    "start_time": "2022-07-16T11:21:05.455Z"
   },
   {
    "duration": 3,
    "start_time": "2022-07-16T11:21:05.491Z"
   },
   {
    "duration": 20,
    "start_time": "2022-07-16T11:21:05.496Z"
   },
   {
    "duration": 4,
    "start_time": "2022-07-16T11:21:05.518Z"
   },
   {
    "duration": 29,
    "start_time": "2022-07-16T11:21:05.523Z"
   },
   {
    "duration": 4,
    "start_time": "2022-07-16T11:21:05.555Z"
   },
   {
    "duration": 35,
    "start_time": "2022-07-16T11:21:05.560Z"
   },
   {
    "duration": 9,
    "start_time": "2022-07-16T11:21:05.596Z"
   },
   {
    "duration": 3,
    "start_time": "2022-07-16T11:21:05.607Z"
   },
   {
    "duration": 43,
    "start_time": "2022-07-16T11:21:05.612Z"
   },
   {
    "duration": 17,
    "start_time": "2022-07-16T11:21:05.656Z"
   },
   {
    "duration": 11,
    "start_time": "2022-07-16T11:21:05.674Z"
   },
   {
    "duration": 4,
    "start_time": "2022-07-16T11:21:05.687Z"
   },
   {
    "duration": 12,
    "start_time": "2022-07-16T11:21:05.693Z"
   },
   {
    "duration": 10,
    "start_time": "2022-07-16T11:21:05.706Z"
   },
   {
    "duration": 4,
    "start_time": "2022-07-16T11:21:05.718Z"
   },
   {
    "duration": 39,
    "start_time": "2022-07-16T11:21:05.723Z"
   },
   {
    "duration": 30,
    "start_time": "2022-07-16T11:21:05.764Z"
   },
   {
    "duration": 25,
    "start_time": "2022-07-16T11:21:05.796Z"
   },
   {
    "duration": 8,
    "start_time": "2022-07-16T11:21:05.823Z"
   },
   {
    "duration": 9,
    "start_time": "2022-07-16T11:21:05.852Z"
   },
   {
    "duration": 26,
    "start_time": "2022-07-16T11:22:53.191Z"
   },
   {
    "duration": 25,
    "start_time": "2022-07-16T11:23:15.221Z"
   },
   {
    "duration": 30,
    "start_time": "2022-07-16T11:23:24.826Z"
   },
   {
    "duration": 126,
    "start_time": "2022-07-16T11:27:16.687Z"
   },
   {
    "duration": 29,
    "start_time": "2022-07-16T11:28:06.187Z"
   },
   {
    "duration": 33,
    "start_time": "2022-07-16T11:28:26.066Z"
   },
   {
    "duration": 30,
    "start_time": "2022-07-16T11:39:42.774Z"
   },
   {
    "duration": 35,
    "start_time": "2022-07-16T11:39:49.946Z"
   },
   {
    "duration": 28,
    "start_time": "2022-07-16T11:49:00.679Z"
   },
   {
    "duration": 29,
    "start_time": "2022-07-16T11:49:18.377Z"
   },
   {
    "duration": 78,
    "start_time": "2022-07-16T11:52:36.024Z"
   },
   {
    "duration": 74,
    "start_time": "2022-07-16T11:52:39.471Z"
   },
   {
    "duration": 76,
    "start_time": "2022-07-16T11:53:05.456Z"
   },
   {
    "duration": 509,
    "start_time": "2022-07-16T12:03:30.520Z"
   },
   {
    "duration": 18,
    "start_time": "2022-07-16T12:03:31.031Z"
   },
   {
    "duration": 28,
    "start_time": "2022-07-16T12:03:31.051Z"
   },
   {
    "duration": 25,
    "start_time": "2022-07-16T12:03:31.081Z"
   },
   {
    "duration": 35,
    "start_time": "2022-07-16T12:03:31.109Z"
   },
   {
    "duration": 4,
    "start_time": "2022-07-16T12:03:31.146Z"
   },
   {
    "duration": 52,
    "start_time": "2022-07-16T12:03:31.151Z"
   },
   {
    "duration": 5,
    "start_time": "2022-07-16T12:03:31.205Z"
   },
   {
    "duration": 9,
    "start_time": "2022-07-16T12:03:31.211Z"
   },
   {
    "duration": 11,
    "start_time": "2022-07-16T12:03:31.221Z"
   },
   {
    "duration": 41,
    "start_time": "2022-07-16T12:03:31.233Z"
   },
   {
    "duration": 14,
    "start_time": "2022-07-16T12:03:31.275Z"
   },
   {
    "duration": 13,
    "start_time": "2022-07-16T12:03:31.290Z"
   },
   {
    "duration": 20,
    "start_time": "2022-07-16T12:03:31.305Z"
   },
   {
    "duration": 35,
    "start_time": "2022-07-16T12:03:31.326Z"
   },
   {
    "duration": 22,
    "start_time": "2022-07-16T12:03:31.369Z"
   },
   {
    "duration": 12,
    "start_time": "2022-07-16T12:03:31.394Z"
   },
   {
    "duration": 11,
    "start_time": "2022-07-16T12:03:31.408Z"
   },
   {
    "duration": 9,
    "start_time": "2022-07-16T12:03:31.420Z"
   },
   {
    "duration": 9,
    "start_time": "2022-07-16T12:03:31.430Z"
   },
   {
    "duration": 10,
    "start_time": "2022-07-16T12:03:31.441Z"
   },
   {
    "duration": 60,
    "start_time": "2022-07-16T12:03:31.452Z"
   },
   {
    "duration": 25,
    "start_time": "2022-07-16T12:03:31.513Z"
   },
   {
    "duration": 39,
    "start_time": "2022-07-16T12:03:31.539Z"
   },
   {
    "duration": 35,
    "start_time": "2022-07-16T12:03:31.586Z"
   },
   {
    "duration": 599,
    "start_time": "2022-07-16T12:06:49.576Z"
   },
   {
    "duration": 27,
    "start_time": "2022-07-16T12:06:50.177Z"
   },
   {
    "duration": 19,
    "start_time": "2022-07-16T12:06:50.211Z"
   },
   {
    "duration": 50,
    "start_time": "2022-07-16T12:06:50.234Z"
   },
   {
    "duration": 47,
    "start_time": "2022-07-16T12:06:50.289Z"
   },
   {
    "duration": 5,
    "start_time": "2022-07-16T12:06:50.337Z"
   },
   {
    "duration": 34,
    "start_time": "2022-07-16T12:06:50.343Z"
   },
   {
    "duration": 23,
    "start_time": "2022-07-16T12:06:50.388Z"
   },
   {
    "duration": 8,
    "start_time": "2022-07-16T12:06:50.413Z"
   },
   {
    "duration": 5,
    "start_time": "2022-07-16T12:06:50.423Z"
   },
   {
    "duration": 50,
    "start_time": "2022-07-16T12:06:50.430Z"
   },
   {
    "duration": 19,
    "start_time": "2022-07-16T12:06:50.481Z"
   },
   {
    "duration": 13,
    "start_time": "2022-07-16T12:06:50.506Z"
   },
   {
    "duration": 64,
    "start_time": "2022-07-16T12:06:50.521Z"
   },
   {
    "duration": 27,
    "start_time": "2022-07-16T12:06:50.591Z"
   },
   {
    "duration": 21,
    "start_time": "2022-07-16T12:06:50.620Z"
   },
   {
    "duration": 4,
    "start_time": "2022-07-16T12:06:50.643Z"
   },
   {
    "duration": 67,
    "start_time": "2022-07-16T12:06:50.649Z"
   },
   {
    "duration": 9,
    "start_time": "2022-07-16T12:06:50.718Z"
   },
   {
    "duration": 5,
    "start_time": "2022-07-16T12:06:50.729Z"
   },
   {
    "duration": 12,
    "start_time": "2022-07-16T12:06:50.737Z"
   },
   {
    "duration": 60,
    "start_time": "2022-07-16T12:06:50.752Z"
   },
   {
    "duration": 59,
    "start_time": "2022-07-16T12:06:50.814Z"
   },
   {
    "duration": 38,
    "start_time": "2022-07-16T12:06:50.884Z"
   },
   {
    "duration": 59,
    "start_time": "2022-07-16T12:06:50.924Z"
   },
   {
    "duration": 45,
    "start_time": "2022-07-16T12:07:11.220Z"
   },
   {
    "duration": 62,
    "start_time": "2022-07-16T12:07:14.074Z"
   },
   {
    "duration": 46,
    "start_time": "2022-07-17T07:10:12.127Z"
   },
   {
    "duration": 715,
    "start_time": "2022-07-17T07:10:17.088Z"
   },
   {
    "duration": 19,
    "start_time": "2022-07-17T07:10:17.805Z"
   },
   {
    "duration": 21,
    "start_time": "2022-07-17T07:10:17.825Z"
   },
   {
    "duration": 10,
    "start_time": "2022-07-17T07:10:17.849Z"
   },
   {
    "duration": 33,
    "start_time": "2022-07-17T07:10:17.861Z"
   },
   {
    "duration": 4,
    "start_time": "2022-07-17T07:10:17.896Z"
   },
   {
    "duration": 24,
    "start_time": "2022-07-17T07:10:17.901Z"
   },
   {
    "duration": 4,
    "start_time": "2022-07-17T07:10:17.927Z"
   },
   {
    "duration": 11,
    "start_time": "2022-07-17T07:10:17.933Z"
   },
   {
    "duration": 4,
    "start_time": "2022-07-17T07:10:17.960Z"
   },
   {
    "duration": 46,
    "start_time": "2022-07-17T07:10:17.966Z"
   },
   {
    "duration": 9,
    "start_time": "2022-07-17T07:10:18.014Z"
   },
   {
    "duration": 8,
    "start_time": "2022-07-17T07:10:18.025Z"
   },
   {
    "duration": 35,
    "start_time": "2022-07-17T07:10:18.034Z"
   },
   {
    "duration": 22,
    "start_time": "2022-07-17T07:10:18.070Z"
   },
   {
    "duration": 12,
    "start_time": "2022-07-17T07:10:18.094Z"
   },
   {
    "duration": 8,
    "start_time": "2022-07-17T07:10:18.107Z"
   },
   {
    "duration": 16,
    "start_time": "2022-07-17T07:10:18.117Z"
   },
   {
    "duration": 6,
    "start_time": "2022-07-17T07:10:18.134Z"
   },
   {
    "duration": 21,
    "start_time": "2022-07-17T07:10:18.141Z"
   },
   {
    "duration": 10,
    "start_time": "2022-07-17T07:10:18.164Z"
   },
   {
    "duration": 26,
    "start_time": "2022-07-17T07:10:18.176Z"
   },
   {
    "duration": 311,
    "start_time": "2022-07-17T07:10:18.203Z"
   },
   {
    "duration": 27,
    "start_time": "2022-07-17T07:10:18.516Z"
   },
   {
    "duration": 35,
    "start_time": "2022-07-17T07:10:18.545Z"
   },
   {
    "duration": 26,
    "start_time": "2022-07-17T07:10:18.581Z"
   },
   {
    "duration": 709,
    "start_time": "2022-07-17T07:50:27.303Z"
   },
   {
    "duration": 18,
    "start_time": "2022-07-17T07:50:28.014Z"
   },
   {
    "duration": 16,
    "start_time": "2022-07-17T07:50:28.033Z"
   },
   {
    "duration": 11,
    "start_time": "2022-07-17T07:50:28.051Z"
   },
   {
    "duration": 36,
    "start_time": "2022-07-17T07:50:28.064Z"
   },
   {
    "duration": 4,
    "start_time": "2022-07-17T07:50:28.101Z"
   },
   {
    "duration": 9,
    "start_time": "2022-07-17T07:50:28.107Z"
   },
   {
    "duration": 4,
    "start_time": "2022-07-17T07:50:28.118Z"
   },
   {
    "duration": 9,
    "start_time": "2022-07-17T07:50:28.124Z"
   },
   {
    "duration": 29,
    "start_time": "2022-07-17T07:50:28.135Z"
   },
   {
    "duration": 36,
    "start_time": "2022-07-17T07:50:28.165Z"
   },
   {
    "duration": 11,
    "start_time": "2022-07-17T07:50:28.202Z"
   },
   {
    "duration": 7,
    "start_time": "2022-07-17T07:50:28.214Z"
   },
   {
    "duration": 40,
    "start_time": "2022-07-17T07:50:28.222Z"
   },
   {
    "duration": 25,
    "start_time": "2022-07-17T07:50:28.264Z"
   },
   {
    "duration": 13,
    "start_time": "2022-07-17T07:50:28.291Z"
   },
   {
    "duration": 20,
    "start_time": "2022-07-17T07:50:28.306Z"
   },
   {
    "duration": 12,
    "start_time": "2022-07-17T07:50:28.328Z"
   },
   {
    "duration": 19,
    "start_time": "2022-07-17T07:50:28.342Z"
   },
   {
    "duration": 4,
    "start_time": "2022-07-17T07:50:28.363Z"
   },
   {
    "duration": 12,
    "start_time": "2022-07-17T07:50:28.369Z"
   },
   {
    "duration": 27,
    "start_time": "2022-07-17T07:50:28.383Z"
   },
   {
    "duration": 500,
    "start_time": "2022-07-17T07:50:28.412Z"
   },
   {
    "duration": 31,
    "start_time": "2022-07-17T07:50:28.914Z"
   },
   {
    "duration": 44,
    "start_time": "2022-07-17T07:50:28.947Z"
   },
   {
    "duration": 32,
    "start_time": "2022-07-17T07:50:28.993Z"
   }
  ],
  "colab": {
   "name": "dpp_template_part2.ipynb",
   "provenance": []
  },
  "kernelspec": {
   "display_name": "Python 3 (ipykernel)",
   "language": "python",
   "name": "python3"
  },
  "language_info": {
   "codemirror_mode": {
    "name": "ipython",
    "version": 3
   },
   "file_extension": ".py",
   "mimetype": "text/x-python",
   "name": "python",
   "nbconvert_exporter": "python",
   "pygments_lexer": "ipython3",
   "version": "3.9.12"
  },
  "toc": {
   "base_numbering": 1,
   "nav_menu": {},
   "number_sections": true,
   "sideBar": true,
   "skip_h1_title": true,
   "title_cell": "Table of Contents",
   "title_sidebar": "Contents",
   "toc_cell": false,
   "toc_position": {},
   "toc_section_display": true,
   "toc_window_display": false
  }
 },
 "nbformat": 4,
 "nbformat_minor": 5
}
